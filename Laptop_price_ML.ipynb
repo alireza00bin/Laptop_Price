{
  "cells": [
    {
      "cell_type": "markdown",
      "metadata": {
        "id": "SWRAHuJSkOte"
      },
      "source": [
        "## Essential Libraries"
      ]
    },
    {
      "cell_type": "code",
      "execution_count": 1,
      "metadata": {
        "id": "B2w3Akyu4oxa"
      },
      "outputs": [],
      "source": [
        "import numpy as np\n",
        "import pandas as pd\n",
        "import matplotlib.pyplot as plt\n",
        "import seaborn as sns\n",
        "import tensorflow as tf\n",
        "from tensorflow import keras"
      ]
    },
    {
      "cell_type": "markdown",
      "metadata": {
        "id": "uyLyzbGGkR4E"
      },
      "source": [
        "## Read CSV File"
      ]
    },
    {
      "cell_type": "code",
      "execution_count": 2,
      "metadata": {
        "colab": {
          "base_uri": "https://localhost:8080/",
          "height": 1000
        },
        "id": "Q_zziIRe423x",
        "outputId": "c49e0ff5-8ea4-43d8-f3c9-ce978cfd8394"
      },
      "outputs": [
        {
          "output_type": "execute_result",
          "data": {
            "text/plain": [
              "                                               Title       Brand  \\\n",
              "0  لپ تاپ لنوو  ideapad 3  | 4gb ram | 1tb hdd | ...        لنوو   \n",
              "1  لپ تاپ لنوو ideapad gaming 3 | 16gb ram | 512g...        لنوو   \n",
              "2  مک بوک ایر 8gb ram | 256gb ssd | m1 | mgn63 ا ...  مک بوک ایر   \n",
              "3  لپ تاپ ایسوس fx517zr | 16gb ram | 512gb ssd | ...       ایسوس   \n",
              "4  لپ تاپ لنوو ideapad 3 | 12gb ram | 256gb ssd |...        لنوو   \n",
              "5  لپ تاپ hp elite x2 i5 1012 g2 ا hp elite x2 10...          hp   \n",
              "6  لپ تاپ ایسوس fx506lh | 8gb ram | 512gb ssd | i...       ایسوس   \n",
              "7  لپ تاپ اچ‌ پی victus 15 | 8gb ram | 512gb ssd ...          hp   \n",
              "8  لپ تاپ ایسوس مدل x515ep | 8gb ram | 512gb ssd ...       ایسوس   \n",
              "9  لپ تاپ مایکروسافت surface go | 8gb ram | 256gb...  مایکروسافت   \n",
              "\n",
              "             Weight CPUSeries CPUModel       Cache          RAM  \\\n",
              "0  حدود 1.7 کیلوگرم   Celeron    N4020   4 مگابایت   4 گیگابایت   \n",
              "1               2.3   Core i5      NaN        18MB         16GB   \n",
              "2      1.29 کیلوگرم  Apple M1       M1  12 مگابایت   8 گیگابایت   \n",
              "3               2.0   Core i7      NaN        24MB         16GB   \n",
              "4      2.43 کیلوگرم   Core i3   1115G4   6 مگابایت  12 گیگابایت   \n",
              "5               NaN       NaN      NaN         NaN          NaN   \n",
              "6               2.3   Core i5      NaN         8MB          8GB   \n",
              "7               2.2   Core i5      NaN        18MB          8GB   \n",
              "8               1.8   Core i5      NaN         8MB          8GB   \n",
              "9              1.11    Corei5   1035G1         6MB          8GB   \n",
              "\n",
              "                     Memory MemoryType       Size StockStatus  \\\n",
              "0                 1 ترابایت        HDD  15.6 اینچ         new   \n",
              "1                     512GB        SSD       15.6         new   \n",
              "2              256 گیگابایت        SSD  13.3 اینچ         new   \n",
              "3                     512GB        SSD       15.6         new   \n",
              "4  1 ترابایت + 256 گیگابایت        SSD  15.6 اینچ         new   \n",
              "5                       NaN        HDD        NaN       stock   \n",
              "6                     512GB        SSD       15.6         new   \n",
              "7                     512GB        SSD       15.6         new   \n",
              "8                     512GB        SSD       15.6         new   \n",
              "9                     256GB        SSD        NaN         new   \n",
              "\n",
              "                 Price  \n",
              "0   از ۸٫۱۲۵٫۰۰۰ تومان  \n",
              "1  از ۳۴٫۴۷۹٫۰۰۰ تومان  \n",
              "2  از ۳۷٫۰۰۰٫۰۰۰ تومان  \n",
              "3  از ۵۷٫۶۰۰٫۰۰۰ تومان  \n",
              "4  از ۱۴٫۶۵۰٫۰۰۰ تومان  \n",
              "5  از ۱۳٫۳۰۰٫۰۰۰ تومان  \n",
              "6  از ۳۲٫۱۶۱٫۰۰۰ تومان  \n",
              "7  از ۲۹٫۹۰۰٫۰۰۰ تومان  \n",
              "8  از ۲۳٫۶۵۰٫۰۰۰ تومان  \n",
              "9  از ۲۱٫۴۰۰٫۰۰۰ تومان  "
            ],
            "text/html": [
              "\n",
              "\n",
              "  <div id=\"df-d93a9669-0eda-4183-89d0-aa1cb6aea4d3\">\n",
              "    <div class=\"colab-df-container\">\n",
              "      <div>\n",
              "<style scoped>\n",
              "    .dataframe tbody tr th:only-of-type {\n",
              "        vertical-align: middle;\n",
              "    }\n",
              "\n",
              "    .dataframe tbody tr th {\n",
              "        vertical-align: top;\n",
              "    }\n",
              "\n",
              "    .dataframe thead th {\n",
              "        text-align: right;\n",
              "    }\n",
              "</style>\n",
              "<table border=\"1\" class=\"dataframe\">\n",
              "  <thead>\n",
              "    <tr style=\"text-align: right;\">\n",
              "      <th></th>\n",
              "      <th>Title</th>\n",
              "      <th>Brand</th>\n",
              "      <th>Weight</th>\n",
              "      <th>CPUSeries</th>\n",
              "      <th>CPUModel</th>\n",
              "      <th>Cache</th>\n",
              "      <th>RAM</th>\n",
              "      <th>Memory</th>\n",
              "      <th>MemoryType</th>\n",
              "      <th>Size</th>\n",
              "      <th>StockStatus</th>\n",
              "      <th>Price</th>\n",
              "    </tr>\n",
              "  </thead>\n",
              "  <tbody>\n",
              "    <tr>\n",
              "      <th>0</th>\n",
              "      <td>لپ تاپ لنوو  ideapad 3  | 4gb ram | 1tb hdd | ...</td>\n",
              "      <td>لنوو</td>\n",
              "      <td>حدود 1.7 کیلوگرم</td>\n",
              "      <td>Celeron</td>\n",
              "      <td>N4020</td>\n",
              "      <td>4 مگابایت</td>\n",
              "      <td>4 گیگابایت</td>\n",
              "      <td>1 ترابایت</td>\n",
              "      <td>HDD</td>\n",
              "      <td>15.6 اینچ</td>\n",
              "      <td>new</td>\n",
              "      <td>از ۸٫۱۲۵٫۰۰۰ تومان</td>\n",
              "    </tr>\n",
              "    <tr>\n",
              "      <th>1</th>\n",
              "      <td>لپ تاپ لنوو ideapad gaming 3 | 16gb ram | 512g...</td>\n",
              "      <td>لنوو</td>\n",
              "      <td>2.3</td>\n",
              "      <td>Core i5</td>\n",
              "      <td>NaN</td>\n",
              "      <td>18MB</td>\n",
              "      <td>16GB</td>\n",
              "      <td>512GB</td>\n",
              "      <td>SSD</td>\n",
              "      <td>15.6</td>\n",
              "      <td>new</td>\n",
              "      <td>از ۳۴٫۴۷۹٫۰۰۰ تومان</td>\n",
              "    </tr>\n",
              "    <tr>\n",
              "      <th>2</th>\n",
              "      <td>مک بوک ایر 8gb ram | 256gb ssd | m1 | mgn63 ا ...</td>\n",
              "      <td>مک بوک ایر</td>\n",
              "      <td>1.29 کیلوگرم</td>\n",
              "      <td>Apple M1</td>\n",
              "      <td>M1</td>\n",
              "      <td>12 مگابایت</td>\n",
              "      <td>8 گیگابایت</td>\n",
              "      <td>256 گیگابایت</td>\n",
              "      <td>SSD</td>\n",
              "      <td>13.3 اینچ</td>\n",
              "      <td>new</td>\n",
              "      <td>از ۳۷٫۰۰۰٫۰۰۰ تومان</td>\n",
              "    </tr>\n",
              "    <tr>\n",
              "      <th>3</th>\n",
              "      <td>لپ تاپ ایسوس fx517zr | 16gb ram | 512gb ssd | ...</td>\n",
              "      <td>ایسوس</td>\n",
              "      <td>2.0</td>\n",
              "      <td>Core i7</td>\n",
              "      <td>NaN</td>\n",
              "      <td>24MB</td>\n",
              "      <td>16GB</td>\n",
              "      <td>512GB</td>\n",
              "      <td>SSD</td>\n",
              "      <td>15.6</td>\n",
              "      <td>new</td>\n",
              "      <td>از ۵۷٫۶۰۰٫۰۰۰ تومان</td>\n",
              "    </tr>\n",
              "    <tr>\n",
              "      <th>4</th>\n",
              "      <td>لپ تاپ لنوو ideapad 3 | 12gb ram | 256gb ssd |...</td>\n",
              "      <td>لنوو</td>\n",
              "      <td>2.43 کیلوگرم</td>\n",
              "      <td>Core i3</td>\n",
              "      <td>1115G4</td>\n",
              "      <td>6 مگابایت</td>\n",
              "      <td>12 گیگابایت</td>\n",
              "      <td>1 ترابایت + 256 گیگابایت</td>\n",
              "      <td>SSD</td>\n",
              "      <td>15.6 اینچ</td>\n",
              "      <td>new</td>\n",
              "      <td>از ۱۴٫۶۵۰٫۰۰۰ تومان</td>\n",
              "    </tr>\n",
              "    <tr>\n",
              "      <th>5</th>\n",
              "      <td>لپ تاپ hp elite x2 i5 1012 g2 ا hp elite x2 10...</td>\n",
              "      <td>hp</td>\n",
              "      <td>NaN</td>\n",
              "      <td>NaN</td>\n",
              "      <td>NaN</td>\n",
              "      <td>NaN</td>\n",
              "      <td>NaN</td>\n",
              "      <td>NaN</td>\n",
              "      <td>HDD</td>\n",
              "      <td>NaN</td>\n",
              "      <td>stock</td>\n",
              "      <td>از ۱۳٫۳۰۰٫۰۰۰ تومان</td>\n",
              "    </tr>\n",
              "    <tr>\n",
              "      <th>6</th>\n",
              "      <td>لپ تاپ ایسوس fx506lh | 8gb ram | 512gb ssd | i...</td>\n",
              "      <td>ایسوس</td>\n",
              "      <td>2.3</td>\n",
              "      <td>Core i5</td>\n",
              "      <td>NaN</td>\n",
              "      <td>8MB</td>\n",
              "      <td>8GB</td>\n",
              "      <td>512GB</td>\n",
              "      <td>SSD</td>\n",
              "      <td>15.6</td>\n",
              "      <td>new</td>\n",
              "      <td>از ۳۲٫۱۶۱٫۰۰۰ تومان</td>\n",
              "    </tr>\n",
              "    <tr>\n",
              "      <th>7</th>\n",
              "      <td>لپ تاپ اچ‌ پی victus 15 | 8gb ram | 512gb ssd ...</td>\n",
              "      <td>hp</td>\n",
              "      <td>2.2</td>\n",
              "      <td>Core i5</td>\n",
              "      <td>NaN</td>\n",
              "      <td>18MB</td>\n",
              "      <td>8GB</td>\n",
              "      <td>512GB</td>\n",
              "      <td>SSD</td>\n",
              "      <td>15.6</td>\n",
              "      <td>new</td>\n",
              "      <td>از ۲۹٫۹۰۰٫۰۰۰ تومان</td>\n",
              "    </tr>\n",
              "    <tr>\n",
              "      <th>8</th>\n",
              "      <td>لپ تاپ ایسوس مدل x515ep | 8gb ram | 512gb ssd ...</td>\n",
              "      <td>ایسوس</td>\n",
              "      <td>1.8</td>\n",
              "      <td>Core i5</td>\n",
              "      <td>NaN</td>\n",
              "      <td>8MB</td>\n",
              "      <td>8GB</td>\n",
              "      <td>512GB</td>\n",
              "      <td>SSD</td>\n",
              "      <td>15.6</td>\n",
              "      <td>new</td>\n",
              "      <td>از ۲۳٫۶۵۰٫۰۰۰ تومان</td>\n",
              "    </tr>\n",
              "    <tr>\n",
              "      <th>9</th>\n",
              "      <td>لپ تاپ مایکروسافت surface go | 8gb ram | 256gb...</td>\n",
              "      <td>مایکروسافت</td>\n",
              "      <td>1.11</td>\n",
              "      <td>Corei5</td>\n",
              "      <td>1035G1</td>\n",
              "      <td>6MB</td>\n",
              "      <td>8GB</td>\n",
              "      <td>256GB</td>\n",
              "      <td>SSD</td>\n",
              "      <td>NaN</td>\n",
              "      <td>new</td>\n",
              "      <td>از ۲۱٫۴۰۰٫۰۰۰ تومان</td>\n",
              "    </tr>\n",
              "  </tbody>\n",
              "</table>\n",
              "</div>\n",
              "      <button class=\"colab-df-convert\" onclick=\"convertToInteractive('df-d93a9669-0eda-4183-89d0-aa1cb6aea4d3')\"\n",
              "              title=\"Convert this dataframe to an interactive table.\"\n",
              "              style=\"display:none;\">\n",
              "\n",
              "  <svg xmlns=\"http://www.w3.org/2000/svg\" height=\"24px\"viewBox=\"0 0 24 24\"\n",
              "       width=\"24px\">\n",
              "    <path d=\"M0 0h24v24H0V0z\" fill=\"none\"/>\n",
              "    <path d=\"M18.56 5.44l.94 2.06.94-2.06 2.06-.94-2.06-.94-.94-2.06-.94 2.06-2.06.94zm-11 1L8.5 8.5l.94-2.06 2.06-.94-2.06-.94L8.5 2.5l-.94 2.06-2.06.94zm10 10l.94 2.06.94-2.06 2.06-.94-2.06-.94-.94-2.06-.94 2.06-2.06.94z\"/><path d=\"M17.41 7.96l-1.37-1.37c-.4-.4-.92-.59-1.43-.59-.52 0-1.04.2-1.43.59L10.3 9.45l-7.72 7.72c-.78.78-.78 2.05 0 2.83L4 21.41c.39.39.9.59 1.41.59.51 0 1.02-.2 1.41-.59l7.78-7.78 2.81-2.81c.8-.78.8-2.07 0-2.86zM5.41 20L4 18.59l7.72-7.72 1.47 1.35L5.41 20z\"/>\n",
              "  </svg>\n",
              "      </button>\n",
              "\n",
              "\n",
              "\n",
              "    <div id=\"df-6eff642d-b363-4167-b9c0-25f1ac194e29\">\n",
              "      <button class=\"colab-df-quickchart\" onclick=\"quickchart('df-6eff642d-b363-4167-b9c0-25f1ac194e29')\"\n",
              "              title=\"Suggest charts.\"\n",
              "              style=\"display:none;\">\n",
              "\n",
              "<svg xmlns=\"http://www.w3.org/2000/svg\" height=\"24px\"viewBox=\"0 0 24 24\"\n",
              "     width=\"24px\">\n",
              "    <g>\n",
              "        <path d=\"M19 3H5c-1.1 0-2 .9-2 2v14c0 1.1.9 2 2 2h14c1.1 0 2-.9 2-2V5c0-1.1-.9-2-2-2zM9 17H7v-7h2v7zm4 0h-2V7h2v10zm4 0h-2v-4h2v4z\"/>\n",
              "    </g>\n",
              "</svg>\n",
              "      </button>\n",
              "    </div>\n",
              "\n",
              "<style>\n",
              "  .colab-df-quickchart {\n",
              "    background-color: #E8F0FE;\n",
              "    border: none;\n",
              "    border-radius: 50%;\n",
              "    cursor: pointer;\n",
              "    display: none;\n",
              "    fill: #1967D2;\n",
              "    height: 32px;\n",
              "    padding: 0 0 0 0;\n",
              "    width: 32px;\n",
              "  }\n",
              "\n",
              "  .colab-df-quickchart:hover {\n",
              "    background-color: #E2EBFA;\n",
              "    box-shadow: 0px 1px 2px rgba(60, 64, 67, 0.3), 0px 1px 3px 1px rgba(60, 64, 67, 0.15);\n",
              "    fill: #174EA6;\n",
              "  }\n",
              "\n",
              "  [theme=dark] .colab-df-quickchart {\n",
              "    background-color: #3B4455;\n",
              "    fill: #D2E3FC;\n",
              "  }\n",
              "\n",
              "  [theme=dark] .colab-df-quickchart:hover {\n",
              "    background-color: #434B5C;\n",
              "    box-shadow: 0px 1px 3px 1px rgba(0, 0, 0, 0.15);\n",
              "    filter: drop-shadow(0px 1px 2px rgba(0, 0, 0, 0.3));\n",
              "    fill: #FFFFFF;\n",
              "  }\n",
              "</style>\n",
              "\n",
              "    <script>\n",
              "      async function quickchart(key) {\n",
              "        const containerElement = document.querySelector('#' + key);\n",
              "        const charts = await google.colab.kernel.invokeFunction(\n",
              "            'suggestCharts', [key], {});\n",
              "      }\n",
              "    </script>\n",
              "\n",
              "      <script>\n",
              "\n",
              "function displayQuickchartButton(domScope) {\n",
              "  let quickchartButtonEl =\n",
              "    domScope.querySelector('#df-6eff642d-b363-4167-b9c0-25f1ac194e29 button.colab-df-quickchart');\n",
              "  quickchartButtonEl.style.display =\n",
              "    google.colab.kernel.accessAllowed ? 'block' : 'none';\n",
              "}\n",
              "\n",
              "        displayQuickchartButton(document);\n",
              "      </script>\n",
              "      <style>\n",
              "    .colab-df-container {\n",
              "      display:flex;\n",
              "      flex-wrap:wrap;\n",
              "      gap: 12px;\n",
              "    }\n",
              "\n",
              "    .colab-df-convert {\n",
              "      background-color: #E8F0FE;\n",
              "      border: none;\n",
              "      border-radius: 50%;\n",
              "      cursor: pointer;\n",
              "      display: none;\n",
              "      fill: #1967D2;\n",
              "      height: 32px;\n",
              "      padding: 0 0 0 0;\n",
              "      width: 32px;\n",
              "    }\n",
              "\n",
              "    .colab-df-convert:hover {\n",
              "      background-color: #E2EBFA;\n",
              "      box-shadow: 0px 1px 2px rgba(60, 64, 67, 0.3), 0px 1px 3px 1px rgba(60, 64, 67, 0.15);\n",
              "      fill: #174EA6;\n",
              "    }\n",
              "\n",
              "    [theme=dark] .colab-df-convert {\n",
              "      background-color: #3B4455;\n",
              "      fill: #D2E3FC;\n",
              "    }\n",
              "\n",
              "    [theme=dark] .colab-df-convert:hover {\n",
              "      background-color: #434B5C;\n",
              "      box-shadow: 0px 1px 3px 1px rgba(0, 0, 0, 0.15);\n",
              "      filter: drop-shadow(0px 1px 2px rgba(0, 0, 0, 0.3));\n",
              "      fill: #FFFFFF;\n",
              "    }\n",
              "  </style>\n",
              "\n",
              "      <script>\n",
              "        const buttonEl =\n",
              "          document.querySelector('#df-d93a9669-0eda-4183-89d0-aa1cb6aea4d3 button.colab-df-convert');\n",
              "        buttonEl.style.display =\n",
              "          google.colab.kernel.accessAllowed ? 'block' : 'none';\n",
              "\n",
              "        async function convertToInteractive(key) {\n",
              "          const element = document.querySelector('#df-d93a9669-0eda-4183-89d0-aa1cb6aea4d3');\n",
              "          const dataTable =\n",
              "            await google.colab.kernel.invokeFunction('convertToInteractive',\n",
              "                                                     [key], {});\n",
              "          if (!dataTable) return;\n",
              "\n",
              "          const docLinkHtml = 'Like what you see? Visit the ' +\n",
              "            '<a target=\"_blank\" href=https://colab.research.google.com/notebooks/data_table.ipynb>data table notebook</a>'\n",
              "            + ' to learn more about interactive tables.';\n",
              "          element.innerHTML = '';\n",
              "          dataTable['output_type'] = 'display_data';\n",
              "          await google.colab.output.renderOutput(dataTable, element);\n",
              "          const docLink = document.createElement('div');\n",
              "          docLink.innerHTML = docLinkHtml;\n",
              "          element.appendChild(docLink);\n",
              "        }\n",
              "      </script>\n",
              "    </div>\n",
              "  </div>\n"
            ]
          },
          "metadata": {},
          "execution_count": 2
        }
      ],
      "source": [
        "df = pd.read_csv('laptop.csv')\n",
        "df.head(10)"
      ]
    },
    {
      "cell_type": "code",
      "execution_count": 3,
      "metadata": {
        "colab": {
          "base_uri": "https://localhost:8080/"
        },
        "id": "QGcpH5pD4Kut",
        "outputId": "43d047d8-4641-4324-a5dc-d37f2dd2fd38"
      },
      "outputs": [
        {
          "output_type": "execute_result",
          "data": {
            "text/plain": [
              "(1176, 12)"
            ]
          },
          "metadata": {},
          "execution_count": 3
        }
      ],
      "source": [
        "df.shape"
      ]
    },
    {
      "cell_type": "markdown",
      "metadata": {
        "id": "RBjsqCaFkVhA"
      },
      "source": [
        "## Seperate Features & Target Value"
      ]
    },
    {
      "cell_type": "code",
      "execution_count": 4,
      "metadata": {
        "id": "EG05DyeE5MUV"
      },
      "outputs": [],
      "source": [
        "x = df.iloc[:,:-1]\n",
        "y = df.iloc[:,-1]"
      ]
    },
    {
      "cell_type": "code",
      "execution_count": 5,
      "metadata": {
        "colab": {
          "base_uri": "https://localhost:8080/"
        },
        "id": "Nw8hp_awOoN1",
        "outputId": "2535433a-baad-40c8-e90c-666e1a2c3f5e"
      },
      "outputs": [
        {
          "output_type": "execute_result",
          "data": {
            "text/plain": [
              "Title          لپ تاپ لنوو 15.6 اینچی مدل ideapad 3 r5 5500 1...\n",
              "Brand                                                       لنوو\n",
              "Weight                                                      1.85\n",
              "CPUSeries                                                Ryzen 5\n",
              "CPUModel                                                   3500U\n",
              "Cache                                                        4MB\n",
              "RAM                                                         12GB\n",
              "Memory                                         1TB HDD+256GB SSD\n",
              "MemoryType                                                   SSD\n",
              "Size                                                         NaN\n",
              "StockStatus                                                  new\n",
              "Name: 623, dtype: object"
            ]
          },
          "metadata": {},
          "execution_count": 5
        }
      ],
      "source": [
        "x.iloc[623]"
      ]
    },
    {
      "cell_type": "markdown",
      "metadata": {
        "id": "bfwKikqmkxN9"
      },
      "source": [
        "## Features"
      ]
    },
    {
      "cell_type": "markdown",
      "metadata": {
        "id": "9kc3M-D5UGzB"
      },
      "source": [
        "### Brand"
      ]
    },
    {
      "cell_type": "code",
      "execution_count": 6,
      "metadata": {
        "colab": {
          "base_uri": "https://localhost:8080/"
        },
        "id": "hn7J1fIUSxKa",
        "outputId": "7c7b8814-467c-4578-abb8-3dcf6eabfdb0"
      },
      "outputs": [
        {
          "output_type": "execute_result",
          "data": {
            "text/plain": [
              "False    1176\n",
              "Name: Brand, dtype: int64"
            ]
          },
          "metadata": {},
          "execution_count": 6
        }
      ],
      "source": [
        "x['Brand'].isnull().value_counts()"
      ]
    },
    {
      "cell_type": "code",
      "execution_count": 7,
      "metadata": {
        "colab": {
          "base_uri": "https://localhost:8080/"
        },
        "id": "9NYyc3Vt5QSt",
        "outputId": "49db518d-eae4-4d6e-b31e-4b6704c09088"
      },
      "outputs": [
        {
          "output_type": "execute_result",
          "data": {
            "text/plain": [
              "array(['لنوو', 'مک بوک ایر', 'ایسوس', 'hp', 'مایکروسافت', 'دل', 'apple',\n",
              "       'ایسر', 'dell', 'هوآوی', 'سامسونگ', 'lenovo', 'مک بوک پرو', 'اپل',\n",
              "       'asus', 'ام اس آی', 'samsung', 'msi', 'فوجیتسو', 'unknown',\n",
              "       'macbook pro', 'toshiba', 'توشیبا', 'alienware', 'اچ\\u200cپی',\n",
              "       'شیائومی', 'گیگابایت', 'acer', 'microsoft', 'razer', 'xiaomi',\n",
              "       'vaio', 'ال جی', 'sony', 'سونی', 'ریزر'], dtype=object)"
            ]
          },
          "metadata": {},
          "execution_count": 7
        }
      ],
      "source": [
        "x['Brand'].unique()"
      ]
    },
    {
      "cell_type": "code",
      "execution_count": 8,
      "metadata": {
        "colab": {
          "base_uri": "https://localhost:8080/"
        },
        "id": "AmUQnj6v5fOK",
        "outputId": "05e95d58-ecfc-462d-d246-406771347fc5"
      },
      "outputs": [
        {
          "output_type": "execute_result",
          "data": {
            "text/plain": [
              "ایسوس          349\n",
              "لنوو           220\n",
              "دل             188\n",
              "hp             149\n",
              "ایسر            37\n",
              "dell            35\n",
              "مایکروسافت      33\n",
              "unknown         24\n",
              "lenovo          22\n",
              "asus            17\n",
              "اپل             15\n",
              "apple            9\n",
              "msi              9\n",
              "سامسونگ          7\n",
              "ام اس آی         7\n",
              "samsung          6\n",
              "اچ‌پی            6\n",
              "گیگابایت         5\n",
              "مک بوک پرو       5\n",
              "شیائومی          4\n",
              "مک بوک ایر       4\n",
              "microsoft        3\n",
              "acer             3\n",
              "توشیبا           3\n",
              "razer            2\n",
              "فوجیتسو          2\n",
              "toshiba          2\n",
              "macbook pro      2\n",
              "alienware        1\n",
              "هوآوی            1\n",
              "xiaomi           1\n",
              "vaio             1\n",
              "ال جی            1\n",
              "sony             1\n",
              "سونی             1\n",
              "ریزر             1\n",
              "Name: Brand, dtype: int64"
            ]
          },
          "metadata": {},
          "execution_count": 8
        }
      ],
      "source": [
        "x['Brand'].value_counts()"
      ]
    },
    {
      "cell_type": "code",
      "execution_count": 9,
      "metadata": {
        "colab": {
          "base_uri": "https://localhost:8080/"
        },
        "id": "dLT8R3gT5sri",
        "outputId": "cd0fef8a-520b-425a-bcf1-7cc6c8320ee5"
      },
      "outputs": [
        {
          "output_type": "stream",
          "name": "stderr",
          "text": [
            "<ipython-input-9-fb65d970a2c8>:1: SettingWithCopyWarning: \n",
            "A value is trying to be set on a copy of a slice from a DataFrame.\n",
            "Try using .loc[row_indexer,col_indexer] = value instead\n",
            "\n",
            "See the caveats in the documentation: https://pandas.pydata.org/pandas-docs/stable/user_guide/indexing.html#returning-a-view-versus-a-copy\n",
            "  x['Brand'] = x['Brand'].replace({'دل':'dell',\n"
          ]
        },
        {
          "output_type": "execute_result",
          "data": {
            "text/plain": [
              "asus           366\n",
              "lenovo         242\n",
              "dell           223\n",
              "hp             155\n",
              "acer            40\n",
              "microsoft       36\n",
              "unknown         24\n",
              "apple           24\n",
              "msi             16\n",
              "samsung         13\n",
              "macbook pro      7\n",
              "toshiba          5\n",
              "xiaomi           5\n",
              "gigabyte         5\n",
              "macbook air      4\n",
              "razer            3\n",
              "fujitsi          2\n",
              "sony             2\n",
              "huawei           1\n",
              "alienware        1\n",
              "vaio             1\n",
              "lg               1\n",
              "Name: Brand, dtype: int64"
            ]
          },
          "metadata": {},
          "execution_count": 9
        }
      ],
      "source": [
        "x['Brand'] = x['Brand'].replace({'دل':'dell',\n",
        "                                 'لنوو':'lenovo',\n",
        "                                 'ایسوس':'asus',\n",
        "                                 'اپل':'apple',\n",
        "                                 'سامسونگ':'samsung',\n",
        "                                 'ام اس آی':'msi',\n",
        "                                 'ایسر':'acer',\n",
        "                                 'مایکروسافت':'microsoft',\n",
        "                                 'توشیبا':'toshiba',\n",
        "                                 'اچ‌پی':'hp',\n",
        "                                 'ریزر':'razer',\n",
        "                                 'مک بوک پرو':'macbook pro',\n",
        "                                 'مک بوک ایر':'macbook air',\n",
        "                                 'شیائومی':'xiaomi',\n",
        "                                 'سونی':'sony',\n",
        "                                 'هوآوی':'huawei',\n",
        "                                 'ال جی':'lg',\n",
        "                                 'گیگابایت':'gigabyte',\n",
        "                                 'فوجیتسو':'fujitsi'})\n",
        "x['Brand'].value_counts()"
      ]
    },
    {
      "cell_type": "code",
      "source": [
        "plt.figure(figsize=(17,10))\n",
        "sns.countplot(y = x['Brand'], order = x['Brand'].value_counts()[:10].index, orient = 'v')\n",
        "plt.title('Top 10 Brands', fontsize = 25)\n",
        "plt.ylabel('Brand', fontsize = 20)\n",
        "plt.xlabel('Number of Items')\n",
        "plt.show()"
      ],
      "metadata": {
        "colab": {
          "base_uri": "https://localhost:8080/",
          "height": 543
        },
        "id": "uBdMNLF9uD4S",
        "outputId": "a3b41a21-e72b-4fcb-f400-f2be2ad74706"
      },
      "execution_count": 10,
      "outputs": [
        {
          "output_type": "display_data",
          "data": {
            "text/plain": [
              "<Figure size 1700x1000 with 1 Axes>"
            ],
            "image/png": "[encoded data removed]"
          },
          "metadata": {}
        }
      ]
    },
    {
      "cell_type": "code",
      "execution_count": 11,
      "metadata": {
        "colab": {
          "base_uri": "https://localhost:8080/",
          "height": 505
        },
        "id": "Tpo3Z35QCwtq",
        "outputId": "e99bde9e-6716-426d-d3d8-d74045fa2556"
      },
      "outputs": [
        {
          "output_type": "execute_result",
          "data": {
            "text/plain": [
              "      acer  alienware  apple  asus  dell  fujitsi  gigabyte  hp  huawei  \\\n",
              "0        0          0      0     0     0        0         0   0       0   \n",
              "1        0          0      0     0     0        0         0   0       0   \n",
              "2        0          0      0     0     0        0         0   0       0   \n",
              "3        0          0      0     1     0        0         0   0       0   \n",
              "4        0          0      0     0     0        0         0   0       0   \n",
              "...    ...        ...    ...   ...   ...      ...       ...  ..     ...   \n",
              "1171     0          0      0     0     0        0         0   0       0   \n",
              "1172     0          0      0     0     0        0         0   0       0   \n",
              "1173     0          0      0     0     0        0         0   0       0   \n",
              "1174     0          0      0     1     0        0         0   0       0   \n",
              "1175     0          0      0     0     0        0         0   1       0   \n",
              "\n",
              "      lenovo  ...  macbook pro  microsoft  msi  razer  samsung  sony  toshiba  \\\n",
              "0          1  ...            0          0    0      0        0     0        0   \n",
              "1          1  ...            0          0    0      0        0     0        0   \n",
              "2          0  ...            0          0    0      0        0     0        0   \n",
              "3          0  ...            0          0    0      0        0     0        0   \n",
              "4          1  ...            0          0    0      0        0     0        0   \n",
              "...      ...  ...          ...        ...  ...    ...      ...   ...      ...   \n",
              "1171       1  ...            0          0    0      0        0     0        0   \n",
              "1172       1  ...            0          0    0      0        0     0        0   \n",
              "1173       0  ...            0          0    1      0        0     0        0   \n",
              "1174       0  ...            0          0    0      0        0     0        0   \n",
              "1175       0  ...            0          0    0      0        0     0        0   \n",
              "\n",
              "      unknown  vaio  xiaomi  \n",
              "0           0     0       0  \n",
              "1           0     0       0  \n",
              "2           0     0       0  \n",
              "3           0     0       0  \n",
              "4           0     0       0  \n",
              "...       ...   ...     ...  \n",
              "1171        0     0       0  \n",
              "1172        0     0       0  \n",
              "1173        0     0       0  \n",
              "1174        0     0       0  \n",
              "1175        0     0       0  \n",
              "\n",
              "[1176 rows x 22 columns]"
            ],
            "text/html": [
              "\n",
              "\n",
              "  <div id=\"df-371f7c11-4c70-4f4a-9efe-d4e631ec1075\">\n",
              "    <div class=\"colab-df-container\">\n",
              "      <div>\n",
              "<style scoped>\n",
              "    .dataframe tbody tr th:only-of-type {\n",
              "        vertical-align: middle;\n",
              "    }\n",
              "\n",
              "    .dataframe tbody tr th {\n",
              "        vertical-align: top;\n",
              "    }\n",
              "\n",
              "    .dataframe thead th {\n",
              "        text-align: right;\n",
              "    }\n",
              "</style>\n",
              "<table border=\"1\" class=\"dataframe\">\n",
              "  <thead>\n",
              "    <tr style=\"text-align: right;\">\n",
              "      <th></th>\n",
              "      <th>acer</th>\n",
              "      <th>alienware</th>\n",
              "      <th>apple</th>\n",
              "      <th>asus</th>\n",
              "      <th>dell</th>\n",
              "      <th>fujitsi</th>\n",
              "      <th>gigabyte</th>\n",
              "      <th>hp</th>\n",
              "      <th>huawei</th>\n",
              "      <th>lenovo</th>\n",
              "      <th>...</th>\n",
              "      <th>macbook pro</th>\n",
              "      <th>microsoft</th>\n",
              "      <th>msi</th>\n",
              "      <th>razer</th>\n",
              "      <th>samsung</th>\n",
              "      <th>sony</th>\n",
              "      <th>toshiba</th>\n",
              "      <th>unknown</th>\n",
              "      <th>vaio</th>\n",
              "      <th>xiaomi</th>\n",
              "    </tr>\n",
              "  </thead>\n",
              "  <tbody>\n",
              "    <tr>\n",
              "      <th>0</th>\n",
              "      <td>0</td>\n",
              "      <td>0</td>\n",
              "      <td>0</td>\n",
              "      <td>0</td>\n",
              "      <td>0</td>\n",
              "      <td>0</td>\n",
              "      <td>0</td>\n",
              "      <td>0</td>\n",
              "      <td>0</td>\n",
              "      <td>1</td>\n",
              "      <td>...</td>\n",
              "      <td>0</td>\n",
              "      <td>0</td>\n",
              "      <td>0</td>\n",
              "      <td>0</td>\n",
              "      <td>0</td>\n",
              "      <td>0</td>\n",
              "      <td>0</td>\n",
              "      <td>0</td>\n",
              "      <td>0</td>\n",
              "      <td>0</td>\n",
              "    </tr>\n",
              "    <tr>\n",
              "      <th>1</th>\n",
              "      <td>0</td>\n",
              "      <td>0</td>\n",
              "      <td>0</td>\n",
              "      <td>0</td>\n",
              "      <td>0</td>\n",
              "      <td>0</td>\n",
              "      <td>0</td>\n",
              "      <td>0</td>\n",
              "      <td>0</td>\n",
              "      <td>1</td>\n",
              "      <td>...</td>\n",
              "      <td>0</td>\n",
              "      <td>0</td>\n",
              "      <td>0</td>\n",
              "      <td>0</td>\n",
              "      <td>0</td>\n",
              "      <td>0</td>\n",
              "      <td>0</td>\n",
              "      <td>0</td>\n",
              "      <td>0</td>\n",
              "      <td>0</td>\n",
              "    </tr>\n",
              "    <tr>\n",
              "      <th>2</th>\n",
              "      <td>0</td>\n",
              "      <td>0</td>\n",
              "      <td>0</td>\n",
              "      <td>0</td>\n",
              "      <td>0</td>\n",
              "      <td>0</td>\n",
              "      <td>0</td>\n",
              "      <td>0</td>\n",
              "      <td>0</td>\n",
              "      <td>0</td>\n",
              "      <td>...</td>\n",
              "      <td>0</td>\n",
              "      <td>0</td>\n",
              "      <td>0</td>\n",
              "      <td>0</td>\n",
              "      <td>0</td>\n",
              "      <td>0</td>\n",
              "      <td>0</td>\n",
              "      <td>0</td>\n",
              "      <td>0</td>\n",
              "      <td>0</td>\n",
              "    </tr>\n",
              "    <tr>\n",
              "      <th>3</th>\n",
              "      <td>0</td>\n",
              "      <td>0</td>\n",
              "      <td>0</td>\n",
              "      <td>1</td>\n",
              "      <td>0</td>\n",
              "      <td>0</td>\n",
              "      <td>0</td>\n",
              "      <td>0</td>\n",
              "      <td>0</td>\n",
              "      <td>0</td>\n",
              "      <td>...</td>\n",
              "      <td>0</td>\n",
              "      <td>0</td>\n",
              "      <td>0</td>\n",
              "      <td>0</td>\n",
              "      <td>0</td>\n",
              "      <td>0</td>\n",
              "      <td>0</td>\n",
              "      <td>0</td>\n",
              "      <td>0</td>\n",
              "      <td>0</td>\n",
              "    </tr>\n",
              "    <tr>\n",
              "      <th>4</th>\n",
              "      <td>0</td>\n",
              "      <td>0</td>\n",
              "      <td>0</td>\n",
              "      <td>0</td>\n",
              "      <td>0</td>\n",
              "      <td>0</td>\n",
              "      <td>0</td>\n",
              "      <td>0</td>\n",
              "      <td>0</td>\n",
              "      <td>1</td>\n",
              "      <td>...</td>\n",
              "      <td>0</td>\n",
              "      <td>0</td>\n",
              "      <td>0</td>\n",
              "      <td>0</td>\n",
              "      <td>0</td>\n",
              "      <td>0</td>\n",
              "      <td>0</td>\n",
              "      <td>0</td>\n",
              "      <td>0</td>\n",
              "      <td>0</td>\n",
              "    </tr>\n",
              "    <tr>\n",
              "      <th>...</th>\n",
              "      <td>...</td>\n",
              "      <td>...</td>\n",
              "      <td>...</td>\n",
              "      <td>...</td>\n",
              "      <td>...</td>\n",
              "      <td>...</td>\n",
              "      <td>...</td>\n",
              "      <td>...</td>\n",
              "      <td>...</td>\n",
              "      <td>...</td>\n",
              "      <td>...</td>\n",
              "      <td>...</td>\n",
              "      <td>...</td>\n",
              "      <td>...</td>\n",
              "      <td>...</td>\n",
              "      <td>...</td>\n",
              "      <td>...</td>\n",
              "      <td>...</td>\n",
              "      <td>...</td>\n",
              "      <td>...</td>\n",
              "      <td>...</td>\n",
              "    </tr>\n",
              "    <tr>\n",
              "      <th>1171</th>\n",
              "      <td>0</td>\n",
              "      <td>0</td>\n",
              "      <td>0</td>\n",
              "      <td>0</td>\n",
              "      <td>0</td>\n",
              "      <td>0</td>\n",
              "      <td>0</td>\n",
              "      <td>0</td>\n",
              "      <td>0</td>\n",
              "      <td>1</td>\n",
              "      <td>...</td>\n",
              "      <td>0</td>\n",
              "      <td>0</td>\n",
              "      <td>0</td>\n",
              "      <td>0</td>\n",
              "      <td>0</td>\n",
              "      <td>0</td>\n",
              "      <td>0</td>\n",
              "      <td>0</td>\n",
              "      <td>0</td>\n",
              "      <td>0</td>\n",
              "    </tr>\n",
              "    <tr>\n",
              "      <th>1172</th>\n",
              "      <td>0</td>\n",
              "      <td>0</td>\n",
              "      <td>0</td>\n",
              "      <td>0</td>\n",
              "      <td>0</td>\n",
              "      <td>0</td>\n",
              "      <td>0</td>\n",
              "      <td>0</td>\n",
              "      <td>0</td>\n",
              "      <td>1</td>\n",
              "      <td>...</td>\n",
              "      <td>0</td>\n",
              "      <td>0</td>\n",
              "      <td>0</td>\n",
              "      <td>0</td>\n",
              "      <td>0</td>\n",
              "      <td>0</td>\n",
              "      <td>0</td>\n",
              "      <td>0</td>\n",
              "      <td>0</td>\n",
              "      <td>0</td>\n",
              "    </tr>\n",
              "    <tr>\n",
              "      <th>1173</th>\n",
              "      <td>0</td>\n",
              "      <td>0</td>\n",
              "      <td>0</td>\n",
              "      <td>0</td>\n",
              "      <td>0</td>\n",
              "      <td>0</td>\n",
              "      <td>0</td>\n",
              "      <td>0</td>\n",
              "      <td>0</td>\n",
              "      <td>0</td>\n",
              "      <td>...</td>\n",
              "      <td>0</td>\n",
              "      <td>0</td>\n",
              "      <td>1</td>\n",
              "      <td>0</td>\n",
              "      <td>0</td>\n",
              "      <td>0</td>\n",
              "      <td>0</td>\n",
              "      <td>0</td>\n",
              "      <td>0</td>\n",
              "      <td>0</td>\n",
              "    </tr>\n",
              "    <tr>\n",
              "      <th>1174</th>\n",
              "      <td>0</td>\n",
              "      <td>0</td>\n",
              "      <td>0</td>\n",
              "      <td>1</td>\n",
              "      <td>0</td>\n",
              "      <td>0</td>\n",
              "      <td>0</td>\n",
              "      <td>0</td>\n",
              "      <td>0</td>\n",
              "      <td>0</td>\n",
              "      <td>...</td>\n",
              "      <td>0</td>\n",
              "      <td>0</td>\n",
              "      <td>0</td>\n",
              "      <td>0</td>\n",
              "      <td>0</td>\n",
              "      <td>0</td>\n",
              "      <td>0</td>\n",
              "      <td>0</td>\n",
              "      <td>0</td>\n",
              "      <td>0</td>\n",
              "    </tr>\n",
              "    <tr>\n",
              "      <th>1175</th>\n",
              "      <td>0</td>\n",
              "      <td>0</td>\n",
              "      <td>0</td>\n",
              "      <td>0</td>\n",
              "      <td>0</td>\n",
              "      <td>0</td>\n",
              "      <td>0</td>\n",
              "      <td>1</td>\n",
              "      <td>0</td>\n",
              "      <td>0</td>\n",
              "      <td>...</td>\n",
              "      <td>0</td>\n",
              "      <td>0</td>\n",
              "      <td>0</td>\n",
              "      <td>0</td>\n",
              "      <td>0</td>\n",
              "      <td>0</td>\n",
              "      <td>0</td>\n",
              "      <td>0</td>\n",
              "      <td>0</td>\n",
              "      <td>0</td>\n",
              "    </tr>\n",
              "  </tbody>\n",
              "</table>\n",
              "<p>1176 rows × 22 columns</p>\n",
              "</div>\n",
              "      <button class=\"colab-df-convert\" onclick=\"convertToInteractive('df-371f7c11-4c70-4f4a-9efe-d4e631ec1075')\"\n",
              "              title=\"Convert this dataframe to an interactive table.\"\n",
              "              style=\"display:none;\">\n",
              "\n",
              "  <svg xmlns=\"http://www.w3.org/2000/svg\" height=\"24px\"viewBox=\"0 0 24 24\"\n",
              "       width=\"24px\">\n",
              "    <path d=\"M0 0h24v24H0V0z\" fill=\"none\"/>\n",
              "    <path d=\"M18.56 5.44l.94 2.06.94-2.06 2.06-.94-2.06-.94-.94-2.06-.94 2.06-2.06.94zm-11 1L8.5 8.5l.94-2.06 2.06-.94-2.06-.94L8.5 2.5l-.94 2.06-2.06.94zm10 10l.94 2.06.94-2.06 2.06-.94-2.06-.94-.94-2.06-.94 2.06-2.06.94z\"/><path d=\"M17.41 7.96l-1.37-1.37c-.4-.4-.92-.59-1.43-.59-.52 0-1.04.2-1.43.59L10.3 9.45l-7.72 7.72c-.78.78-.78 2.05 0 2.83L4 21.41c.39.39.9.59 1.41.59.51 0 1.02-.2 1.41-.59l7.78-7.78 2.81-2.81c.8-.78.8-2.07 0-2.86zM5.41 20L4 18.59l7.72-7.72 1.47 1.35L5.41 20z\"/>\n",
              "  </svg>\n",
              "      </button>\n",
              "\n",
              "\n",
              "\n",
              "    <div id=\"df-679cec75-1692-4ef0-9ec7-4bdbf137484d\">\n",
              "      <button class=\"colab-df-quickchart\" onclick=\"quickchart('df-679cec75-1692-4ef0-9ec7-4bdbf137484d')\"\n",
              "              title=\"Suggest charts.\"\n",
              "              style=\"display:none;\">\n",
              "\n",
              "<svg xmlns=\"http://www.w3.org/2000/svg\" height=\"24px\"viewBox=\"0 0 24 24\"\n",
              "     width=\"24px\">\n",
              "    <g>\n",
              "        <path d=\"M19 3H5c-1.1 0-2 .9-2 2v14c0 1.1.9 2 2 2h14c1.1 0 2-.9 2-2V5c0-1.1-.9-2-2-2zM9 17H7v-7h2v7zm4 0h-2V7h2v10zm4 0h-2v-4h2v4z\"/>\n",
              "    </g>\n",
              "</svg>\n",
              "      </button>\n",
              "    </div>\n",
              "\n",
              "<style>\n",
              "  .colab-df-quickchart {\n",
              "    background-color: #E8F0FE;\n",
              "    border: none;\n",
              "    border-radius: 50%;\n",
              "    cursor: pointer;\n",
              "    display: none;\n",
              "    fill: #1967D2;\n",
              "    height: 32px;\n",
              "    padding: 0 0 0 0;\n",
              "    width: 32px;\n",
              "  }\n",
              "\n",
              "  .colab-df-quickchart:hover {\n",
              "    background-color: #E2EBFA;\n",
              "    box-shadow: 0px 1px 2px rgba(60, 64, 67, 0.3), 0px 1px 3px 1px rgba(60, 64, 67, 0.15);\n",
              "    fill: #174EA6;\n",
              "  }\n",
              "\n",
              "  [theme=dark] .colab-df-quickchart {\n",
              "    background-color: #3B4455;\n",
              "    fill: #D2E3FC;\n",
              "  }\n",
              "\n",
              "  [theme=dark] .colab-df-quickchart:hover {\n",
              "    background-color: #434B5C;\n",
              "    box-shadow: 0px 1px 3px 1px rgba(0, 0, 0, 0.15);\n",
              "    filter: drop-shadow(0px 1px 2px rgba(0, 0, 0, 0.3));\n",
              "    fill: #FFFFFF;\n",
              "  }\n",
              "</style>\n",
              "\n",
              "    <script>\n",
              "      async function quickchart(key) {\n",
              "        const containerElement = document.querySelector('#' + key);\n",
              "        const charts = await google.colab.kernel.invokeFunction(\n",
              "            'suggestCharts', [key], {});\n",
              "      }\n",
              "    </script>\n",
              "\n",
              "      <script>\n",
              "\n",
              "function displayQuickchartButton(domScope) {\n",
              "  let quickchartButtonEl =\n",
              "    domScope.querySelector('#df-679cec75-1692-4ef0-9ec7-4bdbf137484d button.colab-df-quickchart');\n",
              "  quickchartButtonEl.style.display =\n",
              "    google.colab.kernel.accessAllowed ? 'block' : 'none';\n",
              "}\n",
              "\n",
              "        displayQuickchartButton(document);\n",
              "      </script>\n",
              "      <style>\n",
              "    .colab-df-container {\n",
              "      display:flex;\n",
              "      flex-wrap:wrap;\n",
              "      gap: 12px;\n",
              "    }\n",
              "\n",
              "    .colab-df-convert {\n",
              "      background-color: #E8F0FE;\n",
              "      border: none;\n",
              "      border-radius: 50%;\n",
              "      cursor: pointer;\n",
              "      display: none;\n",
              "      fill: #1967D2;\n",
              "      height: 32px;\n",
              "      padding: 0 0 0 0;\n",
              "      width: 32px;\n",
              "    }\n",
              "\n",
              "    .colab-df-convert:hover {\n",
              "      background-color: #E2EBFA;\n",
              "      box-shadow: 0px 1px 2px rgba(60, 64, 67, 0.3), 0px 1px 3px 1px rgba(60, 64, 67, 0.15);\n",
              "      fill: #174EA6;\n",
              "    }\n",
              "\n",
              "    [theme=dark] .colab-df-convert {\n",
              "      background-color: #3B4455;\n",
              "      fill: #D2E3FC;\n",
              "    }\n",
              "\n",
              "    [theme=dark] .colab-df-convert:hover {\n",
              "      background-color: #434B5C;\n",
              "      box-shadow: 0px 1px 3px 1px rgba(0, 0, 0, 0.15);\n",
              "      filter: drop-shadow(0px 1px 2px rgba(0, 0, 0, 0.3));\n",
              "      fill: #FFFFFF;\n",
              "    }\n",
              "  </style>\n",
              "\n",
              "      <script>\n",
              "        const buttonEl =\n",
              "          document.querySelector('#df-371f7c11-4c70-4f4a-9efe-d4e631ec1075 button.colab-df-convert');\n",
              "        buttonEl.style.display =\n",
              "          google.colab.kernel.accessAllowed ? 'block' : 'none';\n",
              "\n",
              "        async function convertToInteractive(key) {\n",
              "          const element = document.querySelector('#df-371f7c11-4c70-4f4a-9efe-d4e631ec1075');\n",
              "          const dataTable =\n",
              "            await google.colab.kernel.invokeFunction('convertToInteractive',\n",
              "                                                     [key], {});\n",
              "          if (!dataTable) return;\n",
              "\n",
              "          const docLinkHtml = 'Like what you see? Visit the ' +\n",
              "            '<a target=\"_blank\" href=https://colab.research.google.com/notebooks/data_table.ipynb>data table notebook</a>'\n",
              "            + ' to learn more about interactive tables.';\n",
              "          element.innerHTML = '';\n",
              "          dataTable['output_type'] = 'display_data';\n",
              "          await google.colab.output.renderOutput(dataTable, element);\n",
              "          const docLink = document.createElement('div');\n",
              "          docLink.innerHTML = docLinkHtml;\n",
              "          element.appendChild(docLink);\n",
              "        }\n",
              "      </script>\n",
              "    </div>\n",
              "  </div>\n"
            ]
          },
          "metadata": {},
          "execution_count": 11
        }
      ],
      "source": [
        "pd.get_dummies(x['Brand'], sparse=True)"
      ]
    },
    {
      "cell_type": "code",
      "execution_count": 12,
      "metadata": {
        "id": "PXEkc2MQsfzt"
      },
      "outputs": [],
      "source": [
        "x_brand = pd.get_dummies(x['Brand'], sparse=True).values"
      ]
    },
    {
      "cell_type": "code",
      "execution_count": 13,
      "metadata": {
        "colab": {
          "base_uri": "https://localhost:8080/"
        },
        "id": "0wEmRtBOumKs",
        "outputId": "86bff81f-9bd3-4c7f-b84e-5ebad465cf5a"
      },
      "outputs": [
        {
          "output_type": "execute_result",
          "data": {
            "text/plain": [
              "(1176, 22)"
            ]
          },
          "metadata": {},
          "execution_count": 13
        }
      ],
      "source": [
        "x_brand.shape"
      ]
    },
    {
      "cell_type": "code",
      "execution_count": 14,
      "metadata": {
        "colab": {
          "base_uri": "https://localhost:8080/"
        },
        "id": "pPxs5es31HSV",
        "outputId": "30c12421-754d-456d-e569-fc8042256b03"
      },
      "outputs": [
        {
          "output_type": "execute_result",
          "data": {
            "text/plain": [
              "array([0, 0, 0, 0, 0, 0, 0, 0, 0, 1, 0, 0, 0, 0, 0, 0, 0, 0, 0, 0, 0, 0],\n",
              "      dtype=uint8)"
            ]
          },
          "metadata": {},
          "execution_count": 14
        }
      ],
      "source": [
        "x_brand[0]"
      ]
    },
    {
      "cell_type": "markdown",
      "metadata": {
        "id": "7UmNPi__UEed"
      },
      "source": [
        "### Weight"
      ]
    },
    {
      "cell_type": "code",
      "execution_count": 15,
      "metadata": {
        "colab": {
          "base_uri": "https://localhost:8080/"
        },
        "id": "6z1zM7On853T",
        "outputId": "399976d9-5b5d-4f94-e5b0-d59baa891b72"
      },
      "outputs": [
        {
          "output_type": "execute_result",
          "data": {
            "text/plain": [
              "False    971\n",
              "True     205\n",
              "Name: Weight, dtype: int64"
            ]
          },
          "metadata": {},
          "execution_count": 15
        }
      ],
      "source": [
        "x['Weight'].isnull().value_counts()"
      ]
    },
    {
      "cell_type": "code",
      "execution_count": 16,
      "metadata": {
        "colab": {
          "base_uri": "https://localhost:8080/"
        },
        "id": "a-SJGqZITl5I",
        "outputId": "11a5a631-1e50-4d5b-8b92-bcf6209b25b9"
      },
      "outputs": [
        {
          "output_type": "stream",
          "name": "stderr",
          "text": [
            "<ipython-input-16-59cb0cecd247>:1: SettingWithCopyWarning: \n",
            "A value is trying to be set on a copy of a slice from a DataFrame.\n",
            "Try using .loc[row_indexer,col_indexer] = value instead\n",
            "\n",
            "See the caveats in the documentation: https://pandas.pydata.org/pandas-docs/stable/user_guide/indexing.html#returning-a-view-versus-a-copy\n",
            "  x['Weight'] = x['Weight'].fillna('0.0')\n"
          ]
        }
      ],
      "source": [
        "x['Weight'] = x['Weight'].fillna('0.0')"
      ]
    },
    {
      "cell_type": "code",
      "execution_count": 17,
      "metadata": {
        "id": "ITAQZY4UEqxp"
      },
      "outputs": [],
      "source": [
        "import re\n",
        "def find_weight(w):\n",
        "  weight = re.findall(r'-?\\d+.\\d+|-?\\d+', w)\n",
        "  if weight:\n",
        "    weight = float(weight[0].replace(',','.').replace('/','.'))\n",
        "    if weight > 10:\n",
        "      return weight / 1000\n",
        "    return weight\n",
        "  else:\n",
        "    return 0.0"
      ]
    },
    {
      "cell_type": "code",
      "execution_count": 18,
      "metadata": {
        "colab": {
          "base_uri": "https://localhost:8080/"
        },
        "id": "mtvWl-DwEwYk",
        "outputId": "357a6088-9220-49c2-ea82-0b2380c75b21"
      },
      "outputs": [
        {
          "output_type": "stream",
          "name": "stderr",
          "text": [
            "<ipython-input-18-934c06521bff>:1: SettingWithCopyWarning: \n",
            "A value is trying to be set on a copy of a slice from a DataFrame.\n",
            "Try using .loc[row_indexer,col_indexer] = value instead\n",
            "\n",
            "See the caveats in the documentation: https://pandas.pydata.org/pandas-docs/stable/user_guide/indexing.html#returning-a-view-versus-a-copy\n",
            "  x['Weight'] = x['Weight'].apply(find_weight)\n"
          ]
        },
        {
          "output_type": "execute_result",
          "data": {
            "text/plain": [
              "0       1.70\n",
              "1       2.30\n",
              "2       1.29\n",
              "3       2.00\n",
              "4       2.43\n",
              "        ... \n",
              "1171    0.00\n",
              "1172    0.00\n",
              "1173    0.00\n",
              "1174    2.00\n",
              "1175    0.00\n",
              "Name: Weight, Length: 1176, dtype: float64"
            ]
          },
          "metadata": {},
          "execution_count": 18
        }
      ],
      "source": [
        "x['Weight'] = x['Weight'].apply(find_weight)\n",
        "x['Weight']"
      ]
    },
    {
      "cell_type": "code",
      "execution_count": 19,
      "metadata": {
        "id": "0XMb9YB8zth3"
      },
      "outputs": [],
      "source": [
        "weight_std = x['Weight'].std()"
      ]
    },
    {
      "cell_type": "code",
      "execution_count": 20,
      "metadata": {
        "id": "6DgnTDBf0TIF"
      },
      "outputs": [],
      "source": [
        "weight_mean = x['Weight'].mean()"
      ]
    },
    {
      "cell_type": "code",
      "execution_count": 21,
      "metadata": {
        "id": "eFIDHuMQ0YY2"
      },
      "outputs": [],
      "source": [
        "weight_max = x['Weight'].max()"
      ]
    },
    {
      "cell_type": "code",
      "execution_count": 22,
      "metadata": {
        "colab": {
          "base_uri": "https://localhost:8080/"
        },
        "id": "HgU28TzGzjBM",
        "outputId": "7224e7e5-0347-41dd-f759-9ebaeeb3c960"
      },
      "outputs": [
        {
          "output_type": "execute_result",
          "data": {
            "text/plain": [
              "array([1.7  , 2.3  , 1.29 , 2.   , 2.43 , 3.075, 2.3  , 2.2  , 1.8  ,\n",
              "       1.11 ])"
            ]
          },
          "metadata": {},
          "execution_count": 22
        }
      ],
      "source": [
        "x_weight = x['Weight'].apply(lambda x:weight_max/2 if x==0.0 else x).values\n",
        "x_weight[:10]"
      ]
    },
    {
      "cell_type": "code",
      "execution_count": 23,
      "metadata": {
        "colab": {
          "base_uri": "https://localhost:8080/"
        },
        "id": "vP7QW_fQu5-c",
        "outputId": "47cb6d43-fdb8-4006-e889-03720fd22f42"
      },
      "outputs": [
        {
          "output_type": "execute_result",
          "data": {
            "text/plain": [
              "(1176,)"
            ]
          },
          "metadata": {},
          "execution_count": 23
        }
      ],
      "source": [
        "x_weight.shape"
      ]
    },
    {
      "cell_type": "markdown",
      "metadata": {
        "id": "YbMT-JUyiNXR"
      },
      "source": [
        "### Cache"
      ]
    },
    {
      "cell_type": "code",
      "execution_count": 24,
      "metadata": {
        "colab": {
          "base_uri": "https://localhost:8080/"
        },
        "id": "O-Aqs_VGkUt3",
        "outputId": "2c2b8f2f-aec0-498e-e0d5-d99b5aff8edf"
      },
      "outputs": [
        {
          "output_type": "execute_result",
          "data": {
            "text/plain": [
              "False    817\n",
              "True     359\n",
              "Name: Cache, dtype: int64"
            ]
          },
          "metadata": {},
          "execution_count": 24
        }
      ],
      "source": [
        "x['Cache'].isnull().value_counts()"
      ]
    },
    {
      "cell_type": "code",
      "execution_count": 25,
      "metadata": {
        "colab": {
          "base_uri": "https://localhost:8080/"
        },
        "id": "gikCHYjxiFFq",
        "outputId": "d6b15154-ac95-4412-faa6-e7a081d1c1c9"
      },
      "outputs": [
        {
          "output_type": "stream",
          "name": "stderr",
          "text": [
            "<ipython-input-25-149b15b3d20b>:1: SettingWithCopyWarning: \n",
            "A value is trying to be set on a copy of a slice from a DataFrame.\n",
            "Try using .loc[row_indexer,col_indexer] = value instead\n",
            "\n",
            "See the caveats in the documentation: https://pandas.pydata.org/pandas-docs/stable/user_guide/indexing.html#returning-a-view-versus-a-copy\n",
            "  x['Cache'] = x['Cache'].fillna('0')\n"
          ]
        }
      ],
      "source": [
        "x['Cache'] = x['Cache'].fillna('0')"
      ]
    },
    {
      "cell_type": "code",
      "execution_count": 26,
      "metadata": {
        "id": "E-t0pvlyiWJz"
      },
      "outputs": [],
      "source": [
        "def find_num(s):\n",
        "  exp = re.findall(r'\\d+', s)\n",
        "  if exp:\n",
        "    return int(exp[0])\n",
        "  else:\n",
        "    return 0"
      ]
    },
    {
      "cell_type": "code",
      "execution_count": 27,
      "metadata": {
        "colab": {
          "base_uri": "https://localhost:8080/"
        },
        "id": "6UiN1YcF23ER",
        "outputId": "889bb806-65e7-4a2d-953f-40937b04554e"
      },
      "outputs": [
        {
          "output_type": "stream",
          "name": "stderr",
          "text": [
            "<ipython-input-27-d61383461169>:1: SettingWithCopyWarning: \n",
            "A value is trying to be set on a copy of a slice from a DataFrame.\n",
            "Try using .loc[row_indexer,col_indexer] = value instead\n",
            "\n",
            "See the caveats in the documentation: https://pandas.pydata.org/pandas-docs/stable/user_guide/indexing.html#returning-a-view-versus-a-copy\n",
            "  x['Cache'] = x['Cache'].apply(find_num)\n"
          ]
        },
        {
          "output_type": "execute_result",
          "data": {
            "text/plain": [
              "0        4\n",
              "1       18\n",
              "2       12\n",
              "3       24\n",
              "4        6\n",
              "        ..\n",
              "1171     4\n",
              "1172     0\n",
              "1173    12\n",
              "1174    24\n",
              "1175     0\n",
              "Name: Cache, Length: 1176, dtype: int64"
            ]
          },
          "metadata": {},
          "execution_count": 27
        }
      ],
      "source": [
        "x['Cache'] = x['Cache'].apply(find_num)\n",
        "x['Cache']"
      ]
    },
    {
      "cell_type": "code",
      "execution_count": 28,
      "metadata": {
        "colab": {
          "base_uri": "https://localhost:8080/"
        },
        "id": "-Ai13kHfi-48",
        "outputId": "152b7b66-aa70-4c6f-b181-05b2e6d8cdbf"
      },
      "outputs": [
        {
          "output_type": "execute_result",
          "data": {
            "text/plain": [
              "array([ 4, 18, 12, 24,  6,  4,  8, 18,  8,  6])"
            ]
          },
          "metadata": {},
          "execution_count": 28
        }
      ],
      "source": [
        "x_cache = x['Cache'].apply(lambda x:4 if x==0 else x).values\n",
        "x_cache[:10]"
      ]
    },
    {
      "cell_type": "code",
      "execution_count": 29,
      "metadata": {
        "colab": {
          "base_uri": "https://localhost:8080/"
        },
        "id": "V98sczxWu_Jl",
        "outputId": "994be4a0-da9a-438b-cb00-7c777d3d1a3e"
      },
      "outputs": [
        {
          "output_type": "execute_result",
          "data": {
            "text/plain": [
              "(1176,)"
            ]
          },
          "metadata": {},
          "execution_count": 29
        }
      ],
      "source": [
        "x_cache.shape"
      ]
    },
    {
      "cell_type": "markdown",
      "metadata": {
        "id": "1HtfQUa1kL-a"
      },
      "source": [
        "### RAM"
      ]
    },
    {
      "cell_type": "code",
      "execution_count": 30,
      "metadata": {
        "colab": {
          "base_uri": "https://localhost:8080/"
        },
        "id": "0Z4UZU4njI-0",
        "outputId": "a0cae2c6-d5e9-4dfb-954b-01162aa7d700"
      },
      "outputs": [
        {
          "output_type": "execute_result",
          "data": {
            "text/plain": [
              "False    786\n",
              "True     390\n",
              "Name: RAM, dtype: int64"
            ]
          },
          "metadata": {},
          "execution_count": 30
        }
      ],
      "source": [
        "x['RAM'].isnull().value_counts()"
      ]
    },
    {
      "cell_type": "code",
      "execution_count": 31,
      "metadata": {
        "colab": {
          "base_uri": "https://localhost:8080/"
        },
        "id": "COieB740kjRn",
        "outputId": "17496928-d640-4100-f7ec-6a5dae91b855"
      },
      "outputs": [
        {
          "output_type": "stream",
          "name": "stderr",
          "text": [
            "<ipython-input-31-818ea4f39674>:1: SettingWithCopyWarning: \n",
            "A value is trying to be set on a copy of a slice from a DataFrame.\n",
            "Try using .loc[row_indexer,col_indexer] = value instead\n",
            "\n",
            "See the caveats in the documentation: https://pandas.pydata.org/pandas-docs/stable/user_guide/indexing.html#returning-a-view-versus-a-copy\n",
            "  x['RAM'] = x['RAM'].fillna('0')\n"
          ]
        }
      ],
      "source": [
        "x['RAM'] = x['RAM'].fillna('0')"
      ]
    },
    {
      "cell_type": "code",
      "execution_count": 32,
      "metadata": {
        "colab": {
          "base_uri": "https://localhost:8080/"
        },
        "id": "aIb52Ln-3TTa",
        "outputId": "16ec9f99-c6f6-41f9-e81c-e208bd0132da"
      },
      "outputs": [
        {
          "output_type": "stream",
          "name": "stderr",
          "text": [
            "<ipython-input-32-2838cf50b50d>:1: SettingWithCopyWarning: \n",
            "A value is trying to be set on a copy of a slice from a DataFrame.\n",
            "Try using .loc[row_indexer,col_indexer] = value instead\n",
            "\n",
            "See the caveats in the documentation: https://pandas.pydata.org/pandas-docs/stable/user_guide/indexing.html#returning-a-view-versus-a-copy\n",
            "  x['RAM'] = x['RAM'].apply(find_num)\n"
          ]
        },
        {
          "output_type": "execute_result",
          "data": {
            "text/plain": [
              "0        4\n",
              "1       16\n",
              "2        8\n",
              "3       16\n",
              "4       12\n",
              "        ..\n",
              "1171     0\n",
              "1172     0\n",
              "1173     0\n",
              "1174     8\n",
              "1175     0\n",
              "Name: RAM, Length: 1176, dtype: int64"
            ]
          },
          "metadata": {},
          "execution_count": 32
        }
      ],
      "source": [
        "x['RAM'] = x['RAM'].apply(find_num)\n",
        "x['RAM']"
      ]
    },
    {
      "cell_type": "code",
      "execution_count": 33,
      "metadata": {
        "colab": {
          "base_uri": "https://localhost:8080/"
        },
        "id": "CVk_0v4x59sv",
        "outputId": "ac696018-335c-4fe1-cb09-1c1cfc150ca3"
      },
      "outputs": [
        {
          "output_type": "execute_result",
          "data": {
            "text/plain": [
              "0     395\n",
              "16    348\n",
              "8     218\n",
              "32     96\n",
              "4      59\n",
              "12     34\n",
              "64      9\n",
              "24      7\n",
              "20      5\n",
              "2       2\n",
              "96      1\n",
              "6       1\n",
              "3       1\n",
              "Name: RAM, dtype: int64"
            ]
          },
          "metadata": {},
          "execution_count": 33
        }
      ],
      "source": [
        "x['RAM'].value_counts()"
      ]
    },
    {
      "cell_type": "code",
      "execution_count": 34,
      "metadata": {
        "colab": {
          "base_uri": "https://localhost:8080/",
          "height": 177
        },
        "id": "Q6y8M_hE6Tqm",
        "outputId": "9df10720-b844-44cf-bf56-79ae7cff215f"
      },
      "outputs": [
        {
          "output_type": "execute_result",
          "data": {
            "text/plain": [
              "                                                 Title        Brand  Weight  \\\n",
              "163  مک بوک پرو 16 اینچ m2 max ظرفیت 96/1tb گیگ 12/...  macbook pro     0.0   \n",
              "\n",
              "      CPUSeries      CPUModel  Cache  RAM     Memory MemoryType       Size  \\\n",
              "163  M2 Chipset  Apple M2 Max     12   96  1 ترابایت        SSD  16.2 اینچ   \n",
              "\n",
              "    StockStatus  \n",
              "163         new  "
            ],
            "text/html": [
              "\n",
              "\n",
              "  <div id=\"df-7b82e583-62ee-4c6e-ba5c-eafda1ef90ed\">\n",
              "    <div class=\"colab-df-container\">\n",
              "      <div>\n",
              "<style scoped>\n",
              "    .dataframe tbody tr th:only-of-type {\n",
              "        vertical-align: middle;\n",
              "    }\n",
              "\n",
              "    .dataframe tbody tr th {\n",
              "        vertical-align: top;\n",
              "    }\n",
              "\n",
              "    .dataframe thead th {\n",
              "        text-align: right;\n",
              "    }\n",
              "</style>\n",
              "<table border=\"1\" class=\"dataframe\">\n",
              "  <thead>\n",
              "    <tr style=\"text-align: right;\">\n",
              "      <th></th>\n",
              "      <th>Title</th>\n",
              "      <th>Brand</th>\n",
              "      <th>Weight</th>\n",
              "      <th>CPUSeries</th>\n",
              "      <th>CPUModel</th>\n",
              "      <th>Cache</th>\n",
              "      <th>RAM</th>\n",
              "      <th>Memory</th>\n",
              "      <th>MemoryType</th>\n",
              "      <th>Size</th>\n",
              "      <th>StockStatus</th>\n",
              "    </tr>\n",
              "  </thead>\n",
              "  <tbody>\n",
              "    <tr>\n",
              "      <th>163</th>\n",
              "      <td>مک بوک پرو 16 اینچ m2 max ظرفیت 96/1tb گیگ 12/...</td>\n",
              "      <td>macbook pro</td>\n",
              "      <td>0.0</td>\n",
              "      <td>M2 Chipset</td>\n",
              "      <td>Apple M2 Max</td>\n",
              "      <td>12</td>\n",
              "      <td>96</td>\n",
              "      <td>1 ترابایت</td>\n",
              "      <td>SSD</td>\n",
              "      <td>16.2 اینچ</td>\n",
              "      <td>new</td>\n",
              "    </tr>\n",
              "  </tbody>\n",
              "</table>\n",
              "</div>\n",
              "      <button class=\"colab-df-convert\" onclick=\"convertToInteractive('df-7b82e583-62ee-4c6e-ba5c-eafda1ef90ed')\"\n",
              "              title=\"Convert this dataframe to an interactive table.\"\n",
              "              style=\"display:none;\">\n",
              "\n",
              "  <svg xmlns=\"http://www.w3.org/2000/svg\" height=\"24px\"viewBox=\"0 0 24 24\"\n",
              "       width=\"24px\">\n",
              "    <path d=\"M0 0h24v24H0V0z\" fill=\"none\"/>\n",
              "    <path d=\"M18.56 5.44l.94 2.06.94-2.06 2.06-.94-2.06-.94-.94-2.06-.94 2.06-2.06.94zm-11 1L8.5 8.5l.94-2.06 2.06-.94-2.06-.94L8.5 2.5l-.94 2.06-2.06.94zm10 10l.94 2.06.94-2.06 2.06-.94-2.06-.94-.94-2.06-.94 2.06-2.06.94z\"/><path d=\"M17.41 7.96l-1.37-1.37c-.4-.4-.92-.59-1.43-.59-.52 0-1.04.2-1.43.59L10.3 9.45l-7.72 7.72c-.78.78-.78 2.05 0 2.83L4 21.41c.39.39.9.59 1.41.59.51 0 1.02-.2 1.41-.59l7.78-7.78 2.81-2.81c.8-.78.8-2.07 0-2.86zM5.41 20L4 18.59l7.72-7.72 1.47 1.35L5.41 20z\"/>\n",
              "  </svg>\n",
              "      </button>\n",
              "\n",
              "\n",
              "\n",
              "    <div id=\"df-634c18e6-ec2e-497e-b213-e26581017e43\">\n",
              "      <button class=\"colab-df-quickchart\" onclick=\"quickchart('df-634c18e6-ec2e-497e-b213-e26581017e43')\"\n",
              "              title=\"Suggest charts.\"\n",
              "              style=\"display:none;\">\n",
              "\n",
              "<svg xmlns=\"http://www.w3.org/2000/svg\" height=\"24px\"viewBox=\"0 0 24 24\"\n",
              "     width=\"24px\">\n",
              "    <g>\n",
              "        <path d=\"M19 3H5c-1.1 0-2 .9-2 2v14c0 1.1.9 2 2 2h14c1.1 0 2-.9 2-2V5c0-1.1-.9-2-2-2zM9 17H7v-7h2v7zm4 0h-2V7h2v10zm4 0h-2v-4h2v4z\"/>\n",
              "    </g>\n",
              "</svg>\n",
              "      </button>\n",
              "    </div>\n",
              "\n",
              "<style>\n",
              "  .colab-df-quickchart {\n",
              "    background-color: #E8F0FE;\n",
              "    border: none;\n",
              "    border-radius: 50%;\n",
              "    cursor: pointer;\n",
              "    display: none;\n",
              "    fill: #1967D2;\n",
              "    height: 32px;\n",
              "    padding: 0 0 0 0;\n",
              "    width: 32px;\n",
              "  }\n",
              "\n",
              "  .colab-df-quickchart:hover {\n",
              "    background-color: #E2EBFA;\n",
              "    box-shadow: 0px 1px 2px rgba(60, 64, 67, 0.3), 0px 1px 3px 1px rgba(60, 64, 67, 0.15);\n",
              "    fill: #174EA6;\n",
              "  }\n",
              "\n",
              "  [theme=dark] .colab-df-quickchart {\n",
              "    background-color: #3B4455;\n",
              "    fill: #D2E3FC;\n",
              "  }\n",
              "\n",
              "  [theme=dark] .colab-df-quickchart:hover {\n",
              "    background-color: #434B5C;\n",
              "    box-shadow: 0px 1px 3px 1px rgba(0, 0, 0, 0.15);\n",
              "    filter: drop-shadow(0px 1px 2px rgba(0, 0, 0, 0.3));\n",
              "    fill: #FFFFFF;\n",
              "  }\n",
              "</style>\n",
              "\n",
              "    <script>\n",
              "      async function quickchart(key) {\n",
              "        const containerElement = document.querySelector('#' + key);\n",
              "        const charts = await google.colab.kernel.invokeFunction(\n",
              "            'suggestCharts', [key], {});\n",
              "      }\n",
              "    </script>\n",
              "\n",
              "      <script>\n",
              "\n",
              "function displayQuickchartButton(domScope) {\n",
              "  let quickchartButtonEl =\n",
              "    domScope.querySelector('#df-634c18e6-ec2e-497e-b213-e26581017e43 button.colab-df-quickchart');\n",
              "  quickchartButtonEl.style.display =\n",
              "    google.colab.kernel.accessAllowed ? 'block' : 'none';\n",
              "}\n",
              "\n",
              "        displayQuickchartButton(document);\n",
              "      </script>\n",
              "      <style>\n",
              "    .colab-df-container {\n",
              "      display:flex;\n",
              "      flex-wrap:wrap;\n",
              "      gap: 12px;\n",
              "    }\n",
              "\n",
              "    .colab-df-convert {\n",
              "      background-color: #E8F0FE;\n",
              "      border: none;\n",
              "      border-radius: 50%;\n",
              "      cursor: pointer;\n",
              "      display: none;\n",
              "      fill: #1967D2;\n",
              "      height: 32px;\n",
              "      padding: 0 0 0 0;\n",
              "      width: 32px;\n",
              "    }\n",
              "\n",
              "    .colab-df-convert:hover {\n",
              "      background-color: #E2EBFA;\n",
              "      box-shadow: 0px 1px 2px rgba(60, 64, 67, 0.3), 0px 1px 3px 1px rgba(60, 64, 67, 0.15);\n",
              "      fill: #174EA6;\n",
              "    }\n",
              "\n",
              "    [theme=dark] .colab-df-convert {\n",
              "      background-color: #3B4455;\n",
              "      fill: #D2E3FC;\n",
              "    }\n",
              "\n",
              "    [theme=dark] .colab-df-convert:hover {\n",
              "      background-color: #434B5C;\n",
              "      box-shadow: 0px 1px 3px 1px rgba(0, 0, 0, 0.15);\n",
              "      filter: drop-shadow(0px 1px 2px rgba(0, 0, 0, 0.3));\n",
              "      fill: #FFFFFF;\n",
              "    }\n",
              "  </style>\n",
              "\n",
              "      <script>\n",
              "        const buttonEl =\n",
              "          document.querySelector('#df-7b82e583-62ee-4c6e-ba5c-eafda1ef90ed button.colab-df-convert');\n",
              "        buttonEl.style.display =\n",
              "          google.colab.kernel.accessAllowed ? 'block' : 'none';\n",
              "\n",
              "        async function convertToInteractive(key) {\n",
              "          const element = document.querySelector('#df-7b82e583-62ee-4c6e-ba5c-eafda1ef90ed');\n",
              "          const dataTable =\n",
              "            await google.colab.kernel.invokeFunction('convertToInteractive',\n",
              "                                                     [key], {});\n",
              "          if (!dataTable) return;\n",
              "\n",
              "          const docLinkHtml = 'Like what you see? Visit the ' +\n",
              "            '<a target=\"_blank\" href=https://colab.research.google.com/notebooks/data_table.ipynb>data table notebook</a>'\n",
              "            + ' to learn more about interactive tables.';\n",
              "          element.innerHTML = '';\n",
              "          dataTable['output_type'] = 'display_data';\n",
              "          await google.colab.output.renderOutput(dataTable, element);\n",
              "          const docLink = document.createElement('div');\n",
              "          docLink.innerHTML = docLinkHtml;\n",
              "          element.appendChild(docLink);\n",
              "        }\n",
              "      </script>\n",
              "    </div>\n",
              "  </div>\n"
            ]
          },
          "metadata": {},
          "execution_count": 34
        }
      ],
      "source": [
        "x[x['RAM'] == 96]"
      ]
    },
    {
      "cell_type": "code",
      "execution_count": 35,
      "metadata": {
        "colab": {
          "base_uri": "https://localhost:8080/"
        },
        "id": "iU88YgNjkjRo",
        "outputId": "36e88bc3-813e-4381-84b7-7484d0aa4916"
      },
      "outputs": [
        {
          "output_type": "execute_result",
          "data": {
            "text/plain": [
              "array([ 4, 16,  8, 16, 12,  8,  8,  8,  8,  8])"
            ]
          },
          "metadata": {},
          "execution_count": 35
        }
      ],
      "source": [
        "x_ram = x['RAM'].apply(lambda x:8 if x==0 else x).values\n",
        "x_ram[:10]"
      ]
    },
    {
      "cell_type": "code",
      "execution_count": 36,
      "metadata": {
        "colab": {
          "base_uri": "https://localhost:8080/"
        },
        "id": "MyhtQ5uvvCeY",
        "outputId": "9a27ced5-7ad0-4fa5-956b-52ab770a6f96"
      },
      "outputs": [
        {
          "output_type": "execute_result",
          "data": {
            "text/plain": [
              "(1176,)"
            ]
          },
          "metadata": {},
          "execution_count": 36
        }
      ],
      "source": [
        "x_ram.shape"
      ]
    },
    {
      "cell_type": "markdown",
      "metadata": {
        "id": "TVh10i_Fl0P4"
      },
      "source": [
        "### Memory"
      ]
    },
    {
      "cell_type": "code",
      "execution_count": 37,
      "metadata": {
        "colab": {
          "base_uri": "https://localhost:8080/"
        },
        "id": "-67OdcBYlnPm",
        "outputId": "f3ea9753-c294-4afa-827c-ec471fff0e07"
      },
      "outputs": [
        {
          "output_type": "execute_result",
          "data": {
            "text/plain": [
              "False    793\n",
              "True     383\n",
              "Name: Memory, dtype: int64"
            ]
          },
          "metadata": {},
          "execution_count": 37
        }
      ],
      "source": [
        "x['Memory'].isnull().value_counts()"
      ]
    },
    {
      "cell_type": "code",
      "execution_count": 38,
      "metadata": {
        "colab": {
          "base_uri": "https://localhost:8080/"
        },
        "id": "ekYMzuKjl3xe",
        "outputId": "2b4a47cb-0b10-4528-b661-7e55d19b05f7"
      },
      "outputs": [
        {
          "output_type": "stream",
          "name": "stderr",
          "text": [
            "<ipython-input-38-7fe1a75166fa>:1: SettingWithCopyWarning: \n",
            "A value is trying to be set on a copy of a slice from a DataFrame.\n",
            "Try using .loc[row_indexer,col_indexer] = value instead\n",
            "\n",
            "See the caveats in the documentation: https://pandas.pydata.org/pandas-docs/stable/user_guide/indexing.html#returning-a-view-versus-a-copy\n",
            "  x['Memory'] = x['Memory'].fillna('0')\n"
          ]
        }
      ],
      "source": [
        "x['Memory'] = x['Memory'].fillna('0')"
      ]
    },
    {
      "cell_type": "code",
      "execution_count": 39,
      "metadata": {
        "colab": {
          "base_uri": "https://localhost:8080/"
        },
        "id": "x2OVa6o38Sgh",
        "outputId": "961ca183-d074-49a1-9147-3550fa0e747e"
      },
      "outputs": [
        {
          "output_type": "stream",
          "name": "stderr",
          "text": [
            "<ipython-input-39-388fce3b9095>:1: SettingWithCopyWarning: \n",
            "A value is trying to be set on a copy of a slice from a DataFrame.\n",
            "Try using .loc[row_indexer,col_indexer] = value instead\n",
            "\n",
            "See the caveats in the documentation: https://pandas.pydata.org/pandas-docs/stable/user_guide/indexing.html#returning-a-view-versus-a-copy\n",
            "  x['Memory'] = x['Memory'].apply(find_num)\n"
          ]
        },
        {
          "output_type": "execute_result",
          "data": {
            "text/plain": [
              "0         1\n",
              "1       512\n",
              "2       256\n",
              "3       512\n",
              "4         1\n",
              "       ... \n",
              "1171      0\n",
              "1172      0\n",
              "1173    512\n",
              "1174    512\n",
              "1175      0\n",
              "Name: Memory, Length: 1176, dtype: int64"
            ]
          },
          "metadata": {},
          "execution_count": 39
        }
      ],
      "source": [
        "x['Memory'] = x['Memory'].apply(find_num)\n",
        "x['Memory']"
      ]
    },
    {
      "cell_type": "code",
      "execution_count": 40,
      "metadata": {
        "colab": {
          "base_uri": "https://localhost:8080/"
        },
        "id": "Bv6mHbIu8V4p",
        "outputId": "43ba3311-d84e-4e05-d4ed-49623f8913ef"
      },
      "outputs": [
        {
          "output_type": "execute_result",
          "data": {
            "text/plain": [
              "0       392\n",
              "1       307\n",
              "512     286\n",
              "256     124\n",
              "2        22\n",
              "128      19\n",
              "500      10\n",
              "4         6\n",
              "320       4\n",
              "1000      3\n",
              "64        1\n",
              "32        1\n",
              "120       1\n",
              "Name: Memory, dtype: int64"
            ]
          },
          "metadata": {},
          "execution_count": 40
        }
      ],
      "source": [
        "x['Memory'].value_counts()"
      ]
    },
    {
      "cell_type": "code",
      "execution_count": 41,
      "metadata": {
        "colab": {
          "base_uri": "https://localhost:8080/"
        },
        "id": "lkAcaKx-mU0T",
        "outputId": "da059c01-986e-4e03-e56a-c9e6868aae09"
      },
      "outputs": [
        {
          "output_type": "stream",
          "name": "stderr",
          "text": [
            "<ipython-input-41-60624fc90e42>:1: SettingWithCopyWarning: \n",
            "A value is trying to be set on a copy of a slice from a DataFrame.\n",
            "Try using .loc[row_indexer,col_indexer] = value instead\n",
            "\n",
            "See the caveats in the documentation: https://pandas.pydata.org/pandas-docs/stable/user_guide/indexing.html#returning-a-view-versus-a-copy\n",
            "  x['Memory'] = x['Memory'].apply(lambda x:256 if x==0 else x)\n"
          ]
        },
        {
          "output_type": "execute_result",
          "data": {
            "text/plain": [
              "array([1024,  512,  256,  512, 1024,  256,  512,  512,  512,  256])"
            ]
          },
          "metadata": {},
          "execution_count": 41
        }
      ],
      "source": [
        "x['Memory'] = x['Memory'].apply(lambda x:256 if x==0 else x)\n",
        "x_memory = x['Memory'].apply(lambda x: x * 1024 if x < 10 else x).values\n",
        "x_memory[:10]"
      ]
    },
    {
      "cell_type": "code",
      "execution_count": 42,
      "metadata": {
        "colab": {
          "base_uri": "https://localhost:8080/"
        },
        "id": "lwQ_i40avHOM",
        "outputId": "ece2f380-51b3-48ae-8335-5a41bd512c31"
      },
      "outputs": [
        {
          "output_type": "execute_result",
          "data": {
            "text/plain": [
              "(1176,)"
            ]
          },
          "metadata": {},
          "execution_count": 42
        }
      ],
      "source": [
        "x_memory.shape"
      ]
    },
    {
      "cell_type": "markdown",
      "metadata": {
        "id": "wzy0mtrCEGJy"
      },
      "source": [
        "### Memory Type"
      ]
    },
    {
      "cell_type": "code",
      "execution_count": 43,
      "metadata": {
        "colab": {
          "base_uri": "https://localhost:8080/"
        },
        "id": "v3AqS0VYDMFA",
        "outputId": "fdb733d4-a1b1-4a44-d67f-fc037e007ecd"
      },
      "outputs": [
        {
          "output_type": "execute_result",
          "data": {
            "text/plain": [
              "SSD    936\n",
              "HDD    240\n",
              "Name: MemoryType, dtype: int64"
            ]
          },
          "metadata": {},
          "execution_count": 43
        }
      ],
      "source": [
        "x['MemoryType'].value_counts()"
      ]
    },
    {
      "cell_type": "code",
      "execution_count": 44,
      "metadata": {
        "colab": {
          "base_uri": "https://localhost:8080/"
        },
        "id": "5udGxFC-DSs4",
        "outputId": "778c2bec-fcf7-460a-f8be-dd128f5fe34b"
      },
      "outputs": [
        {
          "output_type": "execute_result",
          "data": {
            "text/plain": [
              "array([0, 1, 1, ..., 1, 1, 0])"
            ]
          },
          "metadata": {},
          "execution_count": 44
        }
      ],
      "source": [
        "from sklearn.preprocessing import LabelEncoder\n",
        "le = LabelEncoder()\n",
        "x_memory_type = le.fit_transform(x['MemoryType'])\n",
        "x_memory_type"
      ]
    },
    {
      "cell_type": "markdown",
      "metadata": {
        "id": "i_hy5dKUvFnf"
      },
      "source": [
        "### Size"
      ]
    },
    {
      "cell_type": "code",
      "execution_count": 45,
      "metadata": {
        "colab": {
          "base_uri": "https://localhost:8080/"
        },
        "id": "quWVe7Him9Z5",
        "outputId": "e5b5b887-31af-4cc9-ae1c-2654f8d06567"
      },
      "outputs": [
        {
          "output_type": "execute_result",
          "data": {
            "text/plain": [
              "False    901\n",
              "True     275\n",
              "Name: Size, dtype: int64"
            ]
          },
          "metadata": {},
          "execution_count": 45
        }
      ],
      "source": [
        "x['Size'].isnull().value_counts()"
      ]
    },
    {
      "cell_type": "code",
      "execution_count": 46,
      "metadata": {
        "colab": {
          "base_uri": "https://localhost:8080/"
        },
        "id": "MEZ4_mXCnA2J",
        "outputId": "1611ccc8-075f-4284-9b0f-330486727b3b"
      },
      "outputs": [
        {
          "output_type": "stream",
          "name": "stderr",
          "text": [
            "<ipython-input-46-bec4e1d25585>:1: SettingWithCopyWarning: \n",
            "A value is trying to be set on a copy of a slice from a DataFrame.\n",
            "Try using .loc[row_indexer,col_indexer] = value instead\n",
            "\n",
            "See the caveats in the documentation: https://pandas.pydata.org/pandas-docs/stable/user_guide/indexing.html#returning-a-view-versus-a-copy\n",
            "  x['Size'] = x['Size'].fillna('0.0')\n"
          ]
        }
      ],
      "source": [
        "x['Size'] = x['Size'].fillna('0.0')"
      ]
    },
    {
      "cell_type": "code",
      "execution_count": 47,
      "metadata": {
        "colab": {
          "base_uri": "https://localhost:8080/"
        },
        "id": "8KJ6qDow9Ldc",
        "outputId": "e2fd3256-877d-4de9-8ee4-2ea306ff1f17"
      },
      "outputs": [
        {
          "output_type": "stream",
          "name": "stderr",
          "text": [
            "<ipython-input-47-a1c2540736a8>:1: SettingWithCopyWarning: \n",
            "A value is trying to be set on a copy of a slice from a DataFrame.\n",
            "Try using .loc[row_indexer,col_indexer] = value instead\n",
            "\n",
            "See the caveats in the documentation: https://pandas.pydata.org/pandas-docs/stable/user_guide/indexing.html#returning-a-view-versus-a-copy\n",
            "  x['Size'] = x['Size'].apply(lambda x: float(re.findall(r'-?\\d+.\\d+|-?\\d+', x)[0]))\n"
          ]
        },
        {
          "output_type": "execute_result",
          "data": {
            "text/plain": [
              "0       15.60\n",
              "1       15.60\n",
              "2       13.30\n",
              "3       15.60\n",
              "4       15.60\n",
              "        ...  \n",
              "1171    11.60\n",
              "1172     0.00\n",
              "1173     0.85\n",
              "1174    15.60\n",
              "1175     0.00\n",
              "Name: Size, Length: 1176, dtype: float64"
            ]
          },
          "metadata": {},
          "execution_count": 47
        }
      ],
      "source": [
        "x['Size'] = x['Size'].apply(lambda x: float(re.findall(r'-?\\d+.\\d+|-?\\d+', x)[0]))\n",
        "x['Size']"
      ]
    },
    {
      "cell_type": "code",
      "execution_count": 48,
      "metadata": {
        "colab": {
          "base_uri": "https://localhost:8080/"
        },
        "id": "mjpz3qWe9iuZ",
        "outputId": "3d130c00-8c72-4187-b913-56acb59656e5"
      },
      "outputs": [
        {
          "output_type": "execute_result",
          "data": {
            "text/plain": [
              "15.60     489\n",
              "0.00      275\n",
              "14.00      84\n",
              "16.00      68\n",
              "17.30      44\n",
              "13.30      36\n",
              "16.10      23\n",
              "13.50      21\n",
              "16.20      13\n",
              "15.00      12\n",
              "13.60      11\n",
              "18.00      11\n",
              "14.10      10\n",
              "17.00       9\n",
              "13.00       8\n",
              "13.40       8\n",
              "14.20       7\n",
              "15.64       6\n",
              "14.40       6\n",
              "12.00       5\n",
              "11.60       4\n",
              "12.50       4\n",
              "12.40       3\n",
              "15.40       3\n",
              "15.30       2\n",
              "11.00       1\n",
              "2.50        1\n",
              "11.80       1\n",
              "267.00      1\n",
              "14.88       1\n",
              "13.10       1\n",
              "10.10       1\n",
              "14.80       1\n",
              "11.98       1\n",
              "12.30       1\n",
              "13.90       1\n",
              "0.67        1\n",
              "14.50       1\n",
              "0.85        1\n",
              "Name: Size, dtype: int64"
            ]
          },
          "metadata": {},
          "execution_count": 48
        }
      ],
      "source": [
        "x['Size'].value_counts()"
      ]
    },
    {
      "cell_type": "code",
      "execution_count": 49,
      "metadata": {
        "colab": {
          "base_uri": "https://localhost:8080/"
        },
        "id": "xbWTFNnpnIJt",
        "outputId": "79fe89a9-dbfc-4a0b-c02b-9b26a285f2c9"
      },
      "outputs": [
        {
          "output_type": "execute_result",
          "data": {
            "text/plain": [
              "array([15.6, 15.6, 13.3, 15.6, 15.6, 13. , 15.6, 15.6, 15.6, 13. ])"
            ]
          },
          "metadata": {},
          "execution_count": 49
        }
      ],
      "source": [
        "x_size = x['Size'].apply(lambda x:13.0 if x==0.0 else x).values\n",
        "x_size[:10]"
      ]
    },
    {
      "cell_type": "code",
      "execution_count": 50,
      "metadata": {
        "colab": {
          "base_uri": "https://localhost:8080/"
        },
        "id": "KTGsDl-hvKUN",
        "outputId": "a768cf00-3ffb-4150-e845-3f14aa516f79"
      },
      "outputs": [
        {
          "output_type": "execute_result",
          "data": {
            "text/plain": [
              "(1176,)"
            ]
          },
          "metadata": {},
          "execution_count": 50
        }
      ],
      "source": [
        "x_size.shape"
      ]
    },
    {
      "cell_type": "markdown",
      "metadata": {
        "id": "MklI7X_CA4rD"
      },
      "source": [
        "### Stock"
      ]
    },
    {
      "cell_type": "code",
      "execution_count": 51,
      "metadata": {
        "colab": {
          "base_uri": "https://localhost:8080/"
        },
        "id": "3_R8oge6vUWK",
        "outputId": "6d1d2f44-c401-4c75-ca40-6192808bc014"
      },
      "outputs": [
        {
          "output_type": "execute_result",
          "data": {
            "text/plain": [
              "array([0, 0, 0, ..., 0, 0, 1])"
            ]
          },
          "metadata": {},
          "execution_count": 51
        }
      ],
      "source": [
        "x_stock = le.fit_transform(x['StockStatus'])\n",
        "x_stock"
      ]
    },
    {
      "cell_type": "code",
      "execution_count": 52,
      "metadata": {
        "id": "tJTAvYWv_y4-"
      },
      "outputs": [],
      "source": [
        "from string import punctuation\n",
        "# Create a function to remove punctuations\n",
        "def remove_punctuation(sentence: str) -> str:\n",
        "    return sentence.translate(str.maketrans('', '', punctuation))\n",
        "\n",
        "# Create a function to lowercase the words\n",
        "def to_lower(x):\n",
        "    return x.lower()"
      ]
    },
    {
      "cell_type": "markdown",
      "metadata": {
        "id": "ytFSo4i0UMFS"
      },
      "source": [
        "### CPU"
      ]
    },
    {
      "cell_type": "code",
      "execution_count": 53,
      "metadata": {
        "colab": {
          "base_uri": "https://localhost:8080/"
        },
        "id": "GackvDU41Kah",
        "outputId": "c20f4b14-93e1-43f6-d8d9-3297075722ca"
      },
      "outputs": [
        {
          "output_type": "execute_result",
          "data": {
            "text/plain": [
              "False    857\n",
              "True     319\n",
              "Name: CPUSeries, dtype: int64"
            ]
          },
          "metadata": {},
          "execution_count": 53
        }
      ],
      "source": [
        "x['CPUSeries'].isnull().value_counts()"
      ]
    },
    {
      "cell_type": "code",
      "execution_count": 54,
      "metadata": {
        "colab": {
          "base_uri": "https://localhost:8080/"
        },
        "id": "Q_4V9LN0E8FY",
        "outputId": "eadc6c91-14fb-40f4-aa16-38e34ff8f4ec"
      },
      "outputs": [
        {
          "output_type": "execute_result",
          "data": {
            "text/plain": [
              "False    732\n",
              "True     444\n",
              "Name: CPUModel, dtype: int64"
            ]
          },
          "metadata": {},
          "execution_count": 54
        }
      ],
      "source": [
        "x['CPUModel'].isnull().value_counts()"
      ]
    },
    {
      "cell_type": "code",
      "execution_count": 55,
      "metadata": {
        "colab": {
          "base_uri": "https://localhost:8080/"
        },
        "id": "a2KejBRb1YC5",
        "outputId": "f76ec322-e93b-4494-ffd5-1d719362e22b"
      },
      "outputs": [
        {
          "output_type": "stream",
          "name": "stderr",
          "text": [
            "<ipython-input-55-9022f7e466f2>:1: SettingWithCopyWarning: \n",
            "A value is trying to be set on a copy of a slice from a DataFrame.\n",
            "Try using .loc[row_indexer,col_indexer] = value instead\n",
            "\n",
            "See the caveats in the documentation: https://pandas.pydata.org/pandas-docs/stable/user_guide/indexing.html#returning-a-view-versus-a-copy\n",
            "  x['CPUSeries'] = x['CPUSeries'].fillna('unknown')\n",
            "<ipython-input-55-9022f7e466f2>:2: SettingWithCopyWarning: \n",
            "A value is trying to be set on a copy of a slice from a DataFrame.\n",
            "Try using .loc[row_indexer,col_indexer] = value instead\n",
            "\n",
            "See the caveats in the documentation: https://pandas.pydata.org/pandas-docs/stable/user_guide/indexing.html#returning-a-view-versus-a-copy\n",
            "  x['CPUModel'] = x['CPUModel'].fillna('unknown')\n"
          ]
        }
      ],
      "source": [
        "x['CPUSeries'] = x['CPUSeries'].fillna('unknown')\n",
        "x['CPUModel'] = x['CPUModel'].fillna('unknown')"
      ]
    },
    {
      "cell_type": "code",
      "execution_count": 56,
      "metadata": {
        "colab": {
          "base_uri": "https://localhost:8080/"
        },
        "id": "HcWy5_uJgv6w",
        "outputId": "eb72f4f6-f53f-422a-b103-c6015e1adcf3"
      },
      "outputs": [
        {
          "output_type": "stream",
          "name": "stderr",
          "text": [
            "<ipython-input-56-0c2084b59741>:1: SettingWithCopyWarning: \n",
            "A value is trying to be set on a copy of a slice from a DataFrame.\n",
            "Try using .loc[row_indexer,col_indexer] = value instead\n",
            "\n",
            "See the caveats in the documentation: https://pandas.pydata.org/pandas-docs/stable/user_guide/indexing.html#returning-a-view-versus-a-copy\n",
            "  x['CPUSeries'] = x['CPUSeries'].apply(remove_punctuation)\n",
            "<ipython-input-56-0c2084b59741>:2: SettingWithCopyWarning: \n",
            "A value is trying to be set on a copy of a slice from a DataFrame.\n",
            "Try using .loc[row_indexer,col_indexer] = value instead\n",
            "\n",
            "See the caveats in the documentation: https://pandas.pydata.org/pandas-docs/stable/user_guide/indexing.html#returning-a-view-versus-a-copy\n",
            "  x['CPUSeries'] = x['CPUSeries'].apply(to_lower)\n",
            "<ipython-input-56-0c2084b59741>:4: SettingWithCopyWarning: \n",
            "A value is trying to be set on a copy of a slice from a DataFrame.\n",
            "Try using .loc[row_indexer,col_indexer] = value instead\n",
            "\n",
            "See the caveats in the documentation: https://pandas.pydata.org/pandas-docs/stable/user_guide/indexing.html#returning-a-view-versus-a-copy\n",
            "  x['CPUModel'] = x['CPUModel'].apply(remove_punctuation)\n",
            "<ipython-input-56-0c2084b59741>:5: SettingWithCopyWarning: \n",
            "A value is trying to be set on a copy of a slice from a DataFrame.\n",
            "Try using .loc[row_indexer,col_indexer] = value instead\n",
            "\n",
            "See the caveats in the documentation: https://pandas.pydata.org/pandas-docs/stable/user_guide/indexing.html#returning-a-view-versus-a-copy\n",
            "  x['CPUModel'] = x['CPUModel'].apply(to_lower)\n"
          ]
        }
      ],
      "source": [
        "x['CPUSeries'] = x['CPUSeries'].apply(remove_punctuation)\n",
        "x['CPUSeries'] = x['CPUSeries'].apply(to_lower)\n",
        "\n",
        "x['CPUModel'] = x['CPUModel'].apply(remove_punctuation)\n",
        "x['CPUModel'] = x['CPUModel'].apply(to_lower)"
      ]
    },
    {
      "cell_type": "code",
      "execution_count": 57,
      "metadata": {
        "id": "vF8_uxpch1W1"
      },
      "outputs": [],
      "source": [
        "from sklearn.feature_extraction.text import TfidfVectorizer\n",
        "tv = TfidfVectorizer(max_features=200, ngram_range=(1, 2), stop_words='english')\n",
        "x_cpu_series = tv.fit_transform(x['CPUSeries'])\n",
        "x_cpu_model = tv.fit_transform(x['CPUModel'])"
      ]
    },
    {
      "cell_type": "code",
      "execution_count": 58,
      "metadata": {
        "colab": {
          "base_uri": "https://localhost:8080/"
        },
        "id": "rRIXtOFLiBJR",
        "outputId": "a4106ced-37f5-47b8-f1e5-c84c839a094d"
      },
      "outputs": [
        {
          "output_type": "stream",
          "name": "stdout",
          "text": [
            "(1176, 156)\n",
            "(1176, 200)\n"
          ]
        }
      ],
      "source": [
        "print(x_cpu_series.shape)\n",
        "print(x_cpu_model.shape)"
      ]
    },
    {
      "cell_type": "markdown",
      "source": [
        "## Concat All Processed Features"
      ],
      "metadata": {
        "id": "qh-xTl-MwRRZ"
      }
    },
    {
      "cell_type": "code",
      "execution_count": 59,
      "metadata": {
        "colab": {
          "base_uri": "https://localhost:8080/"
        },
        "id": "7mS1czXu1YW8",
        "outputId": "3038b431-2b81-4948-b64f-4ad620f1fd6a"
      },
      "outputs": [
        {
          "output_type": "stream",
          "name": "stdout",
          "text": [
            "(1176, 385)\n"
          ]
        }
      ],
      "source": [
        "from scipy.sparse import hstack\n",
        "\n",
        "x_train = hstack((x_brand,\n",
        "                  x_weight.reshape(1176,1),\n",
        "                  x_cpu_series,\n",
        "                  x_cpu_model,\n",
        "                  x_cache.reshape(1176,1),\n",
        "                  x_ram.reshape(1176,1),\n",
        "                  x_memory.reshape(1176,1),\n",
        "                  x_memory_type.reshape(1176,1),\n",
        "                  x_size.reshape(1176,1),\n",
        "                  x_stock.reshape(1176,1))).toarray()\n",
        "print(x_train.shape)"
      ]
    },
    {
      "cell_type": "markdown",
      "metadata": {
        "id": "Ysyi-wSUUJLq"
      },
      "source": [
        "## Extract Price"
      ]
    },
    {
      "cell_type": "code",
      "execution_count": 60,
      "metadata": {
        "colab": {
          "base_uri": "https://localhost:8080/"
        },
        "id": "dzqdZUE_Mgdz",
        "outputId": "af1f8bd0-b2e0-4722-845c-ca95844de676"
      },
      "outputs": [
        {
          "output_type": "stream",
          "name": "stdout",
          "text": [
            "Requirement already satisfied: unidecode in /usr/local/lib/python3.10/dist-packages (1.3.6)\n"
          ]
        }
      ],
      "source": [
        "!pip install unidecode"
      ]
    },
    {
      "cell_type": "code",
      "execution_count": 61,
      "metadata": {
        "id": "xo7TVm8YKmBQ"
      },
      "outputs": [],
      "source": [
        "from unidecode import unidecode\n",
        "def getnumber(s):\n",
        "  return int(unidecode(re.findall(r'-?\\d+\\٫?\\d+\\٫?\\d+', s)[0].replace('٫','')))"
      ]
    },
    {
      "cell_type": "code",
      "execution_count": 62,
      "metadata": {
        "colab": {
          "base_uri": "https://localhost:8080/"
        },
        "id": "eVMThx-JHZDP",
        "outputId": "ee60f356-44e2-49af-d5aa-ad4ca3d4919d"
      },
      "outputs": [
        {
          "output_type": "execute_result",
          "data": {
            "text/plain": [
              "0        8125000\n",
              "1       34479000\n",
              "2       37000000\n",
              "3       57600000\n",
              "4       14650000\n",
              "          ...   \n",
              "1171     9400000\n",
              "1172     7850000\n",
              "1173    36000000\n",
              "1174    48200000\n",
              "1175    12100000\n",
              "Name: Price, Length: 1176, dtype: int64"
            ]
          },
          "metadata": {},
          "execution_count": 62
        }
      ],
      "source": [
        "y = y.apply(getnumber)\n",
        "y"
      ]
    },
    {
      "cell_type": "markdown",
      "metadata": {
        "id": "FZOCzGOI0oVJ"
      },
      "source": [
        "## Plot Histogram of Price"
      ]
    },
    {
      "cell_type": "code",
      "execution_count": 63,
      "metadata": {
        "colab": {
          "base_uri": "https://localhost:8080/",
          "height": 476
        },
        "id": "4yg4eSucYyuE",
        "outputId": "686c6d4c-215b-43f9-a6d6-04da0c1684ca"
      },
      "outputs": [
        {
          "output_type": "display_data",
          "data": {
            "text/plain": [
              "<Figure size 640x480 with 1 Axes>"
            ],
            "image/png": "[encoded data removed]"
          },
          "metadata": {}
        }
      ],
      "source": [
        "# Plot Price Distribution\n",
        "y.plot.hist()\n",
        "plt.xlabel('price', fontsize=12)\n",
        "plt.title('Price Distribution', fontsize=12)\n",
        "plt.show()"
      ]
    },
    {
      "cell_type": "markdown",
      "metadata": {
        "id": "CS4-sUoqZQWw"
      },
      "source": [
        "## Taking log(price)"
      ]
    },
    {
      "cell_type": "markdown",
      "metadata": {
        "id": "QS8uYBA8ZR3n"
      },
      "source": [
        "Generally, the Root Mean Squared Error (RMSE) metric is used for regression tasks. But as price followed a long-tailed distribution, in order to make errors on low price product more relevant than for higher prices, the metric chosen for competition evaluation was Root Mean Squared Logarithmic Error (RMSLE). Thus, I applied the log transformation to the price target variable, to make this assumption available for model training.\n",
        "\n"
      ]
    },
    {
      "cell_type": "code",
      "execution_count": 64,
      "metadata": {
        "colab": {
          "base_uri": "https://localhost:8080/",
          "height": 476
        },
        "id": "UPg5yxO1ZP-6",
        "outputId": "2cdd3cb4-1116-4dbc-8113-13c6d4796158"
      },
      "outputs": [
        {
          "output_type": "display_data",
          "data": {
            "text/plain": [
              "<Figure size 640x480 with 1 Axes>"
            ],
            "image/png": "[encoded data removed]"
          },
          "metadata": {}
        }
      ],
      "source": [
        "# Plot Price Distribution\n",
        "np.log(y+1).plot.hist()\n",
        "plt.xlabel('log(price+1)', fontsize=12)\n",
        "plt.title('Log Price Distribution', fontsize=12)\n",
        "plt.show()"
      ]
    },
    {
      "cell_type": "code",
      "execution_count": 65,
      "metadata": {
        "colab": {
          "base_uri": "https://localhost:8080/"
        },
        "id": "mbvZyVYMWIUM",
        "outputId": "83855650-4d03-4b24-e441-70bc4db88451"
      },
      "outputs": [
        {
          "output_type": "stream",
          "name": "stdout",
          "text": [
            "(1176,)\n"
          ]
        }
      ],
      "source": [
        "y_train = np.log(y+1)\n",
        "print(y_train.shape)"
      ]
    },
    {
      "cell_type": "markdown",
      "source": [
        "## Standardize $X_{Train}$"
      ],
      "metadata": {
        "id": "aUelXBitwraO"
      }
    },
    {
      "cell_type": "code",
      "execution_count": 66,
      "metadata": {
        "colab": {
          "base_uri": "https://localhost:8080/"
        },
        "id": "ZuczGWH086H_",
        "outputId": "df82af80-1a1a-4232-c39f-199ff235c639"
      },
      "outputs": [
        {
          "output_type": "execute_result",
          "data": {
            "text/plain": [
              "array([[-0.18764666, -0.029173  , -0.14433757, ..., -1.97484177,\n",
              "         0.08961065, -0.43759497],\n",
              "       [-0.18764666, -0.029173  , -0.14433757, ...,  0.50636968,\n",
              "         0.08961065, -0.43759497],\n",
              "       [-0.18764666, -0.029173  , -0.14433757, ...,  0.50636968,\n",
              "        -0.21658568, -0.43759497],\n",
              "       ...,\n",
              "       [-0.18764666, -0.029173  , -0.14433757, ...,  0.50636968,\n",
              "        -1.87403972, -0.43759497],\n",
              "       [-0.18764666, -0.029173  , -0.14433757, ...,  0.50636968,\n",
              "         0.08961065, -0.43759497],\n",
              "       [-0.18764666, -0.029173  , -0.14433757, ..., -1.97484177,\n",
              "        -0.25652433,  2.2852182 ]])"
            ]
          },
          "metadata": {},
          "execution_count": 66
        }
      ],
      "source": [
        "from sklearn.preprocessing import StandardScaler\n",
        "sc = StandardScaler()\n",
        "X_train = sc.fit_transform(x_train)\n",
        "X_train"
      ]
    },
    {
      "cell_type": "markdown",
      "metadata": {
        "id": "pfF7rw_I-l6P"
      },
      "source": [
        "## Linear Regresion"
      ]
    },
    {
      "cell_type": "code",
      "execution_count": 67,
      "metadata": {
        "id": "w2gzivt03Jxb"
      },
      "outputs": [],
      "source": [
        "from sklearn.linear_model import LinearRegression\n",
        "lr = LinearRegression()\n",
        "lr_model = lr.fit(X_train, y_train)"
      ]
    },
    {
      "cell_type": "code",
      "execution_count": 68,
      "metadata": {
        "colab": {
          "base_uri": "https://localhost:8080/"
        },
        "id": "UUVLezzH698W",
        "outputId": "d4b903b1-8fa7-4bff-f498-2b10315f3214"
      },
      "outputs": [
        {
          "output_type": "stream",
          "name": "stdout",
          "text": [
            "The mean squared error of the optimal model is 0.1798\n"
          ]
        }
      ],
      "source": [
        "from sklearn.metrics import mean_squared_error\n",
        "lr_pre = lr.predict(X_train)\n",
        "mse = mean_squared_error(y_train, lr_pre)\n",
        "print(f\"The mean squared error of the optimal model is {mse:.4f}\")"
      ]
    },
    {
      "cell_type": "code",
      "execution_count": 69,
      "metadata": {
        "colab": {
          "base_uri": "https://localhost:8080/"
        },
        "id": "U2K3Qs-F7N0c",
        "outputId": "e18cf155-4119-4b2e-d2a4-25fedca5a159"
      },
      "outputs": [
        {
          "output_type": "stream",
          "name": "stdout",
          "text": [
            "The mean absolute error of the optimal model is 0.2805 g\n"
          ]
        }
      ],
      "source": [
        "from sklearn.metrics import mean_absolute_error\n",
        "mae = mean_absolute_error(y_train, lr_pre)\n",
        "print(f\"The mean absolute error of the optimal model is {mae:.4f} g\")"
      ]
    },
    {
      "cell_type": "code",
      "execution_count": 70,
      "metadata": {
        "colab": {
          "base_uri": "https://localhost:8080/"
        },
        "id": "5TDWnNO_0pxJ",
        "outputId": "42174063-cd4b-4b50-d3fa-71039b5867e1"
      },
      "outputs": [
        {
          "output_type": "execute_result",
          "data": {
            "text/plain": [
              "(1176,)"
            ]
          },
          "metadata": {},
          "execution_count": 70
        }
      ],
      "source": [
        "lr_pre.shape"
      ]
    },
    {
      "cell_type": "code",
      "execution_count": 71,
      "metadata": {
        "colab": {
          "base_uri": "https://localhost:8080/",
          "height": 363
        },
        "id": "jaOfEZRu0JTf",
        "outputId": "c8ab133c-cfe9-4859-9546-c5e87f11ed0d"
      },
      "outputs": [
        {
          "output_type": "execute_result",
          "data": {
            "text/plain": [
              "   Actual Price  Predicted Price    Difference\n",
              "0       8125000     7.542130e+06 -5.828700e+05\n",
              "1      34479000     3.334250e+07 -1.136500e+06\n",
              "2      37000000     3.718263e+07  1.826275e+05\n",
              "3      57600000     5.436521e+07 -3.234788e+06\n",
              "4      14650000     1.645142e+07  1.801422e+06\n",
              "5      13300000     1.372206e+07  4.220572e+05\n",
              "6      32161000     3.093857e+07 -1.222426e+06\n",
              "7      29900000     3.654366e+07  6.643658e+06\n",
              "8      23650000     2.955064e+07  5.900637e+06\n",
              "9      21400000     2.098782e+07 -4.121811e+05"
            ],
            "text/html": [
              "\n",
              "\n",
              "  <div id=\"df-8a88b52b-2179-40ba-8bcf-94503e439a81\">\n",
              "    <div class=\"colab-df-container\">\n",
              "      <div>\n",
              "<style scoped>\n",
              "    .dataframe tbody tr th:only-of-type {\n",
              "        vertical-align: middle;\n",
              "    }\n",
              "\n",
              "    .dataframe tbody tr th {\n",
              "        vertical-align: top;\n",
              "    }\n",
              "\n",
              "    .dataframe thead th {\n",
              "        text-align: right;\n",
              "    }\n",
              "</style>\n",
              "<table border=\"1\" class=\"dataframe\">\n",
              "  <thead>\n",
              "    <tr style=\"text-align: right;\">\n",
              "      <th></th>\n",
              "      <th>Actual Price</th>\n",
              "      <th>Predicted Price</th>\n",
              "      <th>Difference</th>\n",
              "    </tr>\n",
              "  </thead>\n",
              "  <tbody>\n",
              "    <tr>\n",
              "      <th>0</th>\n",
              "      <td>8125000</td>\n",
              "      <td>7.542130e+06</td>\n",
              "      <td>-5.828700e+05</td>\n",
              "    </tr>\n",
              "    <tr>\n",
              "      <th>1</th>\n",
              "      <td>34479000</td>\n",
              "      <td>3.334250e+07</td>\n",
              "      <td>-1.136500e+06</td>\n",
              "    </tr>\n",
              "    <tr>\n",
              "      <th>2</th>\n",
              "      <td>37000000</td>\n",
              "      <td>3.718263e+07</td>\n",
              "      <td>1.826275e+05</td>\n",
              "    </tr>\n",
              "    <tr>\n",
              "      <th>3</th>\n",
              "      <td>57600000</td>\n",
              "      <td>5.436521e+07</td>\n",
              "      <td>-3.234788e+06</td>\n",
              "    </tr>\n",
              "    <tr>\n",
              "      <th>4</th>\n",
              "      <td>14650000</td>\n",
              "      <td>1.645142e+07</td>\n",
              "      <td>1.801422e+06</td>\n",
              "    </tr>\n",
              "    <tr>\n",
              "      <th>5</th>\n",
              "      <td>13300000</td>\n",
              "      <td>1.372206e+07</td>\n",
              "      <td>4.220572e+05</td>\n",
              "    </tr>\n",
              "    <tr>\n",
              "      <th>6</th>\n",
              "      <td>32161000</td>\n",
              "      <td>3.093857e+07</td>\n",
              "      <td>-1.222426e+06</td>\n",
              "    </tr>\n",
              "    <tr>\n",
              "      <th>7</th>\n",
              "      <td>29900000</td>\n",
              "      <td>3.654366e+07</td>\n",
              "      <td>6.643658e+06</td>\n",
              "    </tr>\n",
              "    <tr>\n",
              "      <th>8</th>\n",
              "      <td>23650000</td>\n",
              "      <td>2.955064e+07</td>\n",
              "      <td>5.900637e+06</td>\n",
              "    </tr>\n",
              "    <tr>\n",
              "      <th>9</th>\n",
              "      <td>21400000</td>\n",
              "      <td>2.098782e+07</td>\n",
              "      <td>-4.121811e+05</td>\n",
              "    </tr>\n",
              "  </tbody>\n",
              "</table>\n",
              "</div>\n",
              "      <button class=\"colab-df-convert\" onclick=\"convertToInteractive('df-8a88b52b-2179-40ba-8bcf-94503e439a81')\"\n",
              "              title=\"Convert this dataframe to an interactive table.\"\n",
              "              style=\"display:none;\">\n",
              "\n",
              "  <svg xmlns=\"http://www.w3.org/2000/svg\" height=\"24px\"viewBox=\"0 0 24 24\"\n",
              "       width=\"24px\">\n",
              "    <path d=\"M0 0h24v24H0V0z\" fill=\"none\"/>\n",
              "    <path d=\"M18.56 5.44l.94 2.06.94-2.06 2.06-.94-2.06-.94-.94-2.06-.94 2.06-2.06.94zm-11 1L8.5 8.5l.94-2.06 2.06-.94-2.06-.94L8.5 2.5l-.94 2.06-2.06.94zm10 10l.94 2.06.94-2.06 2.06-.94-2.06-.94-.94-2.06-.94 2.06-2.06.94z\"/><path d=\"M17.41 7.96l-1.37-1.37c-.4-.4-.92-.59-1.43-.59-.52 0-1.04.2-1.43.59L10.3 9.45l-7.72 7.72c-.78.78-.78 2.05 0 2.83L4 21.41c.39.39.9.59 1.41.59.51 0 1.02-.2 1.41-.59l7.78-7.78 2.81-2.81c.8-.78.8-2.07 0-2.86zM5.41 20L4 18.59l7.72-7.72 1.47 1.35L5.41 20z\"/>\n",
              "  </svg>\n",
              "      </button>\n",
              "\n",
              "\n",
              "\n",
              "    <div id=\"df-0b473a5f-22ce-414e-83c1-cf6f8dbcbda1\">\n",
              "      <button class=\"colab-df-quickchart\" onclick=\"quickchart('df-0b473a5f-22ce-414e-83c1-cf6f8dbcbda1')\"\n",
              "              title=\"Suggest charts.\"\n",
              "              style=\"display:none;\">\n",
              "\n",
              "<svg xmlns=\"http://www.w3.org/2000/svg\" height=\"24px\"viewBox=\"0 0 24 24\"\n",
              "     width=\"24px\">\n",
              "    <g>\n",
              "        <path d=\"M19 3H5c-1.1 0-2 .9-2 2v14c0 1.1.9 2 2 2h14c1.1 0 2-.9 2-2V5c0-1.1-.9-2-2-2zM9 17H7v-7h2v7zm4 0h-2V7h2v10zm4 0h-2v-4h2v4z\"/>\n",
              "    </g>\n",
              "</svg>\n",
              "      </button>\n",
              "    </div>\n",
              "\n",
              "<style>\n",
              "  .colab-df-quickchart {\n",
              "    background-color: #E8F0FE;\n",
              "    border: none;\n",
              "    border-radius: 50%;\n",
              "    cursor: pointer;\n",
              "    display: none;\n",
              "    fill: #1967D2;\n",
              "    height: 32px;\n",
              "    padding: 0 0 0 0;\n",
              "    width: 32px;\n",
              "  }\n",
              "\n",
              "  .colab-df-quickchart:hover {\n",
              "    background-color: #E2EBFA;\n",
              "    box-shadow: 0px 1px 2px rgba(60, 64, 67, 0.3), 0px 1px 3px 1px rgba(60, 64, 67, 0.15);\n",
              "    fill: #174EA6;\n",
              "  }\n",
              "\n",
              "  [theme=dark] .colab-df-quickchart {\n",
              "    background-color: #3B4455;\n",
              "    fill: #D2E3FC;\n",
              "  }\n",
              "\n",
              "  [theme=dark] .colab-df-quickchart:hover {\n",
              "    background-color: #434B5C;\n",
              "    box-shadow: 0px 1px 3px 1px rgba(0, 0, 0, 0.15);\n",
              "    filter: drop-shadow(0px 1px 2px rgba(0, 0, 0, 0.3));\n",
              "    fill: #FFFFFF;\n",
              "  }\n",
              "</style>\n",
              "\n",
              "    <script>\n",
              "      async function quickchart(key) {\n",
              "        const containerElement = document.querySelector('#' + key);\n",
              "        const charts = await google.colab.kernel.invokeFunction(\n",
              "            'suggestCharts', [key], {});\n",
              "      }\n",
              "    </script>\n",
              "\n",
              "      <script>\n",
              "\n",
              "function displayQuickchartButton(domScope) {\n",
              "  let quickchartButtonEl =\n",
              "    domScope.querySelector('#df-0b473a5f-22ce-414e-83c1-cf6f8dbcbda1 button.colab-df-quickchart');\n",
              "  quickchartButtonEl.style.display =\n",
              "    google.colab.kernel.accessAllowed ? 'block' : 'none';\n",
              "}\n",
              "\n",
              "        displayQuickchartButton(document);\n",
              "      </script>\n",
              "      <style>\n",
              "    .colab-df-container {\n",
              "      display:flex;\n",
              "      flex-wrap:wrap;\n",
              "      gap: 12px;\n",
              "    }\n",
              "\n",
              "    .colab-df-convert {\n",
              "      background-color: #E8F0FE;\n",
              "      border: none;\n",
              "      border-radius: 50%;\n",
              "      cursor: pointer;\n",
              "      display: none;\n",
              "      fill: #1967D2;\n",
              "      height: 32px;\n",
              "      padding: 0 0 0 0;\n",
              "      width: 32px;\n",
              "    }\n",
              "\n",
              "    .colab-df-convert:hover {\n",
              "      background-color: #E2EBFA;\n",
              "      box-shadow: 0px 1px 2px rgba(60, 64, 67, 0.3), 0px 1px 3px 1px rgba(60, 64, 67, 0.15);\n",
              "      fill: #174EA6;\n",
              "    }\n",
              "\n",
              "    [theme=dark] .colab-df-convert {\n",
              "      background-color: #3B4455;\n",
              "      fill: #D2E3FC;\n",
              "    }\n",
              "\n",
              "    [theme=dark] .colab-df-convert:hover {\n",
              "      background-color: #434B5C;\n",
              "      box-shadow: 0px 1px 3px 1px rgba(0, 0, 0, 0.15);\n",
              "      filter: drop-shadow(0px 1px 2px rgba(0, 0, 0, 0.3));\n",
              "      fill: #FFFFFF;\n",
              "    }\n",
              "  </style>\n",
              "\n",
              "      <script>\n",
              "        const buttonEl =\n",
              "          document.querySelector('#df-8a88b52b-2179-40ba-8bcf-94503e439a81 button.colab-df-convert');\n",
              "        buttonEl.style.display =\n",
              "          google.colab.kernel.accessAllowed ? 'block' : 'none';\n",
              "\n",
              "        async function convertToInteractive(key) {\n",
              "          const element = document.querySelector('#df-8a88b52b-2179-40ba-8bcf-94503e439a81');\n",
              "          const dataTable =\n",
              "            await google.colab.kernel.invokeFunction('convertToInteractive',\n",
              "                                                     [key], {});\n",
              "          if (!dataTable) return;\n",
              "\n",
              "          const docLinkHtml = 'Like what you see? Visit the ' +\n",
              "            '<a target=\"_blank\" href=https://colab.research.google.com/notebooks/data_table.ipynb>data table notebook</a>'\n",
              "            + ' to learn more about interactive tables.';\n",
              "          element.innerHTML = '';\n",
              "          dataTable['output_type'] = 'display_data';\n",
              "          await google.colab.output.renderOutput(dataTable, element);\n",
              "          const docLink = document.createElement('div');\n",
              "          docLink.innerHTML = docLinkHtml;\n",
              "          element.appendChild(docLink);\n",
              "        }\n",
              "      </script>\n",
              "    </div>\n",
              "  </div>\n"
            ]
          },
          "metadata": {},
          "execution_count": 71
        }
      ],
      "source": [
        "lr_df = pd.DataFrame({'Actual Price':y, 'Predicted Price':np.expm1(lr_pre), 'Difference':np.expm1(lr_pre)-y})\n",
        "lr_df.head(10)"
      ]
    },
    {
      "cell_type": "code",
      "execution_count": 72,
      "metadata": {
        "colab": {
          "base_uri": "https://localhost:8080/",
          "height": 500
        },
        "id": "wyetblqv725E",
        "outputId": "fe4eaa5d-1657-468a-9587-75c6bda5d350"
      },
      "outputs": [
        {
          "output_type": "stream",
          "name": "stdout",
          "text": [
            "[-1.4025425405186143e+28, -1.166612707509781e+28, -1.0919591074420718e+28, -3.912066331730255e+27, -6.231445911884875e+27, -4.324753679582803e+27, -5.00772299180626e+27, -5.112162939930775e+27, -6.802690399537111e+27]\n"
          ]
        },
        {
          "output_type": "execute_result",
          "data": {
            "text/plain": [
              "[<matplotlib.lines.Line2D at 0x7f5d258e0dc0>]"
            ]
          },
          "metadata": {},
          "execution_count": 72
        },
        {
          "output_type": "display_data",
          "data": {
            "text/plain": [
              "<Figure size 640x480 with 1 Axes>"
            ],
            "image/png": "[encoded data removed]"
          },
          "metadata": {}
        }
      ],
      "source": [
        "from sklearn.model_selection import KFold\n",
        "from sklearn.model_selection import cross_val_score\n",
        "k_score = []\n",
        "for i in range(2,11):\n",
        "  folds = KFold(n_splits = i, shuffle = True, random_state = 123)\n",
        "  scores = cross_val_score(lr, X_train, y_train, scoring='neg_mean_squared_error', cv=folds)\n",
        "  k_score.append(scores.mean())\n",
        "print(k_score)\n",
        "plt.plot(range(2,11), k_score, marker='o')"
      ]
    },
    {
      "cell_type": "markdown",
      "metadata": {
        "id": "W4rdnS0s-qbq"
      },
      "source": [
        "## Linear SVR"
      ]
    },
    {
      "cell_type": "code",
      "execution_count": 73,
      "metadata": {
        "id": "mv5eFj2y7ogK"
      },
      "outputs": [],
      "source": [
        "from sklearn.svm import SVR\n",
        "svr_lr = SVR(kernel='linear')\n",
        "svr_model = svr_lr.fit(X_train, y_train)"
      ]
    },
    {
      "cell_type": "code",
      "execution_count": 74,
      "metadata": {
        "colab": {
          "base_uri": "https://localhost:8080/"
        },
        "id": "N7Md7Aqh-Ae3",
        "outputId": "50397333-5685-4c01-da8e-7e08b4b16000"
      },
      "outputs": [
        {
          "output_type": "stream",
          "name": "stdout",
          "text": [
            "The mean squared error of the optimal model is 0.1788\n"
          ]
        }
      ],
      "source": [
        "svr_lr_pre = svr_lr.predict(X_train)\n",
        "mse = mean_squared_error(y_train, svr_lr_pre)\n",
        "print(f\"The mean squared error of the optimal model is {mse:.4f}\")"
      ]
    },
    {
      "cell_type": "code",
      "execution_count": 75,
      "metadata": {
        "colab": {
          "base_uri": "https://localhost:8080/"
        },
        "id": "LYCVkfVo-LhU",
        "outputId": "32491163-86a6-4c71-8506-b2e0cf05c5a1"
      },
      "outputs": [
        {
          "output_type": "stream",
          "name": "stdout",
          "text": [
            "The mean absolute error of the optimal model is 0.2636 g\n"
          ]
        }
      ],
      "source": [
        "mae = mean_absolute_error(y_train, svr_lr_pre)\n",
        "print(f\"The mean absolute error of the optimal model is {mae:.4f} g\")"
      ]
    },
    {
      "cell_type": "code",
      "execution_count": 76,
      "metadata": {
        "colab": {
          "base_uri": "https://localhost:8080/",
          "height": 363
        },
        "id": "1vvTPHZI1DUN",
        "outputId": "b9533273-738c-49ef-a4a0-c7b7c5631e85"
      },
      "outputs": [
        {
          "output_type": "execute_result",
          "data": {
            "text/plain": [
              "   Actual Price  Predicted Price    Difference\n",
              "0       8125000     8.713470e+06  5.884696e+05\n",
              "1      34479000     3.425174e+07 -2.272619e+05\n",
              "2      37000000     3.346817e+07 -3.531832e+06\n",
              "3      57600000     5.253791e+07 -5.062090e+06\n",
              "4      14650000     1.778640e+07  3.136396e+06\n",
              "5      13300000     1.463697e+07  1.336968e+06\n",
              "6      32161000     2.991343e+07 -2.247572e+06\n",
              "7      29900000     3.699701e+07  7.097015e+06\n",
              "8      23650000     2.859859e+07  4.948587e+06\n",
              "9      21400000     2.094178e+07 -4.582164e+05"
            ],
            "text/html": [
              "\n",
              "\n",
              "  <div id=\"df-d62aa819-cc2c-4a6c-bd49-3bfbfd81b44c\">\n",
              "    <div class=\"colab-df-container\">\n",
              "      <div>\n",
              "<style scoped>\n",
              "    .dataframe tbody tr th:only-of-type {\n",
              "        vertical-align: middle;\n",
              "    }\n",
              "\n",
              "    .dataframe tbody tr th {\n",
              "        vertical-align: top;\n",
              "    }\n",
              "\n",
              "    .dataframe thead th {\n",
              "        text-align: right;\n",
              "    }\n",
              "</style>\n",
              "<table border=\"1\" class=\"dataframe\">\n",
              "  <thead>\n",
              "    <tr style=\"text-align: right;\">\n",
              "      <th></th>\n",
              "      <th>Actual Price</th>\n",
              "      <th>Predicted Price</th>\n",
              "      <th>Difference</th>\n",
              "    </tr>\n",
              "  </thead>\n",
              "  <tbody>\n",
              "    <tr>\n",
              "      <th>0</th>\n",
              "      <td>8125000</td>\n",
              "      <td>8.713470e+06</td>\n",
              "      <td>5.884696e+05</td>\n",
              "    </tr>\n",
              "    <tr>\n",
              "      <th>1</th>\n",
              "      <td>34479000</td>\n",
              "      <td>3.425174e+07</td>\n",
              "      <td>-2.272619e+05</td>\n",
              "    </tr>\n",
              "    <tr>\n",
              "      <th>2</th>\n",
              "      <td>37000000</td>\n",
              "      <td>3.346817e+07</td>\n",
              "      <td>-3.531832e+06</td>\n",
              "    </tr>\n",
              "    <tr>\n",
              "      <th>3</th>\n",
              "      <td>57600000</td>\n",
              "      <td>5.253791e+07</td>\n",
              "      <td>-5.062090e+06</td>\n",
              "    </tr>\n",
              "    <tr>\n",
              "      <th>4</th>\n",
              "      <td>14650000</td>\n",
              "      <td>1.778640e+07</td>\n",
              "      <td>3.136396e+06</td>\n",
              "    </tr>\n",
              "    <tr>\n",
              "      <th>5</th>\n",
              "      <td>13300000</td>\n",
              "      <td>1.463697e+07</td>\n",
              "      <td>1.336968e+06</td>\n",
              "    </tr>\n",
              "    <tr>\n",
              "      <th>6</th>\n",
              "      <td>32161000</td>\n",
              "      <td>2.991343e+07</td>\n",
              "      <td>-2.247572e+06</td>\n",
              "    </tr>\n",
              "    <tr>\n",
              "      <th>7</th>\n",
              "      <td>29900000</td>\n",
              "      <td>3.699701e+07</td>\n",
              "      <td>7.097015e+06</td>\n",
              "    </tr>\n",
              "    <tr>\n",
              "      <th>8</th>\n",
              "      <td>23650000</td>\n",
              "      <td>2.859859e+07</td>\n",
              "      <td>4.948587e+06</td>\n",
              "    </tr>\n",
              "    <tr>\n",
              "      <th>9</th>\n",
              "      <td>21400000</td>\n",
              "      <td>2.094178e+07</td>\n",
              "      <td>-4.582164e+05</td>\n",
              "    </tr>\n",
              "  </tbody>\n",
              "</table>\n",
              "</div>\n",
              "      <button class=\"colab-df-convert\" onclick=\"convertToInteractive('df-d62aa819-cc2c-4a6c-bd49-3bfbfd81b44c')\"\n",
              "              title=\"Convert this dataframe to an interactive table.\"\n",
              "              style=\"display:none;\">\n",
              "\n",
              "  <svg xmlns=\"http://www.w3.org/2000/svg\" height=\"24px\"viewBox=\"0 0 24 24\"\n",
              "       width=\"24px\">\n",
              "    <path d=\"M0 0h24v24H0V0z\" fill=\"none\"/>\n",
              "    <path d=\"M18.56 5.44l.94 2.06.94-2.06 2.06-.94-2.06-.94-.94-2.06-.94 2.06-2.06.94zm-11 1L8.5 8.5l.94-2.06 2.06-.94-2.06-.94L8.5 2.5l-.94 2.06-2.06.94zm10 10l.94 2.06.94-2.06 2.06-.94-2.06-.94-.94-2.06-.94 2.06-2.06.94z\"/><path d=\"M17.41 7.96l-1.37-1.37c-.4-.4-.92-.59-1.43-.59-.52 0-1.04.2-1.43.59L10.3 9.45l-7.72 7.72c-.78.78-.78 2.05 0 2.83L4 21.41c.39.39.9.59 1.41.59.51 0 1.02-.2 1.41-.59l7.78-7.78 2.81-2.81c.8-.78.8-2.07 0-2.86zM5.41 20L4 18.59l7.72-7.72 1.47 1.35L5.41 20z\"/>\n",
              "  </svg>\n",
              "      </button>\n",
              "\n",
              "\n",
              "\n",
              "    <div id=\"df-7534fa22-2365-4c3a-89e7-50d25062b3f0\">\n",
              "      <button class=\"colab-df-quickchart\" onclick=\"quickchart('df-7534fa22-2365-4c3a-89e7-50d25062b3f0')\"\n",
              "              title=\"Suggest charts.\"\n",
              "              style=\"display:none;\">\n",
              "\n",
              "<svg xmlns=\"http://www.w3.org/2000/svg\" height=\"24px\"viewBox=\"0 0 24 24\"\n",
              "     width=\"24px\">\n",
              "    <g>\n",
              "        <path d=\"M19 3H5c-1.1 0-2 .9-2 2v14c0 1.1.9 2 2 2h14c1.1 0 2-.9 2-2V5c0-1.1-.9-2-2-2zM9 17H7v-7h2v7zm4 0h-2V7h2v10zm4 0h-2v-4h2v4z\"/>\n",
              "    </g>\n",
              "</svg>\n",
              "      </button>\n",
              "    </div>\n",
              "\n",
              "<style>\n",
              "  .colab-df-quickchart {\n",
              "    background-color: #E8F0FE;\n",
              "    border: none;\n",
              "    border-radius: 50%;\n",
              "    cursor: pointer;\n",
              "    display: none;\n",
              "    fill: #1967D2;\n",
              "    height: 32px;\n",
              "    padding: 0 0 0 0;\n",
              "    width: 32px;\n",
              "  }\n",
              "\n",
              "  .colab-df-quickchart:hover {\n",
              "    background-color: #E2EBFA;\n",
              "    box-shadow: 0px 1px 2px rgba(60, 64, 67, 0.3), 0px 1px 3px 1px rgba(60, 64, 67, 0.15);\n",
              "    fill: #174EA6;\n",
              "  }\n",
              "\n",
              "  [theme=dark] .colab-df-quickchart {\n",
              "    background-color: #3B4455;\n",
              "    fill: #D2E3FC;\n",
              "  }\n",
              "\n",
              "  [theme=dark] .colab-df-quickchart:hover {\n",
              "    background-color: #434B5C;\n",
              "    box-shadow: 0px 1px 3px 1px rgba(0, 0, 0, 0.15);\n",
              "    filter: drop-shadow(0px 1px 2px rgba(0, 0, 0, 0.3));\n",
              "    fill: #FFFFFF;\n",
              "  }\n",
              "</style>\n",
              "\n",
              "    <script>\n",
              "      async function quickchart(key) {\n",
              "        const containerElement = document.querySelector('#' + key);\n",
              "        const charts = await google.colab.kernel.invokeFunction(\n",
              "            'suggestCharts', [key], {});\n",
              "      }\n",
              "    </script>\n",
              "\n",
              "      <script>\n",
              "\n",
              "function displayQuickchartButton(domScope) {\n",
              "  let quickchartButtonEl =\n",
              "    domScope.querySelector('#df-7534fa22-2365-4c3a-89e7-50d25062b3f0 button.colab-df-quickchart');\n",
              "  quickchartButtonEl.style.display =\n",
              "    google.colab.kernel.accessAllowed ? 'block' : 'none';\n",
              "}\n",
              "\n",
              "        displayQuickchartButton(document);\n",
              "      </script>\n",
              "      <style>\n",
              "    .colab-df-container {\n",
              "      display:flex;\n",
              "      flex-wrap:wrap;\n",
              "      gap: 12px;\n",
              "    }\n",
              "\n",
              "    .colab-df-convert {\n",
              "      background-color: #E8F0FE;\n",
              "      border: none;\n",
              "      border-radius: 50%;\n",
              "      cursor: pointer;\n",
              "      display: none;\n",
              "      fill: #1967D2;\n",
              "      height: 32px;\n",
              "      padding: 0 0 0 0;\n",
              "      width: 32px;\n",
              "    }\n",
              "\n",
              "    .colab-df-convert:hover {\n",
              "      background-color: #E2EBFA;\n",
              "      box-shadow: 0px 1px 2px rgba(60, 64, 67, 0.3), 0px 1px 3px 1px rgba(60, 64, 67, 0.15);\n",
              "      fill: #174EA6;\n",
              "    }\n",
              "\n",
              "    [theme=dark] .colab-df-convert {\n",
              "      background-color: #3B4455;\n",
              "      fill: #D2E3FC;\n",
              "    }\n",
              "\n",
              "    [theme=dark] .colab-df-convert:hover {\n",
              "      background-color: #434B5C;\n",
              "      box-shadow: 0px 1px 3px 1px rgba(0, 0, 0, 0.15);\n",
              "      filter: drop-shadow(0px 1px 2px rgba(0, 0, 0, 0.3));\n",
              "      fill: #FFFFFF;\n",
              "    }\n",
              "  </style>\n",
              "\n",
              "      <script>\n",
              "        const buttonEl =\n",
              "          document.querySelector('#df-d62aa819-cc2c-4a6c-bd49-3bfbfd81b44c button.colab-df-convert');\n",
              "        buttonEl.style.display =\n",
              "          google.colab.kernel.accessAllowed ? 'block' : 'none';\n",
              "\n",
              "        async function convertToInteractive(key) {\n",
              "          const element = document.querySelector('#df-d62aa819-cc2c-4a6c-bd49-3bfbfd81b44c');\n",
              "          const dataTable =\n",
              "            await google.colab.kernel.invokeFunction('convertToInteractive',\n",
              "                                                     [key], {});\n",
              "          if (!dataTable) return;\n",
              "\n",
              "          const docLinkHtml = 'Like what you see? Visit the ' +\n",
              "            '<a target=\"_blank\" href=https://colab.research.google.com/notebooks/data_table.ipynb>data table notebook</a>'\n",
              "            + ' to learn more about interactive tables.';\n",
              "          element.innerHTML = '';\n",
              "          dataTable['output_type'] = 'display_data';\n",
              "          await google.colab.output.renderOutput(dataTable, element);\n",
              "          const docLink = document.createElement('div');\n",
              "          docLink.innerHTML = docLinkHtml;\n",
              "          element.appendChild(docLink);\n",
              "        }\n",
              "      </script>\n",
              "    </div>\n",
              "  </div>\n"
            ]
          },
          "metadata": {},
          "execution_count": 76
        }
      ],
      "source": [
        "lsvr_df = pd.DataFrame({'Actual Price':y, 'Predicted Price':np.expm1(svr_lr_pre), 'Difference':np.expm1(svr_lr_pre)-y})\n",
        "lsvr_df.head(10)"
      ]
    },
    {
      "cell_type": "code",
      "execution_count": 77,
      "metadata": {
        "colab": {
          "base_uri": "https://localhost:8080/",
          "height": 485
        },
        "id": "_arAbIs981kR",
        "outputId": "7dfddf40-1673-4f73-efb6-5edc6ed99f59"
      },
      "outputs": [
        {
          "output_type": "stream",
          "name": "stdout",
          "text": [
            "[-1.1127164505655145, -1.60610080375346, -1.2415964060698341, -1.293403594324095, -1.6626183014830749, -1.483202108529546, -1.1833164934409122, -1.598522934303598, -1.3742655932650882]\n"
          ]
        },
        {
          "output_type": "execute_result",
          "data": {
            "text/plain": [
              "[<matplotlib.lines.Line2D at 0x7f5d236209d0>]"
            ]
          },
          "metadata": {},
          "execution_count": 77
        },
        {
          "output_type": "display_data",
          "data": {
            "text/plain": [
              "<Figure size 640x480 with 1 Axes>"
            ],
            "image/png": "[encoded data removed]"
          },
          "metadata": {}
        }
      ],
      "source": [
        "k_score = []\n",
        "for i in range(2,11):\n",
        "  folds = KFold(n_splits = i, shuffle = True, random_state = 123)\n",
        "  scores = cross_val_score(svr_lr, X_train, y_train, scoring='neg_mean_squared_error', cv=folds)\n",
        "  k_score.append(scores.mean())\n",
        "print(k_score)\n",
        "plt.plot(range(2,11), k_score, marker='o')"
      ]
    },
    {
      "cell_type": "markdown",
      "metadata": {
        "id": "JxoQgm6v-t34"
      },
      "source": [
        "## Ploynomial SVR"
      ]
    },
    {
      "cell_type": "code",
      "execution_count": 78,
      "metadata": {
        "id": "fCEWe2y59Uye"
      },
      "outputs": [],
      "source": [
        "svr_pol = SVR(kernel='poly')\n",
        "svr_model = svr_pol.fit(X_train, y_train)"
      ]
    },
    {
      "cell_type": "code",
      "execution_count": 79,
      "metadata": {
        "colab": {
          "base_uri": "https://localhost:8080/"
        },
        "id": "L4DmG-ap-Y-l",
        "outputId": "87c13300-0b79-4354-e9e5-9e0a2dee1e90"
      },
      "outputs": [
        {
          "output_type": "stream",
          "name": "stdout",
          "text": [
            "The mean squared error of the optimal model is 0.3427\n"
          ]
        }
      ],
      "source": [
        "svr_pol_pre = svr_pol.predict(X_train)\n",
        "mse = mean_squared_error(y_train, svr_pol_pre)\n",
        "print(f\"The mean squared error of the optimal model is {mse:.4f}\")"
      ]
    },
    {
      "cell_type": "code",
      "execution_count": 80,
      "metadata": {
        "colab": {
          "base_uri": "https://localhost:8080/"
        },
        "id": "k339x3xb-fjl",
        "outputId": "fc8f2d83-e184-4dae-fd90-46c949e81197"
      },
      "outputs": [
        {
          "output_type": "stream",
          "name": "stdout",
          "text": [
            "The mean absolute error of the optimal model is 0.3773 g\n"
          ]
        }
      ],
      "source": [
        "mae = mean_absolute_error(y_train, svr_pol_pre)\n",
        "print(f\"The mean absolute error of the optimal model is {mae:.4f} g\")"
      ]
    },
    {
      "cell_type": "code",
      "execution_count": 81,
      "metadata": {
        "colab": {
          "base_uri": "https://localhost:8080/",
          "height": 363
        },
        "id": "v3hfhXfr1b4e",
        "outputId": "a55f01df-9066-4397-8b08-d945d761594f"
      },
      "outputs": [
        {
          "output_type": "execute_result",
          "data": {
            "text/plain": [
              "   Actual Price  Predicted Price    Difference\n",
              "0       8125000     1.525094e+07  7.125938e+06\n",
              "1      34479000     3.344561e+07 -1.033387e+06\n",
              "2      37000000     4.088871e+07  3.888713e+06\n",
              "3      57600000     3.376637e+07 -2.383363e+07\n",
              "4      14650000     2.265748e+07  8.007480e+06\n",
              "5      13300000     3.324694e+07  1.994694e+07\n",
              "6      32161000     3.353228e+07  1.371275e+06\n",
              "7      29900000     3.347112e+07  3.571116e+06\n",
              "8      23650000     3.352066e+07  9.870662e+06\n",
              "9      21400000     2.324313e+07  1.843129e+06"
            ],
            "text/html": [
              "\n",
              "\n",
              "  <div id=\"df-cb28bccf-7fef-4c68-b95a-c462b1911645\">\n",
              "    <div class=\"colab-df-container\">\n",
              "      <div>\n",
              "<style scoped>\n",
              "    .dataframe tbody tr th:only-of-type {\n",
              "        vertical-align: middle;\n",
              "    }\n",
              "\n",
              "    .dataframe tbody tr th {\n",
              "        vertical-align: top;\n",
              "    }\n",
              "\n",
              "    .dataframe thead th {\n",
              "        text-align: right;\n",
              "    }\n",
              "</style>\n",
              "<table border=\"1\" class=\"dataframe\">\n",
              "  <thead>\n",
              "    <tr style=\"text-align: right;\">\n",
              "      <th></th>\n",
              "      <th>Actual Price</th>\n",
              "      <th>Predicted Price</th>\n",
              "      <th>Difference</th>\n",
              "    </tr>\n",
              "  </thead>\n",
              "  <tbody>\n",
              "    <tr>\n",
              "      <th>0</th>\n",
              "      <td>8125000</td>\n",
              "      <td>1.525094e+07</td>\n",
              "      <td>7.125938e+06</td>\n",
              "    </tr>\n",
              "    <tr>\n",
              "      <th>1</th>\n",
              "      <td>34479000</td>\n",
              "      <td>3.344561e+07</td>\n",
              "      <td>-1.033387e+06</td>\n",
              "    </tr>\n",
              "    <tr>\n",
              "      <th>2</th>\n",
              "      <td>37000000</td>\n",
              "      <td>4.088871e+07</td>\n",
              "      <td>3.888713e+06</td>\n",
              "    </tr>\n",
              "    <tr>\n",
              "      <th>3</th>\n",
              "      <td>57600000</td>\n",
              "      <td>3.376637e+07</td>\n",
              "      <td>-2.383363e+07</td>\n",
              "    </tr>\n",
              "    <tr>\n",
              "      <th>4</th>\n",
              "      <td>14650000</td>\n",
              "      <td>2.265748e+07</td>\n",
              "      <td>8.007480e+06</td>\n",
              "    </tr>\n",
              "    <tr>\n",
              "      <th>5</th>\n",
              "      <td>13300000</td>\n",
              "      <td>3.324694e+07</td>\n",
              "      <td>1.994694e+07</td>\n",
              "    </tr>\n",
              "    <tr>\n",
              "      <th>6</th>\n",
              "      <td>32161000</td>\n",
              "      <td>3.353228e+07</td>\n",
              "      <td>1.371275e+06</td>\n",
              "    </tr>\n",
              "    <tr>\n",
              "      <th>7</th>\n",
              "      <td>29900000</td>\n",
              "      <td>3.347112e+07</td>\n",
              "      <td>3.571116e+06</td>\n",
              "    </tr>\n",
              "    <tr>\n",
              "      <th>8</th>\n",
              "      <td>23650000</td>\n",
              "      <td>3.352066e+07</td>\n",
              "      <td>9.870662e+06</td>\n",
              "    </tr>\n",
              "    <tr>\n",
              "      <th>9</th>\n",
              "      <td>21400000</td>\n",
              "      <td>2.324313e+07</td>\n",
              "      <td>1.843129e+06</td>\n",
              "    </tr>\n",
              "  </tbody>\n",
              "</table>\n",
              "</div>\n",
              "      <button class=\"colab-df-convert\" onclick=\"convertToInteractive('df-cb28bccf-7fef-4c68-b95a-c462b1911645')\"\n",
              "              title=\"Convert this dataframe to an interactive table.\"\n",
              "              style=\"display:none;\">\n",
              "\n",
              "  <svg xmlns=\"http://www.w3.org/2000/svg\" height=\"24px\"viewBox=\"0 0 24 24\"\n",
              "       width=\"24px\">\n",
              "    <path d=\"M0 0h24v24H0V0z\" fill=\"none\"/>\n",
              "    <path d=\"M18.56 5.44l.94 2.06.94-2.06 2.06-.94-2.06-.94-.94-2.06-.94 2.06-2.06.94zm-11 1L8.5 8.5l.94-2.06 2.06-.94-2.06-.94L8.5 2.5l-.94 2.06-2.06.94zm10 10l.94 2.06.94-2.06 2.06-.94-2.06-.94-.94-2.06-.94 2.06-2.06.94z\"/><path d=\"M17.41 7.96l-1.37-1.37c-.4-.4-.92-.59-1.43-.59-.52 0-1.04.2-1.43.59L10.3 9.45l-7.72 7.72c-.78.78-.78 2.05 0 2.83L4 21.41c.39.39.9.59 1.41.59.51 0 1.02-.2 1.41-.59l7.78-7.78 2.81-2.81c.8-.78.8-2.07 0-2.86zM5.41 20L4 18.59l7.72-7.72 1.47 1.35L5.41 20z\"/>\n",
              "  </svg>\n",
              "      </button>\n",
              "\n",
              "\n",
              "\n",
              "    <div id=\"df-62886637-5ed0-46ed-bd68-723dc9c01409\">\n",
              "      <button class=\"colab-df-quickchart\" onclick=\"quickchart('df-62886637-5ed0-46ed-bd68-723dc9c01409')\"\n",
              "              title=\"Suggest charts.\"\n",
              "              style=\"display:none;\">\n",
              "\n",
              "<svg xmlns=\"http://www.w3.org/2000/svg\" height=\"24px\"viewBox=\"0 0 24 24\"\n",
              "     width=\"24px\">\n",
              "    <g>\n",
              "        <path d=\"M19 3H5c-1.1 0-2 .9-2 2v14c0 1.1.9 2 2 2h14c1.1 0 2-.9 2-2V5c0-1.1-.9-2-2-2zM9 17H7v-7h2v7zm4 0h-2V7h2v10zm4 0h-2v-4h2v4z\"/>\n",
              "    </g>\n",
              "</svg>\n",
              "      </button>\n",
              "    </div>\n",
              "\n",
              "<style>\n",
              "  .colab-df-quickchart {\n",
              "    background-color: #E8F0FE;\n",
              "    border: none;\n",
              "    border-radius: 50%;\n",
              "    cursor: pointer;\n",
              "    display: none;\n",
              "    fill: #1967D2;\n",
              "    height: 32px;\n",
              "    padding: 0 0 0 0;\n",
              "    width: 32px;\n",
              "  }\n",
              "\n",
              "  .colab-df-quickchart:hover {\n",
              "    background-color: #E2EBFA;\n",
              "    box-shadow: 0px 1px 2px rgba(60, 64, 67, 0.3), 0px 1px 3px 1px rgba(60, 64, 67, 0.15);\n",
              "    fill: #174EA6;\n",
              "  }\n",
              "\n",
              "  [theme=dark] .colab-df-quickchart {\n",
              "    background-color: #3B4455;\n",
              "    fill: #D2E3FC;\n",
              "  }\n",
              "\n",
              "  [theme=dark] .colab-df-quickchart:hover {\n",
              "    background-color: #434B5C;\n",
              "    box-shadow: 0px 1px 3px 1px rgba(0, 0, 0, 0.15);\n",
              "    filter: drop-shadow(0px 1px 2px rgba(0, 0, 0, 0.3));\n",
              "    fill: #FFFFFF;\n",
              "  }\n",
              "</style>\n",
              "\n",
              "    <script>\n",
              "      async function quickchart(key) {\n",
              "        const containerElement = document.querySelector('#' + key);\n",
              "        const charts = await google.colab.kernel.invokeFunction(\n",
              "            'suggestCharts', [key], {});\n",
              "      }\n",
              "    </script>\n",
              "\n",
              "      <script>\n",
              "\n",
              "function displayQuickchartButton(domScope) {\n",
              "  let quickchartButtonEl =\n",
              "    domScope.querySelector('#df-62886637-5ed0-46ed-bd68-723dc9c01409 button.colab-df-quickchart');\n",
              "  quickchartButtonEl.style.display =\n",
              "    google.colab.kernel.accessAllowed ? 'block' : 'none';\n",
              "}\n",
              "\n",
              "        displayQuickchartButton(document);\n",
              "      </script>\n",
              "      <style>\n",
              "    .colab-df-container {\n",
              "      display:flex;\n",
              "      flex-wrap:wrap;\n",
              "      gap: 12px;\n",
              "    }\n",
              "\n",
              "    .colab-df-convert {\n",
              "      background-color: #E8F0FE;\n",
              "      border: none;\n",
              "      border-radius: 50%;\n",
              "      cursor: pointer;\n",
              "      display: none;\n",
              "      fill: #1967D2;\n",
              "      height: 32px;\n",
              "      padding: 0 0 0 0;\n",
              "      width: 32px;\n",
              "    }\n",
              "\n",
              "    .colab-df-convert:hover {\n",
              "      background-color: #E2EBFA;\n",
              "      box-shadow: 0px 1px 2px rgba(60, 64, 67, 0.3), 0px 1px 3px 1px rgba(60, 64, 67, 0.15);\n",
              "      fill: #174EA6;\n",
              "    }\n",
              "\n",
              "    [theme=dark] .colab-df-convert {\n",
              "      background-color: #3B4455;\n",
              "      fill: #D2E3FC;\n",
              "    }\n",
              "\n",
              "    [theme=dark] .colab-df-convert:hover {\n",
              "      background-color: #434B5C;\n",
              "      box-shadow: 0px 1px 3px 1px rgba(0, 0, 0, 0.15);\n",
              "      filter: drop-shadow(0px 1px 2px rgba(0, 0, 0, 0.3));\n",
              "      fill: #FFFFFF;\n",
              "    }\n",
              "  </style>\n",
              "\n",
              "      <script>\n",
              "        const buttonEl =\n",
              "          document.querySelector('#df-cb28bccf-7fef-4c68-b95a-c462b1911645 button.colab-df-convert');\n",
              "        buttonEl.style.display =\n",
              "          google.colab.kernel.accessAllowed ? 'block' : 'none';\n",
              "\n",
              "        async function convertToInteractive(key) {\n",
              "          const element = document.querySelector('#df-cb28bccf-7fef-4c68-b95a-c462b1911645');\n",
              "          const dataTable =\n",
              "            await google.colab.kernel.invokeFunction('convertToInteractive',\n",
              "                                                     [key], {});\n",
              "          if (!dataTable) return;\n",
              "\n",
              "          const docLinkHtml = 'Like what you see? Visit the ' +\n",
              "            '<a target=\"_blank\" href=https://colab.research.google.com/notebooks/data_table.ipynb>data table notebook</a>'\n",
              "            + ' to learn more about interactive tables.';\n",
              "          element.innerHTML = '';\n",
              "          dataTable['output_type'] = 'display_data';\n",
              "          await google.colab.output.renderOutput(dataTable, element);\n",
              "          const docLink = document.createElement('div');\n",
              "          docLink.innerHTML = docLinkHtml;\n",
              "          element.appendChild(docLink);\n",
              "        }\n",
              "      </script>\n",
              "    </div>\n",
              "  </div>\n"
            ]
          },
          "metadata": {},
          "execution_count": 81
        }
      ],
      "source": [
        "psvr_df = pd.DataFrame({'Actual Price':y, 'Predicted Price':np.expm1(svr_pol_pre), 'Difference':np.expm1(svr_pol_pre)-y})\n",
        "psvr_df.head(10)"
      ]
    },
    {
      "cell_type": "code",
      "execution_count": 82,
      "metadata": {
        "colab": {
          "base_uri": "https://localhost:8080/",
          "height": 485
        },
        "id": "5dHbJ75h8_Mb",
        "outputId": "1c735d7e-4a38-43f8-f422-ffcfa27442b4"
      },
      "outputs": [
        {
          "output_type": "stream",
          "name": "stdout",
          "text": [
            "[-0.4940333166934011, -0.4779648679239583, -0.4678997092080066, -0.46262140599259477, -0.4611683013101895, -0.46008457267599573, -0.45886994835979966, -0.45655325980507183, -0.4548328877309163]\n"
          ]
        },
        {
          "output_type": "execute_result",
          "data": {
            "text/plain": [
              "[<matplotlib.lines.Line2D at 0x7f5d23687b20>]"
            ]
          },
          "metadata": {},
          "execution_count": 82
        },
        {
          "output_type": "display_data",
          "data": {
            "text/plain": [
              "<Figure size 640x480 with 1 Axes>"
            ],
            "image/png": "[encoded data removed]"
          },
          "metadata": {}
        }
      ],
      "source": [
        "k_score = []\n",
        "for i in range(2,11):\n",
        "  folds = KFold(n_splits = i, shuffle = True, random_state = 123)\n",
        "  scores = cross_val_score(svr_pol, X_train, y_train, scoring='neg_mean_squared_error', cv=folds)\n",
        "  k_score.append(scores.mean())\n",
        "print(k_score)\n",
        "plt.plot(range(2,11), k_score, marker='o')"
      ]
    },
    {
      "cell_type": "markdown",
      "metadata": {
        "id": "MpUy7VY4NIyu"
      },
      "source": [
        "## XGBoost"
      ]
    },
    {
      "cell_type": "markdown",
      "metadata": {
        "id": "dtA2WfxWNOeh"
      },
      "source": [
        "### max_depth"
      ]
    },
    {
      "cell_type": "markdown",
      "metadata": {
        "id": "mz3_wyqXNUVo"
      },
      "source": [
        "Maximum tree depth for base learners. The deeper the tree, the more complex the model. However, if the tree is too deep, the split becomes less relevant and will cause the model to overfit. A set of 4 candidate values ${5, 9, 10, 14}$"
      ]
    },
    {
      "cell_type": "markdown",
      "metadata": {
        "id": "zgqvN1JCNUR0"
      },
      "source": [
        "### eta"
      ]
    },
    {
      "cell_type": "markdown",
      "metadata": {
        "id": "Ko1HTjmONfaG"
      },
      "source": [
        "Parameter the control the learning rate. If the learning rate is high, it is difficult to converge. On the other hand, if the learning rate is too low it will take more boosting round to converge."
      ]
    },
    {
      "cell_type": "markdown",
      "metadata": {
        "id": "qMq2D7cpNo6J"
      },
      "source": [
        "### subsample"
      ]
    },
    {
      "cell_type": "markdown",
      "metadata": {
        "id": "f5A5wzeHNuDp"
      },
      "source": [
        "Subsampling ratio of the training instances. It will occur once in every boosting iteration. Subsample ratio = 0.5 means that the algorithm would randomly sample half of the training data prior to growing trees. A set of $4$ candidate values ${1, 0.8, 0.6, 0.3}$"
      ]
    },
    {
      "cell_type": "markdown",
      "metadata": {
        "id": "MudzW9YKN8qo"
      },
      "source": [
        "### cosample_bytree"
      ]
    },
    {
      "cell_type": "markdown",
      "metadata": {
        "id": "qCB1rkgwN_Z4"
      },
      "source": [
        "Subsample ratio of columns or features when constructing each tree. Similarly, it occurs once in every boosting iteration. Colsample_bytree = 1 means that we will use all features. A set of $4$ candidate values ${1, 0.8, 0.6, 0.3}$"
      ]
    },
    {
      "cell_type": "markdown",
      "metadata": {
        "id": "ugBOGVYhON7j"
      },
      "source": [
        "### alpha"
      ]
    },
    {
      "cell_type": "markdown",
      "metadata": {
        "id": "36tK7_w1OQZp"
      },
      "source": [
        "L1 regularization parameters to avoid overfitting or control model complexity. A set of $4$ candidate values ${0.05, 0.1, 0.2, 0.3, 0.5}$"
      ]
    },
    {
      "cell_type": "code",
      "execution_count": 83,
      "metadata": {
        "colab": {
          "base_uri": "https://localhost:8080/",
          "height": 303
        },
        "id": "eZjzd9LR_Op7",
        "outputId": "14fb937d-61e7-439a-e0e7-7477b6038c7e"
      },
      "outputs": [
        {
          "output_type": "stream",
          "name": "stderr",
          "text": [
            "/usr/local/lib/python3.10/dist-packages/xgboost/sklearn.py:835: UserWarning: `eval_metric` in `fit` method is deprecated for better compatibility with scikit-learn, use `eval_metric` in constructor or`set_params` instead.\n",
            "  warnings.warn(\n"
          ]
        },
        {
          "output_type": "execute_result",
          "data": {
            "text/plain": [
              "XGBRegressor(base_score=None, booster=None, callbacks=None,\n",
              "             colsample_bylevel=None, colsample_bynode=None,\n",
              "             colsample_bytree=0.8, early_stopping_rounds=None,\n",
              "             enable_categorical=False, eta=0.1, eval_metric=None,\n",
              "             feature_types=None, gamma=None, gpu_id=None, grow_policy=None,\n",
              "             importance_type=None, interaction_constraints=None,\n",
              "             learning_rate=None, max_bin=None, max_cat_threshold=None,\n",
              "             max_cat_to_onehot=None, max_delta_step=None, max_depth=10,\n",
              "             max_leaves=None, min_child_weight=None, missing=nan,\n",
              "             monotone_constraints=None, n_estimators=1000, n_jobs=None,\n",
              "             num_parallel_tree=None, predictor=None, ...)"
            ],
            "text/html": [
              "<style>#sk-container-id-1 {color: black;background-color: white;}#sk-container-id-1 pre{padding: 0;}#sk-container-id-1 div.sk-toggleable {background-color: white;}#sk-container-id-1 label.sk-toggleable__label {cursor: pointer;display: block;width: 100%;margin-bottom: 0;padding: 0.3em;box-sizing: border-box;text-align: center;}#sk-container-id-1 label.sk-toggleable__label-arrow:before {content: \"▸\";float: left;margin-right: 0.25em;color: #696969;}#sk-container-id-1 label.sk-toggleable__label-arrow:hover:before {color: black;}#sk-container-id-1 div.sk-estimator:hover label.sk-toggleable__label-arrow:before {color: black;}#sk-container-id-1 div.sk-toggleable__content {max-height: 0;max-width: 0;overflow: hidden;text-align: left;background-color: #f0f8ff;}#sk-container-id-1 div.sk-toggleable__content pre {margin: 0.2em;color: black;border-radius: 0.25em;background-color: #f0f8ff;}#sk-container-id-1 input.sk-toggleable__control:checked~div.sk-toggleable__content {max-height: 200px;max-width: 100%;overflow: auto;}#sk-container-id-1 input.sk-toggleable__control:checked~label.sk-toggleable__label-arrow:before {content: \"▾\";}#sk-container-id-1 div.sk-estimator input.sk-toggleable__control:checked~label.sk-toggleable__label {background-color: #d4ebff;}#sk-container-id-1 div.sk-label input.sk-toggleable__control:checked~label.sk-toggleable__label {background-color: #d4ebff;}#sk-container-id-1 input.sk-hidden--visually {border: 0;clip: rect(1px 1px 1px 1px);clip: rect(1px, 1px, 1px, 1px);height: 1px;margin: -1px;overflow: hidden;padding: 0;position: absolute;width: 1px;}#sk-container-id-1 div.sk-estimator {font-family: monospace;background-color: #f0f8ff;border: 1px dotted black;border-radius: 0.25em;box-sizing: border-box;margin-bottom: 0.5em;}#sk-container-id-1 div.sk-estimator:hover {background-color: #d4ebff;}#sk-container-id-1 div.sk-parallel-item::after {content: \"\";width: 100%;border-bottom: 1px solid gray;flex-grow: 1;}#sk-container-id-1 div.sk-label:hover label.sk-toggleable__label {background-color: #d4ebff;}#sk-container-id-1 div.sk-serial::before {content: \"\";position: absolute;border-left: 1px solid gray;box-sizing: border-box;top: 0;bottom: 0;left: 50%;z-index: 0;}#sk-container-id-1 div.sk-serial {display: flex;flex-direction: column;align-items: center;background-color: white;padding-right: 0.2em;padding-left: 0.2em;position: relative;}#sk-container-id-1 div.sk-item {position: relative;z-index: 1;}#sk-container-id-1 div.sk-parallel {display: flex;align-items: stretch;justify-content: center;background-color: white;position: relative;}#sk-container-id-1 div.sk-item::before, #sk-container-id-1 div.sk-parallel-item::before {content: \"\";position: absolute;border-left: 1px solid gray;box-sizing: border-box;top: 0;bottom: 0;left: 50%;z-index: -1;}#sk-container-id-1 div.sk-parallel-item {display: flex;flex-direction: column;z-index: 1;position: relative;background-color: white;}#sk-container-id-1 div.sk-parallel-item:first-child::after {align-self: flex-end;width: 50%;}#sk-container-id-1 div.sk-parallel-item:last-child::after {align-self: flex-start;width: 50%;}#sk-container-id-1 div.sk-parallel-item:only-child::after {width: 0;}#sk-container-id-1 div.sk-dashed-wrapped {border: 1px dashed gray;margin: 0 0.4em 0.5em 0.4em;box-sizing: border-box;padding-bottom: 0.4em;background-color: white;}#sk-container-id-1 div.sk-label label {font-family: monospace;font-weight: bold;display: inline-block;line-height: 1.2em;}#sk-container-id-1 div.sk-label-container {text-align: center;}#sk-container-id-1 div.sk-container {/* jupyter's `normalize.less` sets `[hidden] { display: none; }` but bootstrap.min.css set `[hidden] { display: none !important; }` so we also need the `!important` here to be able to override the default hidden behavior on the sphinx rendered scikit-learn.org. See: https://github.com/scikit-learn/scikit-learn/issues/21755 */display: inline-block !important;position: relative;}#sk-container-id-1 div.sk-text-repr-fallback {display: none;}</style><div id=\"sk-container-id-1\" class=\"sk-top-container\"><div class=\"sk-text-repr-fallback\"><pre>XGBRegressor(base_score=None, booster=None, callbacks=None,\n",
              "             colsample_bylevel=None, colsample_bynode=None,\n",
              "             colsample_bytree=0.8, early_stopping_rounds=None,\n",
              "             enable_categorical=False, eta=0.1, eval_metric=None,\n",
              "             feature_types=None, gamma=None, gpu_id=None, grow_policy=None,\n",
              "             importance_type=None, interaction_constraints=None,\n",
              "             learning_rate=None, max_bin=None, max_cat_threshold=None,\n",
              "             max_cat_to_onehot=None, max_delta_step=None, max_depth=10,\n",
              "             max_leaves=None, min_child_weight=None, missing=nan,\n",
              "             monotone_constraints=None, n_estimators=1000, n_jobs=None,\n",
              "             num_parallel_tree=None, predictor=None, ...)</pre><b>In a Jupyter environment, please rerun this cell to show the HTML representation or trust the notebook. <br />On GitHub, the HTML representation is unable to render, please try loading this page with nbviewer.org.</b></div><div class=\"sk-container\" hidden><div class=\"sk-item\"><div class=\"sk-estimator sk-toggleable\"><input class=\"sk-toggleable__control sk-hidden--visually\" id=\"sk-estimator-id-1\" type=\"checkbox\" checked><label for=\"sk-estimator-id-1\" class=\"sk-toggleable__label sk-toggleable__label-arrow\">XGBRegressor</label><div class=\"sk-toggleable__content\"><pre>XGBRegressor(base_score=None, booster=None, callbacks=None,\n",
              "             colsample_bylevel=None, colsample_bynode=None,\n",
              "             colsample_bytree=0.8, early_stopping_rounds=None,\n",
              "             enable_categorical=False, eta=0.1, eval_metric=None,\n",
              "             feature_types=None, gamma=None, gpu_id=None, grow_policy=None,\n",
              "             importance_type=None, interaction_constraints=None,\n",
              "             learning_rate=None, max_bin=None, max_cat_threshold=None,\n",
              "             max_cat_to_onehot=None, max_delta_step=None, max_depth=10,\n",
              "             max_leaves=None, min_child_weight=None, missing=nan,\n",
              "             monotone_constraints=None, n_estimators=1000, n_jobs=None,\n",
              "             num_parallel_tree=None, predictor=None, ...)</pre></div></div></div></div></div>"
            ]
          },
          "metadata": {},
          "execution_count": 83
        }
      ],
      "source": [
        "# create an xgboost regression model\n",
        "from xgboost import XGBRegressor\n",
        "xgb = XGBRegressor(n_estimators=1000, max_depth=10, eta=0.1, subsample=0.8, colsample_bytree=0.8)\n",
        "xgb.fit(X_train, y_train, eval_metric=\"rmse\", verbose=True)"
      ]
    },
    {
      "cell_type": "code",
      "execution_count": 84,
      "metadata": {
        "colab": {
          "base_uri": "https://localhost:8080/"
        },
        "id": "C8rEfcrZAXIz",
        "outputId": "139eb672-5d41-4e3e-88f6-19e614f9126b"
      },
      "outputs": [
        {
          "output_type": "stream",
          "name": "stdout",
          "text": [
            "The mean squared error of the optimal model is 0.0455\n"
          ]
        }
      ],
      "source": [
        "xgb_pre = xgb.predict(X_train)\n",
        "# RMSE Computation\n",
        "mse = (mean_squared_error(y_train, xgb_pre))\n",
        "print(f\"The mean squared error of the optimal model is {mse:.4f}\")"
      ]
    },
    {
      "cell_type": "code",
      "execution_count": 85,
      "metadata": {
        "colab": {
          "base_uri": "https://localhost:8080/",
          "height": 363
        },
        "id": "mCFTRF0_1yfK",
        "outputId": "bff42297-ae3a-47c4-d3c4-350d8af91217"
      },
      "outputs": [
        {
          "output_type": "execute_result",
          "data": {
            "text/plain": [
              "   Actual Price  Predicted Price  Difference\n",
              "0       8125000        8125048.5        48.5\n",
              "1      34479000       34480732.0      1732.0\n",
              "2      37000000       39836256.0   2836256.0\n",
              "3      57600000       51097232.0  -6502768.0\n",
              "4      14650000       14649377.0      -623.0\n",
              "5      13300000       11086926.0  -2213074.0\n",
              "6      32161000       32525250.0    364250.0\n",
              "7      29900000       30340642.0    440642.0\n",
              "8      23650000       26708552.0   3058552.0\n",
              "9      21400000       21511084.0    111084.0"
            ],
            "text/html": [
              "\n",
              "\n",
              "  <div id=\"df-302c10fd-6f7c-441c-b45a-3a646be426e5\">\n",
              "    <div class=\"colab-df-container\">\n",
              "      <div>\n",
              "<style scoped>\n",
              "    .dataframe tbody tr th:only-of-type {\n",
              "        vertical-align: middle;\n",
              "    }\n",
              "\n",
              "    .dataframe tbody tr th {\n",
              "        vertical-align: top;\n",
              "    }\n",
              "\n",
              "    .dataframe thead th {\n",
              "        text-align: right;\n",
              "    }\n",
              "</style>\n",
              "<table border=\"1\" class=\"dataframe\">\n",
              "  <thead>\n",
              "    <tr style=\"text-align: right;\">\n",
              "      <th></th>\n",
              "      <th>Actual Price</th>\n",
              "      <th>Predicted Price</th>\n",
              "      <th>Difference</th>\n",
              "    </tr>\n",
              "  </thead>\n",
              "  <tbody>\n",
              "    <tr>\n",
              "      <th>0</th>\n",
              "      <td>8125000</td>\n",
              "      <td>8125048.5</td>\n",
              "      <td>48.5</td>\n",
              "    </tr>\n",
              "    <tr>\n",
              "      <th>1</th>\n",
              "      <td>34479000</td>\n",
              "      <td>34480732.0</td>\n",
              "      <td>1732.0</td>\n",
              "    </tr>\n",
              "    <tr>\n",
              "      <th>2</th>\n",
              "      <td>37000000</td>\n",
              "      <td>39836256.0</td>\n",
              "      <td>2836256.0</td>\n",
              "    </tr>\n",
              "    <tr>\n",
              "      <th>3</th>\n",
              "      <td>57600000</td>\n",
              "      <td>51097232.0</td>\n",
              "      <td>-6502768.0</td>\n",
              "    </tr>\n",
              "    <tr>\n",
              "      <th>4</th>\n",
              "      <td>14650000</td>\n",
              "      <td>14649377.0</td>\n",
              "      <td>-623.0</td>\n",
              "    </tr>\n",
              "    <tr>\n",
              "      <th>5</th>\n",
              "      <td>13300000</td>\n",
              "      <td>11086926.0</td>\n",
              "      <td>-2213074.0</td>\n",
              "    </tr>\n",
              "    <tr>\n",
              "      <th>6</th>\n",
              "      <td>32161000</td>\n",
              "      <td>32525250.0</td>\n",
              "      <td>364250.0</td>\n",
              "    </tr>\n",
              "    <tr>\n",
              "      <th>7</th>\n",
              "      <td>29900000</td>\n",
              "      <td>30340642.0</td>\n",
              "      <td>440642.0</td>\n",
              "    </tr>\n",
              "    <tr>\n",
              "      <th>8</th>\n",
              "      <td>23650000</td>\n",
              "      <td>26708552.0</td>\n",
              "      <td>3058552.0</td>\n",
              "    </tr>\n",
              "    <tr>\n",
              "      <th>9</th>\n",
              "      <td>21400000</td>\n",
              "      <td>21511084.0</td>\n",
              "      <td>111084.0</td>\n",
              "    </tr>\n",
              "  </tbody>\n",
              "</table>\n",
              "</div>\n",
              "      <button class=\"colab-df-convert\" onclick=\"convertToInteractive('df-302c10fd-6f7c-441c-b45a-3a646be426e5')\"\n",
              "              title=\"Convert this dataframe to an interactive table.\"\n",
              "              style=\"display:none;\">\n",
              "\n",
              "  <svg xmlns=\"http://www.w3.org/2000/svg\" height=\"24px\"viewBox=\"0 0 24 24\"\n",
              "       width=\"24px\">\n",
              "    <path d=\"M0 0h24v24H0V0z\" fill=\"none\"/>\n",
              "    <path d=\"M18.56 5.44l.94 2.06.94-2.06 2.06-.94-2.06-.94-.94-2.06-.94 2.06-2.06.94zm-11 1L8.5 8.5l.94-2.06 2.06-.94-2.06-.94L8.5 2.5l-.94 2.06-2.06.94zm10 10l.94 2.06.94-2.06 2.06-.94-2.06-.94-.94-2.06-.94 2.06-2.06.94z\"/><path d=\"M17.41 7.96l-1.37-1.37c-.4-.4-.92-.59-1.43-.59-.52 0-1.04.2-1.43.59L10.3 9.45l-7.72 7.72c-.78.78-.78 2.05 0 2.83L4 21.41c.39.39.9.59 1.41.59.51 0 1.02-.2 1.41-.59l7.78-7.78 2.81-2.81c.8-.78.8-2.07 0-2.86zM5.41 20L4 18.59l7.72-7.72 1.47 1.35L5.41 20z\"/>\n",
              "  </svg>\n",
              "      </button>\n",
              "\n",
              "\n",
              "\n",
              "    <div id=\"df-c57a3930-2feb-4ff7-9660-0dc485a64424\">\n",
              "      <button class=\"colab-df-quickchart\" onclick=\"quickchart('df-c57a3930-2feb-4ff7-9660-0dc485a64424')\"\n",
              "              title=\"Suggest charts.\"\n",
              "              style=\"display:none;\">\n",
              "\n",
              "<svg xmlns=\"http://www.w3.org/2000/svg\" height=\"24px\"viewBox=\"0 0 24 24\"\n",
              "     width=\"24px\">\n",
              "    <g>\n",
              "        <path d=\"M19 3H5c-1.1 0-2 .9-2 2v14c0 1.1.9 2 2 2h14c1.1 0 2-.9 2-2V5c0-1.1-.9-2-2-2zM9 17H7v-7h2v7zm4 0h-2V7h2v10zm4 0h-2v-4h2v4z\"/>\n",
              "    </g>\n",
              "</svg>\n",
              "      </button>\n",
              "    </div>\n",
              "\n",
              "<style>\n",
              "  .colab-df-quickchart {\n",
              "    background-color: #E8F0FE;\n",
              "    border: none;\n",
              "    border-radius: 50%;\n",
              "    cursor: pointer;\n",
              "    display: none;\n",
              "    fill: #1967D2;\n",
              "    height: 32px;\n",
              "    padding: 0 0 0 0;\n",
              "    width: 32px;\n",
              "  }\n",
              "\n",
              "  .colab-df-quickchart:hover {\n",
              "    background-color: #E2EBFA;\n",
              "    box-shadow: 0px 1px 2px rgba(60, 64, 67, 0.3), 0px 1px 3px 1px rgba(60, 64, 67, 0.15);\n",
              "    fill: #174EA6;\n",
              "  }\n",
              "\n",
              "  [theme=dark] .colab-df-quickchart {\n",
              "    background-color: #3B4455;\n",
              "    fill: #D2E3FC;\n",
              "  }\n",
              "\n",
              "  [theme=dark] .colab-df-quickchart:hover {\n",
              "    background-color: #434B5C;\n",
              "    box-shadow: 0px 1px 3px 1px rgba(0, 0, 0, 0.15);\n",
              "    filter: drop-shadow(0px 1px 2px rgba(0, 0, 0, 0.3));\n",
              "    fill: #FFFFFF;\n",
              "  }\n",
              "</style>\n",
              "\n",
              "    <script>\n",
              "      async function quickchart(key) {\n",
              "        const containerElement = document.querySelector('#' + key);\n",
              "        const charts = await google.colab.kernel.invokeFunction(\n",
              "            'suggestCharts', [key], {});\n",
              "      }\n",
              "    </script>\n",
              "\n",
              "      <script>\n",
              "\n",
              "function displayQuickchartButton(domScope) {\n",
              "  let quickchartButtonEl =\n",
              "    domScope.querySelector('#df-c57a3930-2feb-4ff7-9660-0dc485a64424 button.colab-df-quickchart');\n",
              "  quickchartButtonEl.style.display =\n",
              "    google.colab.kernel.accessAllowed ? 'block' : 'none';\n",
              "}\n",
              "\n",
              "        displayQuickchartButton(document);\n",
              "      </script>\n",
              "      <style>\n",
              "    .colab-df-container {\n",
              "      display:flex;\n",
              "      flex-wrap:wrap;\n",
              "      gap: 12px;\n",
              "    }\n",
              "\n",
              "    .colab-df-convert {\n",
              "      background-color: #E8F0FE;\n",
              "      border: none;\n",
              "      border-radius: 50%;\n",
              "      cursor: pointer;\n",
              "      display: none;\n",
              "      fill: #1967D2;\n",
              "      height: 32px;\n",
              "      padding: 0 0 0 0;\n",
              "      width: 32px;\n",
              "    }\n",
              "\n",
              "    .colab-df-convert:hover {\n",
              "      background-color: #E2EBFA;\n",
              "      box-shadow: 0px 1px 2px rgba(60, 64, 67, 0.3), 0px 1px 3px 1px rgba(60, 64, 67, 0.15);\n",
              "      fill: #174EA6;\n",
              "    }\n",
              "\n",
              "    [theme=dark] .colab-df-convert {\n",
              "      background-color: #3B4455;\n",
              "      fill: #D2E3FC;\n",
              "    }\n",
              "\n",
              "    [theme=dark] .colab-df-convert:hover {\n",
              "      background-color: #434B5C;\n",
              "      box-shadow: 0px 1px 3px 1px rgba(0, 0, 0, 0.15);\n",
              "      filter: drop-shadow(0px 1px 2px rgba(0, 0, 0, 0.3));\n",
              "      fill: #FFFFFF;\n",
              "    }\n",
              "  </style>\n",
              "\n",
              "      <script>\n",
              "        const buttonEl =\n",
              "          document.querySelector('#df-302c10fd-6f7c-441c-b45a-3a646be426e5 button.colab-df-convert');\n",
              "        buttonEl.style.display =\n",
              "          google.colab.kernel.accessAllowed ? 'block' : 'none';\n",
              "\n",
              "        async function convertToInteractive(key) {\n",
              "          const element = document.querySelector('#df-302c10fd-6f7c-441c-b45a-3a646be426e5');\n",
              "          const dataTable =\n",
              "            await google.colab.kernel.invokeFunction('convertToInteractive',\n",
              "                                                     [key], {});\n",
              "          if (!dataTable) return;\n",
              "\n",
              "          const docLinkHtml = 'Like what you see? Visit the ' +\n",
              "            '<a target=\"_blank\" href=https://colab.research.google.com/notebooks/data_table.ipynb>data table notebook</a>'\n",
              "            + ' to learn more about interactive tables.';\n",
              "          element.innerHTML = '';\n",
              "          dataTable['output_type'] = 'display_data';\n",
              "          await google.colab.output.renderOutput(dataTable, element);\n",
              "          const docLink = document.createElement('div');\n",
              "          docLink.innerHTML = docLinkHtml;\n",
              "          element.appendChild(docLink);\n",
              "        }\n",
              "      </script>\n",
              "    </div>\n",
              "  </div>\n"
            ]
          },
          "metadata": {},
          "execution_count": 85
        }
      ],
      "source": [
        "xgb_df = pd.DataFrame({'Actual Price':y, 'Predicted Price':np.expm1(xgb_pre), 'Difference':np.expm1(xgb_pre)-y})\n",
        "xgb_df.head(10)"
      ]
    },
    {
      "cell_type": "code",
      "execution_count": 86,
      "metadata": {
        "colab": {
          "base_uri": "https://localhost:8080/",
          "height": 485
        },
        "id": "LqnCGUsd9GHm",
        "outputId": "7e5565b5-0e87-44c0-dddf-7ee017ff74e5"
      },
      "outputs": [
        {
          "output_type": "stream",
          "name": "stdout",
          "text": [
            "[-0.2266942353795687, -0.2310775161098373, -0.23123718447816594, -0.24029983014536227, -0.2280339538809372, -0.23309898804193502, -0.2274612646703642, -0.23367431569769734, -0.23268938229445948]\n"
          ]
        },
        {
          "output_type": "execute_result",
          "data": {
            "text/plain": [
              "[<matplotlib.lines.Line2D at 0x7f5d12957940>]"
            ]
          },
          "metadata": {},
          "execution_count": 86
        },
        {
          "output_type": "display_data",
          "data": {
            "text/plain": [
              "<Figure size 640x480 with 1 Axes>"
            ],
            "image/png": "[encoded data removed]"
          },
          "metadata": {}
        }
      ],
      "source": [
        "k_score = []\n",
        "for i in range(2,11):\n",
        "  folds = KFold(n_splits = i, shuffle = True, random_state = 123)\n",
        "  scores = cross_val_score(xgb, X_train, y_train, scoring='neg_mean_squared_error', cv=folds)\n",
        "  k_score.append(scores.mean())\n",
        "print(k_score)\n",
        "plt.plot(range(2,11), k_score, marker='o')"
      ]
    },
    {
      "cell_type": "markdown",
      "metadata": {
        "id": "0jp_ErXcQ6Ur"
      },
      "source": [
        "## ANN"
      ]
    },
    {
      "cell_type": "code",
      "execution_count": 87,
      "metadata": {
        "colab": {
          "base_uri": "https://localhost:8080/"
        },
        "id": "i2K3mzqxasSN",
        "outputId": "03b75ad3-48c6-416a-8961-829ac61eda62"
      },
      "outputs": [
        {
          "output_type": "stream",
          "name": "stdout",
          "text": [
            "Model: \"Price_Model\"\n",
            "_________________________________________________________________\n",
            " Layer (type)                Output Shape              Param #   \n",
            "=================================================================\n",
            " input (Dense)               (None, 256)               98816     \n",
            "                                                                 \n",
            " layer1 (Dense)              (None, 256)               65792     \n",
            "                                                                 \n",
            " layer2 (Dense)              (None, 64)                16448     \n",
            "                                                                 \n",
            " output (Dense)              (None, 1)                 65        \n",
            "                                                                 \n",
            "=================================================================\n",
            "Total params: 181,121\n",
            "Trainable params: 181,121\n",
            "Non-trainable params: 0\n",
            "_________________________________________________________________\n"
          ]
        }
      ],
      "source": [
        "from keras.models import Sequential\n",
        "from keras.layers import Dense\n",
        "model = Sequential(\n",
        "    [\n",
        "        Dense(units=256, input_dim=X_train.shape[-1], activation='relu', name='input'),\n",
        "        Dense(units=256, activation='relu', name='layer1'),\n",
        "        Dense(units=64, activation='relu', name='layer2'),\n",
        "        Dense(units=1, activation='relu', name='output')\n",
        "    ],\n",
        "    name='Price_Model'\n",
        ")\n",
        "model.summary()"
      ]
    },
    {
      "cell_type": "code",
      "execution_count": 88,
      "metadata": {
        "colab": {
          "base_uri": "https://localhost:8080/"
        },
        "id": "9uL8MsIxc9SR",
        "outputId": "fd56d08a-6f77-4ab1-9587-6ed12b13d237"
      },
      "outputs": [
        {
          "output_type": "stream",
          "name": "stdout",
          "text": [
            "Epoch 1/500\n",
            "37/37 [==============================] - 2s 8ms/step - loss: 76.5907 - mse: 76.5907 - mae: 6.7783\n",
            "Epoch 2/500\n",
            "37/37 [==============================] - 0s 9ms/step - loss: 8.3088 - mse: 8.3088 - mae: 1.8111\n",
            "Epoch 3/500\n",
            "37/37 [==============================] - 0s 8ms/step - loss: 1.7921 - mse: 1.7921 - mae: 0.8773\n",
            "Epoch 4/500\n",
            "37/37 [==============================] - 0s 9ms/step - loss: 0.7104 - mse: 0.7104 - mae: 0.5692\n",
            "Epoch 5/500\n",
            "37/37 [==============================] - 0s 9ms/step - loss: 0.4118 - mse: 0.4118 - mae: 0.4478\n",
            "Epoch 6/500\n",
            "37/37 [==============================] - 0s 8ms/step - loss: 0.3312 - mse: 0.3312 - mae: 0.3952\n",
            "Epoch 7/500\n",
            "37/37 [==============================] - 0s 9ms/step - loss: 0.2915 - mse: 0.2915 - mae: 0.3730\n",
            "Epoch 8/500\n",
            "37/37 [==============================] - 0s 8ms/step - loss: 0.2746 - mse: 0.2746 - mae: 0.3615\n",
            "Epoch 9/500\n",
            "37/37 [==============================] - 0s 9ms/step - loss: 0.2559 - mse: 0.2559 - mae: 0.3460\n",
            "Epoch 10/500\n",
            "37/37 [==============================] - 0s 9ms/step - loss: 0.3016 - mse: 0.3016 - mae: 0.3734\n",
            "Epoch 11/500\n",
            "37/37 [==============================] - 0s 7ms/step - loss: 0.3194 - mse: 0.3194 - mae: 0.3712\n",
            "Epoch 12/500\n",
            "37/37 [==============================] - 0s 5ms/step - loss: 0.2799 - mse: 0.2799 - mae: 0.3639\n",
            "Epoch 13/500\n",
            "37/37 [==============================] - 0s 6ms/step - loss: 0.2659 - mse: 0.2659 - mae: 0.3454\n",
            "Epoch 14/500\n",
            "37/37 [==============================] - 0s 6ms/step - loss: 0.2836 - mse: 0.2836 - mae: 0.3467\n",
            "Epoch 15/500\n",
            "37/37 [==============================] - 0s 6ms/step - loss: 0.3320 - mse: 0.3320 - mae: 0.3715\n",
            "Epoch 16/500\n",
            "37/37 [==============================] - 0s 5ms/step - loss: 0.3266 - mse: 0.3266 - mae: 0.3757\n",
            "Epoch 17/500\n",
            "37/37 [==============================] - 0s 6ms/step - loss: 0.3614 - mse: 0.3614 - mae: 0.4006\n",
            "Epoch 18/500\n",
            "37/37 [==============================] - 0s 5ms/step - loss: 0.3801 - mse: 0.3801 - mae: 0.4151\n",
            "Epoch 19/500\n",
            "37/37 [==============================] - 0s 5ms/step - loss: 0.3540 - mse: 0.3540 - mae: 0.4051\n",
            "Epoch 20/500\n",
            "37/37 [==============================] - 0s 6ms/step - loss: 0.3835 - mse: 0.3835 - mae: 0.4349\n",
            "Epoch 21/500\n",
            "37/37 [==============================] - 0s 6ms/step - loss: 0.3617 - mse: 0.3617 - mae: 0.4034\n",
            "Epoch 22/500\n",
            "37/37 [==============================] - 0s 5ms/step - loss: 0.3341 - mse: 0.3341 - mae: 0.3935\n",
            "Epoch 23/500\n",
            "37/37 [==============================] - 0s 5ms/step - loss: 0.3371 - mse: 0.3371 - mae: 0.3867\n",
            "Epoch 24/500\n",
            "37/37 [==============================] - 0s 6ms/step - loss: 0.3364 - mse: 0.3364 - mae: 0.4177\n",
            "Epoch 25/500\n",
            "37/37 [==============================] - 0s 6ms/step - loss: 0.3203 - mse: 0.3203 - mae: 0.3982\n",
            "Epoch 26/500\n",
            "37/37 [==============================] - 0s 6ms/step - loss: 0.3007 - mse: 0.3007 - mae: 0.3854\n",
            "Epoch 27/500\n",
            "37/37 [==============================] - 0s 5ms/step - loss: 0.3171 - mse: 0.3171 - mae: 0.3553\n",
            "Epoch 28/500\n",
            "37/37 [==============================] - 0s 5ms/step - loss: 0.3117 - mse: 0.3117 - mae: 0.3762\n",
            "Epoch 29/500\n",
            "37/37 [==============================] - 0s 6ms/step - loss: 0.3349 - mse: 0.3349 - mae: 0.3897\n",
            "Epoch 30/500\n",
            "37/37 [==============================] - 0s 6ms/step - loss: 0.3075 - mse: 0.3075 - mae: 0.3815\n",
            "Epoch 31/500\n",
            "37/37 [==============================] - 0s 6ms/step - loss: 0.3421 - mse: 0.3421 - mae: 0.4183\n",
            "Epoch 32/500\n",
            "37/37 [==============================] - 0s 5ms/step - loss: 0.2961 - mse: 0.2961 - mae: 0.3741\n",
            "Epoch 33/500\n",
            "37/37 [==============================] - 0s 6ms/step - loss: 0.3058 - mse: 0.3058 - mae: 0.3689\n",
            "Epoch 34/500\n",
            "37/37 [==============================] - 0s 5ms/step - loss: 0.3213 - mse: 0.3213 - mae: 0.3838\n",
            "Epoch 35/500\n",
            "37/37 [==============================] - 0s 6ms/step - loss: 0.3088 - mse: 0.3088 - mae: 0.3660\n",
            "Epoch 36/500\n",
            "37/37 [==============================] - 0s 5ms/step - loss: 0.3369 - mse: 0.3369 - mae: 0.3839\n",
            "Epoch 37/500\n",
            "37/37 [==============================] - 0s 5ms/step - loss: 0.3728 - mse: 0.3728 - mae: 0.3959\n",
            "Epoch 38/500\n",
            "37/37 [==============================] - 0s 5ms/step - loss: 0.3566 - mse: 0.3566 - mae: 0.4053\n",
            "Epoch 39/500\n",
            "37/37 [==============================] - 0s 6ms/step - loss: 0.3649 - mse: 0.3649 - mae: 0.4052\n",
            "Epoch 40/500\n",
            "37/37 [==============================] - 0s 6ms/step - loss: 0.4302 - mse: 0.4302 - mae: 0.4559\n",
            "Epoch 41/500\n",
            "37/37 [==============================] - 0s 6ms/step - loss: 0.4236 - mse: 0.4236 - mae: 0.4475\n",
            "Epoch 42/500\n",
            "37/37 [==============================] - 0s 8ms/step - loss: 0.4185 - mse: 0.4185 - mae: 0.4489\n",
            "Epoch 43/500\n",
            "37/37 [==============================] - 0s 8ms/step - loss: 0.4580 - mse: 0.4580 - mae: 0.5038\n",
            "Epoch 44/500\n",
            "37/37 [==============================] - 0s 7ms/step - loss: 0.4277 - mse: 0.4277 - mae: 0.4556\n",
            "Epoch 45/500\n",
            "37/37 [==============================] - 0s 5ms/step - loss: 0.3604 - mse: 0.3604 - mae: 0.3975\n",
            "Epoch 46/500\n",
            "37/37 [==============================] - 0s 6ms/step - loss: 0.3257 - mse: 0.3257 - mae: 0.3792\n",
            "Epoch 47/500\n",
            "37/37 [==============================] - 0s 5ms/step - loss: 0.3020 - mse: 0.3020 - mae: 0.3715\n",
            "Epoch 48/500\n",
            "37/37 [==============================] - 0s 6ms/step - loss: 0.2886 - mse: 0.2886 - mae: 0.3623\n",
            "Epoch 49/500\n",
            "37/37 [==============================] - 0s 5ms/step - loss: 0.2862 - mse: 0.2862 - mae: 0.3696\n",
            "Epoch 50/500\n",
            "37/37 [==============================] - 0s 5ms/step - loss: 0.3395 - mse: 0.3395 - mae: 0.4031\n",
            "Epoch 51/500\n",
            "37/37 [==============================] - 0s 5ms/step - loss: 0.3395 - mse: 0.3395 - mae: 0.3967\n",
            "Epoch 52/500\n",
            "37/37 [==============================] - 0s 6ms/step - loss: 0.3491 - mse: 0.3491 - mae: 0.3944\n",
            "Epoch 53/500\n",
            "37/37 [==============================] - 0s 6ms/step - loss: 0.3564 - mse: 0.3564 - mae: 0.4016\n",
            "Epoch 54/500\n",
            "37/37 [==============================] - 0s 5ms/step - loss: 0.3759 - mse: 0.3759 - mae: 0.4129\n",
            "Epoch 55/500\n",
            "37/37 [==============================] - 0s 6ms/step - loss: 0.3855 - mse: 0.3855 - mae: 0.4297\n",
            "Epoch 56/500\n",
            "37/37 [==============================] - 0s 6ms/step - loss: 0.3857 - mse: 0.3857 - mae: 0.4328\n",
            "Epoch 57/500\n",
            "37/37 [==============================] - 0s 9ms/step - loss: 0.3699 - mse: 0.3699 - mae: 0.4196\n",
            "Epoch 58/500\n",
            "37/37 [==============================] - 0s 8ms/step - loss: 0.3781 - mse: 0.3781 - mae: 0.4284\n",
            "Epoch 59/500\n",
            "37/37 [==============================] - 0s 8ms/step - loss: 0.4478 - mse: 0.4478 - mae: 0.4142\n",
            "Epoch 60/500\n",
            "37/37 [==============================] - 0s 9ms/step - loss: 0.5416 - mse: 0.5416 - mae: 0.5165\n",
            "Epoch 61/500\n",
            "37/37 [==============================] - 0s 9ms/step - loss: 0.5261 - mse: 0.5261 - mae: 0.5347\n",
            "Epoch 62/500\n",
            "37/37 [==============================] - 0s 8ms/step - loss: 0.4301 - mse: 0.4301 - mae: 0.4463\n",
            "Epoch 63/500\n",
            "37/37 [==============================] - 0s 8ms/step - loss: 0.3603 - mse: 0.3603 - mae: 0.4051\n",
            "Epoch 64/500\n",
            "37/37 [==============================] - 0s 8ms/step - loss: 0.3731 - mse: 0.3731 - mae: 0.4218\n",
            "Epoch 65/500\n",
            "37/37 [==============================] - 0s 9ms/step - loss: 0.3713 - mse: 0.3713 - mae: 0.4415\n",
            "Epoch 66/500\n",
            "37/37 [==============================] - 0s 9ms/step - loss: 0.3030 - mse: 0.3030 - mae: 0.3857\n",
            "Epoch 67/500\n",
            "37/37 [==============================] - 0s 6ms/step - loss: 0.3152 - mse: 0.3152 - mae: 0.3841\n",
            "Epoch 68/500\n",
            "37/37 [==============================] - 0s 6ms/step - loss: 0.3663 - mse: 0.3663 - mae: 0.4321\n",
            "Epoch 69/500\n",
            "37/37 [==============================] - 0s 6ms/step - loss: 0.4211 - mse: 0.4211 - mae: 0.4852\n",
            "Epoch 70/500\n",
            "37/37 [==============================] - 0s 5ms/step - loss: 0.4382 - mse: 0.4382 - mae: 0.4801\n",
            "Epoch 71/500\n",
            "37/37 [==============================] - 0s 5ms/step - loss: 0.3562 - mse: 0.3562 - mae: 0.4092\n",
            "Epoch 72/500\n",
            "37/37 [==============================] - 0s 6ms/step - loss: 0.3070 - mse: 0.3070 - mae: 0.3860\n",
            "Epoch 73/500\n",
            "37/37 [==============================] - 0s 6ms/step - loss: 0.3463 - mse: 0.3463 - mae: 0.4407\n",
            "Epoch 74/500\n",
            "37/37 [==============================] - 0s 6ms/step - loss: 0.3553 - mse: 0.3553 - mae: 0.4382\n",
            "Epoch 75/500\n",
            "37/37 [==============================] - 0s 5ms/step - loss: 0.3067 - mse: 0.3067 - mae: 0.3763\n",
            "Epoch 76/500\n",
            "37/37 [==============================] - 0s 6ms/step - loss: 0.3890 - mse: 0.3890 - mae: 0.4373\n",
            "Epoch 77/500\n",
            "37/37 [==============================] - 0s 6ms/step - loss: 0.3634 - mse: 0.3634 - mae: 0.4144\n",
            "Epoch 78/500\n",
            "37/37 [==============================] - 0s 6ms/step - loss: 0.3748 - mse: 0.3748 - mae: 0.4143\n",
            "Epoch 79/500\n",
            "37/37 [==============================] - 0s 5ms/step - loss: 0.3650 - mse: 0.3650 - mae: 0.4052\n",
            "Epoch 80/500\n",
            "37/37 [==============================] - 0s 5ms/step - loss: 0.3078 - mse: 0.3078 - mae: 0.3872\n",
            "Epoch 81/500\n",
            "37/37 [==============================] - 0s 6ms/step - loss: 0.3415 - mse: 0.3415 - mae: 0.4121\n",
            "Epoch 82/500\n",
            "37/37 [==============================] - 0s 6ms/step - loss: 0.3147 - mse: 0.3147 - mae: 0.3728\n",
            "Epoch 83/500\n",
            "37/37 [==============================] - 0s 6ms/step - loss: 0.3441 - mse: 0.3441 - mae: 0.3759\n",
            "Epoch 84/500\n",
            "37/37 [==============================] - 0s 6ms/step - loss: 0.2981 - mse: 0.2981 - mae: 0.3699\n",
            "Epoch 85/500\n",
            "37/37 [==============================] - 0s 6ms/step - loss: 0.3259 - mse: 0.3259 - mae: 0.4067\n",
            "Epoch 86/500\n",
            "37/37 [==============================] - 0s 6ms/step - loss: 0.3036 - mse: 0.3036 - mae: 0.3762\n",
            "Epoch 87/500\n",
            "37/37 [==============================] - 0s 6ms/step - loss: 0.2762 - mse: 0.2762 - mae: 0.3621\n",
            "Epoch 88/500\n",
            "37/37 [==============================] - 0s 6ms/step - loss: 0.3813 - mse: 0.3813 - mae: 0.3992\n",
            "Epoch 89/500\n",
            "37/37 [==============================] - 0s 6ms/step - loss: 0.3569 - mse: 0.3569 - mae: 0.3930\n",
            "Epoch 90/500\n",
            "37/37 [==============================] - 0s 5ms/step - loss: 0.2968 - mse: 0.2968 - mae: 0.3882\n",
            "Epoch 91/500\n",
            "37/37 [==============================] - 0s 7ms/step - loss: 0.3408 - mse: 0.3408 - mae: 0.4281\n",
            "Epoch 92/500\n",
            "37/37 [==============================] - 0s 7ms/step - loss: 0.3437 - mse: 0.3437 - mae: 0.4256\n",
            "Epoch 93/500\n",
            "37/37 [==============================] - 0s 7ms/step - loss: 0.3165 - mse: 0.3165 - mae: 0.3963\n",
            "Epoch 94/500\n",
            "37/37 [==============================] - 0s 8ms/step - loss: 0.3327 - mse: 0.3327 - mae: 0.3912\n",
            "Epoch 95/500\n",
            "37/37 [==============================] - 0s 6ms/step - loss: 0.3407 - mse: 0.3407 - mae: 0.3943\n",
            "Epoch 96/500\n",
            "37/37 [==============================] - 0s 6ms/step - loss: 0.3495 - mse: 0.3495 - mae: 0.4070\n",
            "Epoch 97/500\n",
            "37/37 [==============================] - 0s 6ms/step - loss: 0.3604 - mse: 0.3604 - mae: 0.3979\n",
            "Epoch 98/500\n",
            "37/37 [==============================] - 0s 6ms/step - loss: 0.3751 - mse: 0.3751 - mae: 0.4175\n",
            "Epoch 99/500\n",
            "37/37 [==============================] - 0s 6ms/step - loss: 0.5053 - mse: 0.5053 - mae: 0.5288\n",
            "Epoch 100/500\n",
            "37/37 [==============================] - 0s 5ms/step - loss: 0.4502 - mse: 0.4502 - mae: 0.4560\n",
            "Epoch 101/500\n",
            "37/37 [==============================] - 0s 5ms/step - loss: 0.6024 - mse: 0.6024 - mae: 0.5732\n",
            "Epoch 102/500\n",
            "37/37 [==============================] - 0s 6ms/step - loss: 0.5574 - mse: 0.5574 - mae: 0.5420\n",
            "Epoch 103/500\n",
            "37/37 [==============================] - 0s 5ms/step - loss: 0.4213 - mse: 0.4213 - mae: 0.4585\n",
            "Epoch 104/500\n",
            "37/37 [==============================] - 0s 6ms/step - loss: 0.3337 - mse: 0.3337 - mae: 0.3918\n",
            "Epoch 105/500\n",
            "37/37 [==============================] - 0s 6ms/step - loss: 0.2764 - mse: 0.2764 - mae: 0.3686\n",
            "Epoch 106/500\n",
            "37/37 [==============================] - 0s 5ms/step - loss: 0.2620 - mse: 0.2620 - mae: 0.3685\n",
            "Epoch 107/500\n",
            "37/37 [==============================] - 0s 6ms/step - loss: 0.2496 - mse: 0.2496 - mae: 0.3513\n",
            "Epoch 108/500\n",
            "37/37 [==============================] - 0s 6ms/step - loss: 0.2272 - mse: 0.2272 - mae: 0.3177\n",
            "Epoch 109/500\n",
            "37/37 [==============================] - 0s 8ms/step - loss: 0.2486 - mse: 0.2486 - mae: 0.3470\n",
            "Epoch 110/500\n",
            "37/37 [==============================] - 0s 10ms/step - loss: 0.2155 - mse: 0.2155 - mae: 0.3258\n",
            "Epoch 111/500\n",
            "37/37 [==============================] - 0s 10ms/step - loss: 0.2077 - mse: 0.2077 - mae: 0.3202\n",
            "Epoch 112/500\n",
            "37/37 [==============================] - 0s 9ms/step - loss: 0.2311 - mse: 0.2311 - mae: 0.3404\n",
            "Epoch 113/500\n",
            "37/37 [==============================] - 0s 8ms/step - loss: 0.2463 - mse: 0.2463 - mae: 0.3354\n",
            "Epoch 114/500\n",
            "37/37 [==============================] - 0s 9ms/step - loss: 0.2433 - mse: 0.2433 - mae: 0.3231\n",
            "Epoch 115/500\n",
            "37/37 [==============================] - 0s 11ms/step - loss: 0.2731 - mse: 0.2731 - mae: 0.3726\n",
            "Epoch 116/500\n",
            "37/37 [==============================] - 0s 11ms/step - loss: 0.2722 - mse: 0.2722 - mae: 0.3739\n",
            "Epoch 117/500\n",
            "37/37 [==============================] - 0s 12ms/step - loss: 0.3378 - mse: 0.3378 - mae: 0.4246\n",
            "Epoch 118/500\n",
            "37/37 [==============================] - 0s 12ms/step - loss: 0.3555 - mse: 0.3555 - mae: 0.4197\n",
            "Epoch 119/500\n",
            "37/37 [==============================] - 0s 9ms/step - loss: 0.3626 - mse: 0.3626 - mae: 0.4085\n",
            "Epoch 120/500\n",
            "37/37 [==============================] - 0s 7ms/step - loss: 0.3639 - mse: 0.3639 - mae: 0.4233\n",
            "Epoch 121/500\n",
            "37/37 [==============================] - 0s 7ms/step - loss: 0.4800 - mse: 0.4800 - mae: 0.5143\n",
            "Epoch 122/500\n",
            "37/37 [==============================] - 0s 8ms/step - loss: 0.4046 - mse: 0.4046 - mae: 0.4546\n",
            "Epoch 123/500\n",
            "37/37 [==============================] - 0s 8ms/step - loss: 0.3517 - mse: 0.3517 - mae: 0.3921\n",
            "Epoch 124/500\n",
            "37/37 [==============================] - 0s 8ms/step - loss: 0.2908 - mse: 0.2908 - mae: 0.3705\n",
            "Epoch 125/500\n",
            "37/37 [==============================] - 0s 8ms/step - loss: 0.2834 - mse: 0.2834 - mae: 0.3567\n",
            "Epoch 126/500\n",
            "37/37 [==============================] - 0s 8ms/step - loss: 0.2892 - mse: 0.2892 - mae: 0.3572\n",
            "Epoch 127/500\n",
            "37/37 [==============================] - 0s 7ms/step - loss: 0.2837 - mse: 0.2837 - mae: 0.3771\n",
            "Epoch 128/500\n",
            "37/37 [==============================] - 0s 7ms/step - loss: 0.2534 - mse: 0.2534 - mae: 0.3632\n",
            "Epoch 129/500\n",
            "37/37 [==============================] - 0s 7ms/step - loss: 0.2800 - mse: 0.2800 - mae: 0.3985\n",
            "Epoch 130/500\n",
            "37/37 [==============================] - 0s 7ms/step - loss: 0.2589 - mse: 0.2589 - mae: 0.3555\n",
            "Epoch 131/500\n",
            "37/37 [==============================] - 0s 6ms/step - loss: 0.2394 - mse: 0.2394 - mae: 0.3315\n",
            "Epoch 132/500\n",
            "37/37 [==============================] - 0s 6ms/step - loss: 0.2280 - mse: 0.2280 - mae: 0.3240\n",
            "Epoch 133/500\n",
            "37/37 [==============================] - 0s 6ms/step - loss: 0.2420 - mse: 0.2420 - mae: 0.3316\n",
            "Epoch 134/500\n",
            "37/37 [==============================] - 0s 6ms/step - loss: 0.2755 - mse: 0.2755 - mae: 0.3692\n",
            "Epoch 135/500\n",
            "37/37 [==============================] - 0s 6ms/step - loss: 0.3845 - mse: 0.3845 - mae: 0.4402\n",
            "Epoch 136/500\n",
            "37/37 [==============================] - 0s 6ms/step - loss: 0.4063 - mse: 0.4063 - mae: 0.4670\n",
            "Epoch 137/500\n",
            "37/37 [==============================] - 0s 6ms/step - loss: 0.4003 - mse: 0.4003 - mae: 0.4397\n",
            "Epoch 138/500\n",
            "37/37 [==============================] - 0s 6ms/step - loss: 0.4051 - mse: 0.4051 - mae: 0.4601\n",
            "Epoch 139/500\n",
            "37/37 [==============================] - 0s 6ms/step - loss: 0.3433 - mse: 0.3433 - mae: 0.4039\n",
            "Epoch 140/500\n",
            "37/37 [==============================] - 0s 6ms/step - loss: 0.3477 - mse: 0.3477 - mae: 0.4154\n",
            "Epoch 141/500\n",
            "37/37 [==============================] - 0s 6ms/step - loss: 0.3410 - mse: 0.3410 - mae: 0.3991\n",
            "Epoch 142/500\n",
            "37/37 [==============================] - 0s 6ms/step - loss: 0.3600 - mse: 0.3600 - mae: 0.4372\n",
            "Epoch 143/500\n",
            "37/37 [==============================] - 0s 6ms/step - loss: 0.3474 - mse: 0.3474 - mae: 0.4234\n",
            "Epoch 144/500\n",
            "37/37 [==============================] - 0s 5ms/step - loss: 0.3665 - mse: 0.3665 - mae: 0.4509\n",
            "Epoch 145/500\n",
            "37/37 [==============================] - 0s 6ms/step - loss: 0.2847 - mse: 0.2847 - mae: 0.3646\n",
            "Epoch 146/500\n",
            "37/37 [==============================] - 0s 5ms/step - loss: 0.2310 - mse: 0.2310 - mae: 0.3301\n",
            "Epoch 147/500\n",
            "37/37 [==============================] - 0s 5ms/step - loss: 0.2267 - mse: 0.2267 - mae: 0.3263\n",
            "Epoch 148/500\n",
            "37/37 [==============================] - 0s 6ms/step - loss: 0.3287 - mse: 0.3287 - mae: 0.4366\n",
            "Epoch 149/500\n",
            "37/37 [==============================] - 0s 5ms/step - loss: 0.4021 - mse: 0.4021 - mae: 0.4768\n",
            "Epoch 150/500\n",
            "37/37 [==============================] - 0s 5ms/step - loss: 0.3414 - mse: 0.3414 - mae: 0.4076\n",
            "Epoch 151/500\n",
            "37/37 [==============================] - 0s 5ms/step - loss: 0.2965 - mse: 0.2965 - mae: 0.3929\n",
            "Epoch 152/500\n",
            "37/37 [==============================] - 0s 5ms/step - loss: 0.2911 - mse: 0.2911 - mae: 0.3830\n",
            "Epoch 153/500\n",
            "37/37 [==============================] - 0s 6ms/step - loss: 0.2217 - mse: 0.2217 - mae: 0.3222\n",
            "Epoch 154/500\n",
            "37/37 [==============================] - 0s 5ms/step - loss: 0.2236 - mse: 0.2236 - mae: 0.3381\n",
            "Epoch 155/500\n",
            "37/37 [==============================] - 0s 6ms/step - loss: 0.2005 - mse: 0.2005 - mae: 0.2994\n",
            "Epoch 156/500\n",
            "37/37 [==============================] - 0s 5ms/step - loss: 0.1972 - mse: 0.1972 - mae: 0.3054\n",
            "Epoch 157/500\n",
            "37/37 [==============================] - 0s 5ms/step - loss: 0.2052 - mse: 0.2052 - mae: 0.3096\n",
            "Epoch 158/500\n",
            "37/37 [==============================] - 0s 6ms/step - loss: 0.2033 - mse: 0.2033 - mae: 0.3043\n",
            "Epoch 159/500\n",
            "37/37 [==============================] - 0s 6ms/step - loss: 0.1885 - mse: 0.1885 - mae: 0.2974\n",
            "Epoch 160/500\n",
            "37/37 [==============================] - 0s 5ms/step - loss: 0.2154 - mse: 0.2154 - mae: 0.3431\n",
            "Epoch 161/500\n",
            "37/37 [==============================] - 0s 8ms/step - loss: 0.2543 - mse: 0.2543 - mae: 0.3473\n",
            "Epoch 162/500\n",
            "37/37 [==============================] - 0s 9ms/step - loss: 0.2565 - mse: 0.2565 - mae: 0.3507\n",
            "Epoch 163/500\n",
            "37/37 [==============================] - 0s 9ms/step - loss: 0.2886 - mse: 0.2886 - mae: 0.3937\n",
            "Epoch 164/500\n",
            "37/37 [==============================] - 0s 9ms/step - loss: 0.2489 - mse: 0.2489 - mae: 0.3476\n",
            "Epoch 165/500\n",
            "37/37 [==============================] - 0s 9ms/step - loss: 0.2481 - mse: 0.2481 - mae: 0.3558\n",
            "Epoch 166/500\n",
            "37/37 [==============================] - 0s 8ms/step - loss: 0.2415 - mse: 0.2415 - mae: 0.3472\n",
            "Epoch 167/500\n",
            "37/37 [==============================] - 0s 9ms/step - loss: 0.2219 - mse: 0.2219 - mae: 0.3165\n",
            "Epoch 168/500\n",
            "37/37 [==============================] - 0s 9ms/step - loss: 0.2523 - mse: 0.2523 - mae: 0.3482\n",
            "Epoch 169/500\n",
            "37/37 [==============================] - 0s 9ms/step - loss: 0.2533 - mse: 0.2533 - mae: 0.3532\n",
            "Epoch 170/500\n",
            "37/37 [==============================] - 0s 9ms/step - loss: 0.2914 - mse: 0.2914 - mae: 0.3926\n",
            "Epoch 171/500\n",
            "37/37 [==============================] - 0s 8ms/step - loss: 0.2715 - mse: 0.2715 - mae: 0.3587\n",
            "Epoch 172/500\n",
            "37/37 [==============================] - 0s 6ms/step - loss: 0.2805 - mse: 0.2805 - mae: 0.3559\n",
            "Epoch 173/500\n",
            "37/37 [==============================] - 0s 6ms/step - loss: 0.3547 - mse: 0.3547 - mae: 0.4292\n",
            "Epoch 174/500\n",
            "37/37 [==============================] - 0s 6ms/step - loss: 0.3227 - mse: 0.3227 - mae: 0.3974\n",
            "Epoch 175/500\n",
            "37/37 [==============================] - 0s 6ms/step - loss: 0.3902 - mse: 0.3902 - mae: 0.4593\n",
            "Epoch 176/500\n",
            "37/37 [==============================] - 0s 7ms/step - loss: 0.4229 - mse: 0.4229 - mae: 0.4566\n",
            "Epoch 177/500\n",
            "37/37 [==============================] - 0s 6ms/step - loss: 0.3333 - mse: 0.3333 - mae: 0.4004\n",
            "Epoch 178/500\n",
            "37/37 [==============================] - 0s 6ms/step - loss: 0.2659 - mse: 0.2659 - mae: 0.3574\n",
            "Epoch 179/500\n",
            "37/37 [==============================] - 0s 6ms/step - loss: 0.2574 - mse: 0.2574 - mae: 0.3697\n",
            "Epoch 180/500\n",
            "37/37 [==============================] - 0s 7ms/step - loss: 0.2318 - mse: 0.2318 - mae: 0.3422\n",
            "Epoch 181/500\n",
            "37/37 [==============================] - 0s 8ms/step - loss: 0.2435 - mse: 0.2435 - mae: 0.3532\n",
            "Epoch 182/500\n",
            "37/37 [==============================] - 0s 7ms/step - loss: 0.2168 - mse: 0.2168 - mae: 0.3175\n",
            "Epoch 183/500\n",
            "37/37 [==============================] - 0s 8ms/step - loss: 0.2122 - mse: 0.2122 - mae: 0.3186\n",
            "Epoch 184/500\n",
            "37/37 [==============================] - 0s 6ms/step - loss: 0.2029 - mse: 0.2029 - mae: 0.3008\n",
            "Epoch 185/500\n",
            "37/37 [==============================] - 0s 6ms/step - loss: 0.1991 - mse: 0.1991 - mae: 0.3187\n",
            "Epoch 186/500\n",
            "37/37 [==============================] - 0s 5ms/step - loss: 0.2284 - mse: 0.2284 - mae: 0.3584\n",
            "Epoch 187/500\n",
            "37/37 [==============================] - 0s 6ms/step - loss: 0.1855 - mse: 0.1855 - mae: 0.2986\n",
            "Epoch 188/500\n",
            "37/37 [==============================] - 0s 6ms/step - loss: 0.1915 - mse: 0.1915 - mae: 0.3084\n",
            "Epoch 189/500\n",
            "37/37 [==============================] - 0s 5ms/step - loss: 0.2374 - mse: 0.2374 - mae: 0.3525\n",
            "Epoch 190/500\n",
            "37/37 [==============================] - 0s 6ms/step - loss: 0.2957 - mse: 0.2957 - mae: 0.3644\n",
            "Epoch 191/500\n",
            "37/37 [==============================] - 0s 6ms/step - loss: 0.2649 - mse: 0.2649 - mae: 0.3607\n",
            "Epoch 192/500\n",
            "37/37 [==============================] - 0s 6ms/step - loss: 0.2615 - mse: 0.2615 - mae: 0.3573\n",
            "Epoch 193/500\n",
            "37/37 [==============================] - 0s 6ms/step - loss: 0.2713 - mse: 0.2713 - mae: 0.3722\n",
            "Epoch 194/500\n",
            "37/37 [==============================] - 0s 6ms/step - loss: 0.2936 - mse: 0.2936 - mae: 0.3929\n",
            "Epoch 195/500\n",
            "37/37 [==============================] - 0s 5ms/step - loss: 0.2738 - mse: 0.2738 - mae: 0.3547\n",
            "Epoch 196/500\n",
            "37/37 [==============================] - 0s 6ms/step - loss: 0.3261 - mse: 0.3261 - mae: 0.4235\n",
            "Epoch 197/500\n",
            "37/37 [==============================] - 0s 6ms/step - loss: 0.2772 - mse: 0.2772 - mae: 0.3725\n",
            "Epoch 198/500\n",
            "37/37 [==============================] - 0s 6ms/step - loss: 0.2293 - mse: 0.2293 - mae: 0.3207\n",
            "Epoch 199/500\n",
            "37/37 [==============================] - 0s 6ms/step - loss: 0.2125 - mse: 0.2125 - mae: 0.3116\n",
            "Epoch 200/500\n",
            "37/37 [==============================] - 0s 6ms/step - loss: 0.2162 - mse: 0.2162 - mae: 0.3106\n",
            "Epoch 201/500\n",
            "37/37 [==============================] - 0s 6ms/step - loss: 0.2128 - mse: 0.2128 - mae: 0.3103\n",
            "Epoch 202/500\n",
            "37/37 [==============================] - 0s 6ms/step - loss: 0.2034 - mse: 0.2034 - mae: 0.3067\n",
            "Epoch 203/500\n",
            "37/37 [==============================] - 0s 6ms/step - loss: 0.2117 - mse: 0.2117 - mae: 0.3242\n",
            "Epoch 204/500\n",
            "37/37 [==============================] - 0s 5ms/step - loss: 0.2093 - mse: 0.2093 - mae: 0.3123\n",
            "Epoch 205/500\n",
            "37/37 [==============================] - 0s 6ms/step - loss: 0.2261 - mse: 0.2261 - mae: 0.3390\n",
            "Epoch 206/500\n",
            "37/37 [==============================] - 0s 5ms/step - loss: 0.2248 - mse: 0.2248 - mae: 0.3311\n",
            "Epoch 207/500\n",
            "37/37 [==============================] - 0s 6ms/step - loss: 0.2205 - mse: 0.2205 - mae: 0.3265\n",
            "Epoch 208/500\n",
            "37/37 [==============================] - 0s 6ms/step - loss: 0.2943 - mse: 0.2943 - mae: 0.3988\n",
            "Epoch 209/500\n",
            "37/37 [==============================] - 0s 6ms/step - loss: 0.2593 - mse: 0.2593 - mae: 0.3445\n",
            "Epoch 210/500\n",
            "37/37 [==============================] - 0s 6ms/step - loss: 0.2975 - mse: 0.2975 - mae: 0.3897\n",
            "Epoch 211/500\n",
            "37/37 [==============================] - 0s 6ms/step - loss: 0.2408 - mse: 0.2408 - mae: 0.3332\n",
            "Epoch 212/500\n",
            "37/37 [==============================] - 0s 6ms/step - loss: 0.2164 - mse: 0.2164 - mae: 0.3233\n",
            "Epoch 213/500\n",
            "37/37 [==============================] - 0s 6ms/step - loss: 0.2138 - mse: 0.2138 - mae: 0.3218\n",
            "Epoch 214/500\n",
            "37/37 [==============================] - 0s 8ms/step - loss: 0.2183 - mse: 0.2183 - mae: 0.3421\n",
            "Epoch 215/500\n",
            "37/37 [==============================] - 0s 9ms/step - loss: 0.2384 - mse: 0.2384 - mae: 0.3579\n",
            "Epoch 216/500\n",
            "37/37 [==============================] - 0s 8ms/step - loss: 0.2082 - mse: 0.2082 - mae: 0.3124\n",
            "Epoch 217/500\n",
            "37/37 [==============================] - 0s 8ms/step - loss: 0.2081 - mse: 0.2081 - mae: 0.3142\n",
            "Epoch 218/500\n",
            "37/37 [==============================] - 0s 9ms/step - loss: 0.1928 - mse: 0.1928 - mae: 0.2944\n",
            "Epoch 219/500\n",
            "37/37 [==============================] - 0s 9ms/step - loss: 0.1960 - mse: 0.1960 - mae: 0.3129\n",
            "Epoch 220/500\n",
            "37/37 [==============================] - 0s 9ms/step - loss: 0.1871 - mse: 0.1871 - mae: 0.2838\n",
            "Epoch 221/500\n",
            "37/37 [==============================] - 0s 9ms/step - loss: 0.1903 - mse: 0.1903 - mae: 0.2928\n",
            "Epoch 222/500\n",
            "37/37 [==============================] - 0s 9ms/step - loss: 0.1972 - mse: 0.1972 - mae: 0.3024\n",
            "Epoch 223/500\n",
            "37/37 [==============================] - 0s 9ms/step - loss: 0.2177 - mse: 0.2177 - mae: 0.3319\n",
            "Epoch 224/500\n",
            "37/37 [==============================] - 0s 8ms/step - loss: 0.2240 - mse: 0.2240 - mae: 0.3322\n",
            "Epoch 225/500\n",
            "37/37 [==============================] - 0s 6ms/step - loss: 0.2164 - mse: 0.2164 - mae: 0.3180\n",
            "Epoch 226/500\n",
            "37/37 [==============================] - 0s 6ms/step - loss: 0.2229 - mse: 0.2229 - mae: 0.3070\n",
            "Epoch 227/500\n",
            "37/37 [==============================] - 0s 6ms/step - loss: 0.2235 - mse: 0.2235 - mae: 0.3360\n",
            "Epoch 228/500\n",
            "37/37 [==============================] - 0s 6ms/step - loss: 0.2440 - mse: 0.2440 - mae: 0.3529\n",
            "Epoch 229/500\n",
            "37/37 [==============================] - 0s 6ms/step - loss: 0.2262 - mse: 0.2262 - mae: 0.3377\n",
            "Epoch 230/500\n",
            "37/37 [==============================] - 0s 6ms/step - loss: 0.2126 - mse: 0.2126 - mae: 0.3109\n",
            "Epoch 231/500\n",
            "37/37 [==============================] - 0s 6ms/step - loss: 0.2087 - mse: 0.2087 - mae: 0.3231\n",
            "Epoch 232/500\n",
            "37/37 [==============================] - 0s 6ms/step - loss: 0.2024 - mse: 0.2024 - mae: 0.3128\n",
            "Epoch 233/500\n",
            "37/37 [==============================] - 0s 6ms/step - loss: 0.2089 - mse: 0.2089 - mae: 0.3097\n",
            "Epoch 234/500\n",
            "37/37 [==============================] - 0s 6ms/step - loss: 0.1891 - mse: 0.1891 - mae: 0.2980\n",
            "Epoch 235/500\n",
            "37/37 [==============================] - 0s 6ms/step - loss: 0.1839 - mse: 0.1839 - mae: 0.2856\n",
            "Epoch 236/500\n",
            "37/37 [==============================] - 0s 6ms/step - loss: 0.1846 - mse: 0.1846 - mae: 0.2886\n",
            "Epoch 237/500\n",
            "37/37 [==============================] - 0s 7ms/step - loss: 0.2194 - mse: 0.2194 - mae: 0.3466\n",
            "Epoch 238/500\n",
            "37/37 [==============================] - 0s 6ms/step - loss: 0.2287 - mse: 0.2287 - mae: 0.3383\n",
            "Epoch 239/500\n",
            "37/37 [==============================] - 0s 6ms/step - loss: 0.2989 - mse: 0.2989 - mae: 0.4145\n",
            "Epoch 240/500\n",
            "37/37 [==============================] - 0s 6ms/step - loss: 0.2742 - mse: 0.2742 - mae: 0.3721\n",
            "Epoch 241/500\n",
            "37/37 [==============================] - 0s 6ms/step - loss: 0.2448 - mse: 0.2448 - mae: 0.3412\n",
            "Epoch 242/500\n",
            "37/37 [==============================] - 0s 6ms/step - loss: 0.2157 - mse: 0.2157 - mae: 0.3146\n",
            "Epoch 243/500\n",
            "37/37 [==============================] - 0s 6ms/step - loss: 0.1919 - mse: 0.1919 - mae: 0.2994\n",
            "Epoch 244/500\n",
            "37/37 [==============================] - 0s 6ms/step - loss: 0.1858 - mse: 0.1858 - mae: 0.2992\n",
            "Epoch 245/500\n",
            "37/37 [==============================] - 0s 6ms/step - loss: 0.2160 - mse: 0.2160 - mae: 0.3231\n",
            "Epoch 246/500\n",
            "37/37 [==============================] - 0s 5ms/step - loss: 0.2141 - mse: 0.2141 - mae: 0.3266\n",
            "Epoch 247/500\n",
            "37/37 [==============================] - 0s 6ms/step - loss: 0.2029 - mse: 0.2029 - mae: 0.3198\n",
            "Epoch 248/500\n",
            "37/37 [==============================] - 0s 5ms/step - loss: 0.1714 - mse: 0.1714 - mae: 0.2786\n",
            "Epoch 249/500\n",
            "37/37 [==============================] - 0s 5ms/step - loss: 0.1658 - mse: 0.1658 - mae: 0.2768\n",
            "Epoch 250/500\n",
            "37/37 [==============================] - 0s 6ms/step - loss: 0.1583 - mse: 0.1583 - mae: 0.2657\n",
            "Epoch 251/500\n",
            "37/37 [==============================] - 0s 6ms/step - loss: 0.1519 - mse: 0.1519 - mae: 0.2599\n",
            "Epoch 252/500\n",
            "37/37 [==============================] - 0s 6ms/step - loss: 0.1353 - mse: 0.1353 - mae: 0.2385\n",
            "Epoch 253/500\n",
            "37/37 [==============================] - 0s 6ms/step - loss: 0.1343 - mse: 0.1343 - mae: 0.2345\n",
            "Epoch 254/500\n",
            "37/37 [==============================] - 0s 6ms/step - loss: 0.1441 - mse: 0.1441 - mae: 0.2477\n",
            "Epoch 255/500\n",
            "37/37 [==============================] - 0s 6ms/step - loss: 0.1919 - mse: 0.1919 - mae: 0.3165\n",
            "Epoch 256/500\n",
            "37/37 [==============================] - 0s 6ms/step - loss: 0.2262 - mse: 0.2262 - mae: 0.3449\n",
            "Epoch 257/500\n",
            "37/37 [==============================] - 0s 6ms/step - loss: 0.2456 - mse: 0.2456 - mae: 0.3620\n",
            "Epoch 258/500\n",
            "37/37 [==============================] - 0s 6ms/step - loss: 0.2288 - mse: 0.2288 - mae: 0.3342\n",
            "Epoch 259/500\n",
            "37/37 [==============================] - 0s 6ms/step - loss: 0.2441 - mse: 0.2441 - mae: 0.3466\n",
            "Epoch 260/500\n",
            "37/37 [==============================] - 0s 6ms/step - loss: 0.2401 - mse: 0.2401 - mae: 0.3416\n",
            "Epoch 261/500\n",
            "37/37 [==============================] - 0s 8ms/step - loss: 0.2176 - mse: 0.2176 - mae: 0.3166\n",
            "Epoch 262/500\n",
            "37/37 [==============================] - 0s 8ms/step - loss: 0.2066 - mse: 0.2066 - mae: 0.3129\n",
            "Epoch 263/500\n",
            "37/37 [==============================] - 0s 7ms/step - loss: 0.2411 - mse: 0.2411 - mae: 0.3139\n",
            "Epoch 264/500\n",
            "37/37 [==============================] - 0s 6ms/step - loss: 0.2207 - mse: 0.2207 - mae: 0.3130\n",
            "Epoch 265/500\n",
            "37/37 [==============================] - 0s 6ms/step - loss: 0.2261 - mse: 0.2261 - mae: 0.3469\n",
            "Epoch 266/500\n",
            "37/37 [==============================] - 0s 6ms/step - loss: 0.2127 - mse: 0.2127 - mae: 0.3221\n",
            "Epoch 267/500\n",
            "37/37 [==============================] - 0s 6ms/step - loss: 0.2390 - mse: 0.2390 - mae: 0.3422\n",
            "Epoch 268/500\n",
            "37/37 [==============================] - 0s 8ms/step - loss: 0.2115 - mse: 0.2115 - mae: 0.3230\n",
            "Epoch 269/500\n",
            "37/37 [==============================] - 0s 9ms/step - loss: 0.2262 - mse: 0.2262 - mae: 0.3266\n",
            "Epoch 270/500\n",
            "37/37 [==============================] - 0s 8ms/step - loss: 0.2552 - mse: 0.2552 - mae: 0.3680\n",
            "Epoch 271/500\n",
            "37/37 [==============================] - 0s 8ms/step - loss: 0.2539 - mse: 0.2539 - mae: 0.3550\n",
            "Epoch 272/500\n",
            "37/37 [==============================] - 0s 9ms/step - loss: 0.2311 - mse: 0.2311 - mae: 0.3288\n",
            "Epoch 273/500\n",
            "37/37 [==============================] - 0s 8ms/step - loss: 0.2273 - mse: 0.2273 - mae: 0.3334\n",
            "Epoch 274/500\n",
            "37/37 [==============================] - 0s 8ms/step - loss: 0.1872 - mse: 0.1872 - mae: 0.2900\n",
            "Epoch 275/500\n",
            "37/37 [==============================] - 0s 9ms/step - loss: 0.1627 - mse: 0.1627 - mae: 0.2633\n",
            "Epoch 276/500\n",
            "37/37 [==============================] - 0s 8ms/step - loss: 0.2144 - mse: 0.2144 - mae: 0.3329\n",
            "Epoch 277/500\n",
            "37/37 [==============================] - 0s 8ms/step - loss: 0.2129 - mse: 0.2129 - mae: 0.3330\n",
            "Epoch 278/500\n",
            "37/37 [==============================] - 0s 9ms/step - loss: 0.1611 - mse: 0.1611 - mae: 0.2704\n",
            "Epoch 279/500\n",
            "37/37 [==============================] - 0s 6ms/step - loss: 0.1623 - mse: 0.1623 - mae: 0.2771\n",
            "Epoch 280/500\n",
            "37/37 [==============================] - 0s 6ms/step - loss: 0.1526 - mse: 0.1526 - mae: 0.2658\n",
            "Epoch 281/500\n",
            "37/37 [==============================] - 0s 6ms/step - loss: 0.2036 - mse: 0.2036 - mae: 0.3113\n",
            "Epoch 282/500\n",
            "37/37 [==============================] - 0s 5ms/step - loss: 0.1746 - mse: 0.1746 - mae: 0.2888\n",
            "Epoch 283/500\n",
            "37/37 [==============================] - 0s 6ms/step - loss: 0.1549 - mse: 0.1549 - mae: 0.2598\n",
            "Epoch 284/500\n",
            "37/37 [==============================] - 0s 6ms/step - loss: 0.1715 - mse: 0.1715 - mae: 0.2939\n",
            "Epoch 285/500\n",
            "37/37 [==============================] - 0s 5ms/step - loss: 0.1676 - mse: 0.1676 - mae: 0.2866\n",
            "Epoch 286/500\n",
            "37/37 [==============================] - 0s 6ms/step - loss: 0.1713 - mse: 0.1713 - mae: 0.2966\n",
            "Epoch 287/500\n",
            "37/37 [==============================] - 0s 5ms/step - loss: 0.1771 - mse: 0.1771 - mae: 0.2947\n",
            "Epoch 288/500\n",
            "37/37 [==============================] - 0s 6ms/step - loss: 0.1557 - mse: 0.1557 - mae: 0.2706\n",
            "Epoch 289/500\n",
            "37/37 [==============================] - 0s 6ms/step - loss: 0.1568 - mse: 0.1568 - mae: 0.2695\n",
            "Epoch 290/500\n",
            "37/37 [==============================] - 0s 6ms/step - loss: 0.1960 - mse: 0.1960 - mae: 0.3228\n",
            "Epoch 291/500\n",
            "37/37 [==============================] - 0s 6ms/step - loss: 0.1676 - mse: 0.1676 - mae: 0.2698\n",
            "Epoch 292/500\n",
            "37/37 [==============================] - 0s 6ms/step - loss: 0.2378 - mse: 0.2378 - mae: 0.3598\n",
            "Epoch 293/500\n",
            "37/37 [==============================] - 0s 6ms/step - loss: 0.2389 - mse: 0.2389 - mae: 0.3527\n",
            "Epoch 294/500\n",
            "37/37 [==============================] - 0s 6ms/step - loss: 0.2205 - mse: 0.2205 - mae: 0.3290\n",
            "Epoch 295/500\n",
            "37/37 [==============================] - 0s 6ms/step - loss: 0.1887 - mse: 0.1887 - mae: 0.2903\n",
            "Epoch 296/500\n",
            "37/37 [==============================] - 0s 6ms/step - loss: 0.1775 - mse: 0.1775 - mae: 0.2871\n",
            "Epoch 297/500\n",
            "37/37 [==============================] - 0s 7ms/step - loss: 0.1628 - mse: 0.1628 - mae: 0.2729\n",
            "Epoch 298/500\n",
            "37/37 [==============================] - 0s 6ms/step - loss: 0.1638 - mse: 0.1638 - mae: 0.2708\n",
            "Epoch 299/500\n",
            "37/37 [==============================] - 0s 6ms/step - loss: 0.1661 - mse: 0.1661 - mae: 0.2850\n",
            "Epoch 300/500\n",
            "37/37 [==============================] - 0s 6ms/step - loss: 0.1816 - mse: 0.1816 - mae: 0.2957\n",
            "Epoch 301/500\n",
            "37/37 [==============================] - 0s 6ms/step - loss: 0.1771 - mse: 0.1771 - mae: 0.2955\n",
            "Epoch 302/500\n",
            "37/37 [==============================] - 0s 6ms/step - loss: 0.1703 - mse: 0.1703 - mae: 0.2706\n",
            "Epoch 303/500\n",
            "37/37 [==============================] - 0s 5ms/step - loss: 0.1563 - mse: 0.1563 - mae: 0.2614\n",
            "Epoch 304/500\n",
            "37/37 [==============================] - 0s 6ms/step - loss: 0.1551 - mse: 0.1551 - mae: 0.2698\n",
            "Epoch 305/500\n",
            "37/37 [==============================] - 0s 6ms/step - loss: 0.1543 - mse: 0.1543 - mae: 0.2658\n",
            "Epoch 306/500\n",
            "37/37 [==============================] - 0s 7ms/step - loss: 0.1648 - mse: 0.1648 - mae: 0.2826\n",
            "Epoch 307/500\n",
            "37/37 [==============================] - 0s 6ms/step - loss: 0.1872 - mse: 0.1872 - mae: 0.3109\n",
            "Epoch 308/500\n",
            "37/37 [==============================] - 0s 6ms/step - loss: 0.1915 - mse: 0.1915 - mae: 0.3086\n",
            "Epoch 309/500\n",
            "37/37 [==============================] - 0s 5ms/step - loss: 0.2055 - mse: 0.2055 - mae: 0.3171\n",
            "Epoch 310/500\n",
            "37/37 [==============================] - 0s 6ms/step - loss: 0.2262 - mse: 0.2262 - mae: 0.3315\n",
            "Epoch 311/500\n",
            "37/37 [==============================] - 0s 6ms/step - loss: 0.2144 - mse: 0.2144 - mae: 0.3131\n",
            "Epoch 312/500\n",
            "37/37 [==============================] - 0s 6ms/step - loss: 0.1849 - mse: 0.1849 - mae: 0.2881\n",
            "Epoch 313/500\n",
            "37/37 [==============================] - 0s 6ms/step - loss: 0.1714 - mse: 0.1714 - mae: 0.2816\n",
            "Epoch 314/500\n",
            "37/37 [==============================] - 0s 6ms/step - loss: 0.1703 - mse: 0.1703 - mae: 0.2889\n",
            "Epoch 315/500\n",
            "37/37 [==============================] - 0s 6ms/step - loss: 0.1681 - mse: 0.1681 - mae: 0.2853\n",
            "Epoch 316/500\n",
            "37/37 [==============================] - 0s 6ms/step - loss: 0.1410 - mse: 0.1410 - mae: 0.2510\n",
            "Epoch 317/500\n",
            "37/37 [==============================] - 0s 6ms/step - loss: 0.1719 - mse: 0.1719 - mae: 0.2984\n",
            "Epoch 318/500\n",
            "37/37 [==============================] - 0s 6ms/step - loss: 0.1704 - mse: 0.1704 - mae: 0.2948\n",
            "Epoch 319/500\n",
            "37/37 [==============================] - 0s 6ms/step - loss: 0.1526 - mse: 0.1526 - mae: 0.2570\n",
            "Epoch 320/500\n",
            "37/37 [==============================] - 0s 6ms/step - loss: 0.1602 - mse: 0.1602 - mae: 0.2692\n",
            "Epoch 321/500\n",
            "37/37 [==============================] - 0s 6ms/step - loss: 0.1848 - mse: 0.1848 - mae: 0.3053\n",
            "Epoch 322/500\n",
            "37/37 [==============================] - 0s 6ms/step - loss: 0.1899 - mse: 0.1899 - mae: 0.3066\n",
            "Epoch 323/500\n",
            "37/37 [==============================] - 0s 11ms/step - loss: 0.2027 - mse: 0.2027 - mae: 0.3135\n",
            "Epoch 324/500\n",
            "37/37 [==============================] - 0s 10ms/step - loss: 0.2011 - mse: 0.2011 - mae: 0.3179\n",
            "Epoch 325/500\n",
            "37/37 [==============================] - 0s 10ms/step - loss: 0.1813 - mse: 0.1813 - mae: 0.2818\n",
            "Epoch 326/500\n",
            "37/37 [==============================] - 0s 12ms/step - loss: 0.1730 - mse: 0.1730 - mae: 0.2816\n",
            "Epoch 327/500\n",
            "37/37 [==============================] - 0s 11ms/step - loss: 0.1688 - mse: 0.1688 - mae: 0.2771\n",
            "Epoch 328/500\n",
            "37/37 [==============================] - 0s 8ms/step - loss: 0.1639 - mse: 0.1639 - mae: 0.2659\n",
            "Epoch 329/500\n",
            "37/37 [==============================] - 0s 8ms/step - loss: 0.1733 - mse: 0.1733 - mae: 0.2808\n",
            "Epoch 330/500\n",
            "37/37 [==============================] - 0s 8ms/step - loss: 0.1967 - mse: 0.1967 - mae: 0.3156\n",
            "Epoch 331/500\n",
            "37/37 [==============================] - 0s 8ms/step - loss: 0.1991 - mse: 0.1991 - mae: 0.3289\n",
            "Epoch 332/500\n",
            "37/37 [==============================] - 0s 9ms/step - loss: 0.1733 - mse: 0.1733 - mae: 0.2859\n",
            "Epoch 333/500\n",
            "37/37 [==============================] - 0s 9ms/step - loss: 0.1773 - mse: 0.1773 - mae: 0.2857\n",
            "Epoch 334/500\n",
            "37/37 [==============================] - 0s 6ms/step - loss: 0.1746 - mse: 0.1746 - mae: 0.2832\n",
            "Epoch 335/500\n",
            "37/37 [==============================] - 0s 6ms/step - loss: 0.1869 - mse: 0.1869 - mae: 0.2941\n",
            "Epoch 336/500\n",
            "37/37 [==============================] - 0s 6ms/step - loss: 0.1850 - mse: 0.1850 - mae: 0.2897\n",
            "Epoch 337/500\n",
            "37/37 [==============================] - 0s 6ms/step - loss: 0.1917 - mse: 0.1917 - mae: 0.3053\n",
            "Epoch 338/500\n",
            "37/37 [==============================] - 0s 6ms/step - loss: 0.1733 - mse: 0.1733 - mae: 0.2917\n",
            "Epoch 339/500\n",
            "37/37 [==============================] - 0s 6ms/step - loss: 0.1655 - mse: 0.1655 - mae: 0.2892\n",
            "Epoch 340/500\n",
            "37/37 [==============================] - 0s 6ms/step - loss: 0.1506 - mse: 0.1506 - mae: 0.2693\n",
            "Epoch 341/500\n",
            "37/37 [==============================] - 0s 7ms/step - loss: 0.1505 - mse: 0.1505 - mae: 0.2615\n",
            "Epoch 342/500\n",
            "37/37 [==============================] - 0s 7ms/step - loss: 0.1394 - mse: 0.1394 - mae: 0.2462\n",
            "Epoch 343/500\n",
            "37/37 [==============================] - 0s 7ms/step - loss: 0.1460 - mse: 0.1460 - mae: 0.2524\n",
            "Epoch 344/500\n",
            "37/37 [==============================] - 0s 6ms/step - loss: 0.1414 - mse: 0.1414 - mae: 0.2461\n",
            "Epoch 345/500\n",
            "37/37 [==============================] - 0s 7ms/step - loss: 0.1307 - mse: 0.1307 - mae: 0.2321\n",
            "Epoch 346/500\n",
            "37/37 [==============================] - 0s 7ms/step - loss: 0.1489 - mse: 0.1489 - mae: 0.2695\n",
            "Epoch 347/500\n",
            "37/37 [==============================] - 0s 8ms/step - loss: 0.1443 - mse: 0.1443 - mae: 0.2539\n",
            "Epoch 348/500\n",
            "37/37 [==============================] - 0s 9ms/step - loss: 0.1455 - mse: 0.1455 - mae: 0.2535\n",
            "Epoch 349/500\n",
            "37/37 [==============================] - 0s 8ms/step - loss: 0.1846 - mse: 0.1846 - mae: 0.3002\n",
            "Epoch 350/500\n",
            "37/37 [==============================] - 0s 8ms/step - loss: 0.1727 - mse: 0.1727 - mae: 0.2773\n",
            "Epoch 351/500\n",
            "37/37 [==============================] - 0s 6ms/step - loss: 0.1854 - mse: 0.1854 - mae: 0.2903\n",
            "Epoch 352/500\n",
            "37/37 [==============================] - 0s 7ms/step - loss: 0.2076 - mse: 0.2076 - mae: 0.3343\n",
            "Epoch 353/500\n",
            "37/37 [==============================] - 0s 6ms/step - loss: 0.1905 - mse: 0.1905 - mae: 0.3038\n",
            "Epoch 354/500\n",
            "37/37 [==============================] - 0s 8ms/step - loss: 0.1745 - mse: 0.1745 - mae: 0.2876\n",
            "Epoch 355/500\n",
            "37/37 [==============================] - 0s 9ms/step - loss: 0.1700 - mse: 0.1700 - mae: 0.2849\n",
            "Epoch 356/500\n",
            "37/37 [==============================] - 0s 9ms/step - loss: 0.1702 - mse: 0.1702 - mae: 0.2823\n",
            "Epoch 357/500\n",
            "37/37 [==============================] - 0s 8ms/step - loss: 0.1584 - mse: 0.1584 - mae: 0.2803\n",
            "Epoch 358/500\n",
            "37/37 [==============================] - 0s 8ms/step - loss: 0.1729 - mse: 0.1729 - mae: 0.2943\n",
            "Epoch 359/500\n",
            "37/37 [==============================] - 0s 8ms/step - loss: 0.1405 - mse: 0.1405 - mae: 0.2554\n",
            "Epoch 360/500\n",
            "37/37 [==============================] - 0s 9ms/step - loss: 0.1426 - mse: 0.1426 - mae: 0.2549\n",
            "Epoch 361/500\n",
            "37/37 [==============================] - 0s 8ms/step - loss: 0.1354 - mse: 0.1354 - mae: 0.2406\n",
            "Epoch 362/500\n",
            "37/37 [==============================] - 0s 9ms/step - loss: 0.1363 - mse: 0.1363 - mae: 0.2416\n",
            "Epoch 363/500\n",
            "37/37 [==============================] - 0s 8ms/step - loss: 0.1387 - mse: 0.1387 - mae: 0.2461\n",
            "Epoch 364/500\n",
            "37/37 [==============================] - 0s 6ms/step - loss: 0.1371 - mse: 0.1371 - mae: 0.2475\n",
            "Epoch 365/500\n",
            "37/37 [==============================] - 0s 6ms/step - loss: 0.1310 - mse: 0.1310 - mae: 0.2360\n",
            "Epoch 366/500\n",
            "37/37 [==============================] - 0s 7ms/step - loss: 0.1220 - mse: 0.1220 - mae: 0.2212\n",
            "Epoch 367/500\n",
            "37/37 [==============================] - 0s 6ms/step - loss: 0.1168 - mse: 0.1168 - mae: 0.2156\n",
            "Epoch 368/500\n",
            "37/37 [==============================] - 0s 6ms/step - loss: 0.1209 - mse: 0.1209 - mae: 0.2317\n",
            "Epoch 369/500\n",
            "37/37 [==============================] - 0s 6ms/step - loss: 0.1410 - mse: 0.1410 - mae: 0.2610\n",
            "Epoch 370/500\n",
            "37/37 [==============================] - 0s 7ms/step - loss: 0.1637 - mse: 0.1637 - mae: 0.2876\n",
            "Epoch 371/500\n",
            "37/37 [==============================] - 0s 9ms/step - loss: 0.1867 - mse: 0.1867 - mae: 0.3094\n",
            "Epoch 372/500\n",
            "37/37 [==============================] - 0s 9ms/step - loss: 0.1642 - mse: 0.1642 - mae: 0.2833\n",
            "Epoch 373/500\n",
            "37/37 [==============================] - 0s 9ms/step - loss: 0.1452 - mse: 0.1452 - mae: 0.2589\n",
            "Epoch 374/500\n",
            "37/37 [==============================] - 0s 8ms/step - loss: 0.1536 - mse: 0.1536 - mae: 0.2593\n",
            "Epoch 375/500\n",
            "37/37 [==============================] - 0s 10ms/step - loss: 0.1673 - mse: 0.1673 - mae: 0.2824\n",
            "Epoch 376/500\n",
            "37/37 [==============================] - 0s 11ms/step - loss: 0.1774 - mse: 0.1774 - mae: 0.3028\n",
            "Epoch 377/500\n",
            "37/37 [==============================] - 0s 10ms/step - loss: 0.1774 - mse: 0.1774 - mae: 0.2914\n",
            "Epoch 378/500\n",
            "37/37 [==============================] - 0s 11ms/step - loss: 0.1537 - mse: 0.1537 - mae: 0.2560\n",
            "Epoch 379/500\n",
            "37/37 [==============================] - 0s 11ms/step - loss: 0.1516 - mse: 0.1516 - mae: 0.2551\n",
            "Epoch 380/500\n",
            "37/37 [==============================] - 0s 11ms/step - loss: 0.1582 - mse: 0.1582 - mae: 0.2747\n",
            "Epoch 381/500\n",
            "37/37 [==============================] - 0s 11ms/step - loss: 0.1708 - mse: 0.1708 - mae: 0.2817\n",
            "Epoch 382/500\n",
            "37/37 [==============================] - 0s 8ms/step - loss: 0.2057 - mse: 0.2057 - mae: 0.3209\n",
            "Epoch 383/500\n",
            "37/37 [==============================] - 0s 6ms/step - loss: 0.1799 - mse: 0.1799 - mae: 0.2895\n",
            "Epoch 384/500\n",
            "37/37 [==============================] - 0s 6ms/step - loss: 0.1730 - mse: 0.1730 - mae: 0.2831\n",
            "Epoch 385/500\n",
            "37/37 [==============================] - 0s 6ms/step - loss: 0.1868 - mse: 0.1868 - mae: 0.3055\n",
            "Epoch 386/500\n",
            "37/37 [==============================] - 0s 6ms/step - loss: 0.1643 - mse: 0.1643 - mae: 0.2777\n",
            "Epoch 387/500\n",
            "37/37 [==============================] - 0s 8ms/step - loss: 0.1745 - mse: 0.1745 - mae: 0.3002\n",
            "Epoch 388/500\n",
            "37/37 [==============================] - 0s 8ms/step - loss: 0.1812 - mse: 0.1812 - mae: 0.3112\n",
            "Epoch 389/500\n",
            "37/37 [==============================] - 0s 8ms/step - loss: 0.1610 - mse: 0.1610 - mae: 0.2821\n",
            "Epoch 390/500\n",
            "37/37 [==============================] - 0s 7ms/step - loss: 0.1511 - mse: 0.1511 - mae: 0.2637\n",
            "Epoch 391/500\n",
            "37/37 [==============================] - 0s 6ms/step - loss: 0.1727 - mse: 0.1727 - mae: 0.2958\n",
            "Epoch 392/500\n",
            "37/37 [==============================] - 0s 6ms/step - loss: 0.1577 - mse: 0.1577 - mae: 0.2635\n",
            "Epoch 393/500\n",
            "37/37 [==============================] - 0s 7ms/step - loss: 0.1862 - mse: 0.1862 - mae: 0.2850\n",
            "Epoch 394/500\n",
            "37/37 [==============================] - 0s 6ms/step - loss: 0.1634 - mse: 0.1634 - mae: 0.2656\n",
            "Epoch 395/500\n",
            "37/37 [==============================] - 0s 6ms/step - loss: 0.1627 - mse: 0.1627 - mae: 0.2627\n",
            "Epoch 396/500\n",
            "37/37 [==============================] - 0s 7ms/step - loss: 0.1540 - mse: 0.1540 - mae: 0.2758\n",
            "Epoch 397/500\n",
            "37/37 [==============================] - 0s 7ms/step - loss: 0.1464 - mse: 0.1464 - mae: 0.2532\n",
            "Epoch 398/500\n",
            "37/37 [==============================] - 0s 6ms/step - loss: 0.1559 - mse: 0.1559 - mae: 0.2655\n",
            "Epoch 399/500\n",
            "37/37 [==============================] - 0s 6ms/step - loss: 0.1446 - mse: 0.1446 - mae: 0.2500\n",
            "Epoch 400/500\n",
            "37/37 [==============================] - 0s 6ms/step - loss: 0.1469 - mse: 0.1469 - mae: 0.2585\n",
            "Epoch 401/500\n",
            "37/37 [==============================] - 0s 7ms/step - loss: 0.1338 - mse: 0.1338 - mae: 0.2422\n",
            "Epoch 402/500\n",
            "37/37 [==============================] - 0s 7ms/step - loss: 0.1350 - mse: 0.1350 - mae: 0.2560\n",
            "Epoch 403/500\n",
            "37/37 [==============================] - 0s 6ms/step - loss: 0.1469 - mse: 0.1469 - mae: 0.2602\n",
            "Epoch 404/500\n",
            "37/37 [==============================] - 0s 7ms/step - loss: 0.1296 - mse: 0.1296 - mae: 0.2388\n",
            "Epoch 405/500\n",
            "37/37 [==============================] - 0s 7ms/step - loss: 0.1495 - mse: 0.1495 - mae: 0.2733\n",
            "Epoch 406/500\n",
            "37/37 [==============================] - 0s 8ms/step - loss: 0.1406 - mse: 0.1406 - mae: 0.2508\n",
            "Epoch 407/500\n",
            "37/37 [==============================] - 0s 7ms/step - loss: 0.1491 - mse: 0.1491 - mae: 0.2588\n",
            "Epoch 408/500\n",
            "37/37 [==============================] - 0s 6ms/step - loss: 0.1605 - mse: 0.1605 - mae: 0.2808\n",
            "Epoch 409/500\n",
            "37/37 [==============================] - 0s 6ms/step - loss: 0.1400 - mse: 0.1400 - mae: 0.2555\n",
            "Epoch 410/500\n",
            "37/37 [==============================] - 0s 6ms/step - loss: 0.1281 - mse: 0.1281 - mae: 0.2367\n",
            "Epoch 411/500\n",
            "37/37 [==============================] - 0s 6ms/step - loss: 0.1353 - mse: 0.1353 - mae: 0.2524\n",
            "Epoch 412/500\n",
            "37/37 [==============================] - 0s 7ms/step - loss: 0.1407 - mse: 0.1407 - mae: 0.2608\n",
            "Epoch 413/500\n",
            "37/37 [==============================] - 0s 6ms/step - loss: 0.1320 - mse: 0.1320 - mae: 0.2401\n",
            "Epoch 414/500\n",
            "37/37 [==============================] - 0s 6ms/step - loss: 0.1285 - mse: 0.1285 - mae: 0.2401\n",
            "Epoch 415/500\n",
            "37/37 [==============================] - 0s 7ms/step - loss: 0.1334 - mse: 0.1334 - mae: 0.2479\n",
            "Epoch 416/500\n",
            "37/37 [==============================] - 0s 7ms/step - loss: 0.1302 - mse: 0.1302 - mae: 0.2390\n",
            "Epoch 417/500\n",
            "37/37 [==============================] - 0s 6ms/step - loss: 0.1168 - mse: 0.1168 - mae: 0.2242\n",
            "Epoch 418/500\n",
            "37/37 [==============================] - 0s 7ms/step - loss: 0.1253 - mse: 0.1253 - mae: 0.2378\n",
            "Epoch 419/500\n",
            "37/37 [==============================] - 0s 6ms/step - loss: 0.1395 - mse: 0.1395 - mae: 0.2524\n",
            "Epoch 420/500\n",
            "37/37 [==============================] - 0s 7ms/step - loss: 0.1631 - mse: 0.1631 - mae: 0.2837\n",
            "Epoch 421/500\n",
            "37/37 [==============================] - 0s 9ms/step - loss: 0.1526 - mse: 0.1526 - mae: 0.2615\n",
            "Epoch 422/500\n",
            "37/37 [==============================] - 0s 8ms/step - loss: 0.1366 - mse: 0.1366 - mae: 0.2409\n",
            "Epoch 423/500\n",
            "37/37 [==============================] - 0s 9ms/step - loss: 0.1268 - mse: 0.1268 - mae: 0.2396\n",
            "Epoch 424/500\n",
            "37/37 [==============================] - 0s 9ms/step - loss: 0.1440 - mse: 0.1440 - mae: 0.2538\n",
            "Epoch 425/500\n",
            "37/37 [==============================] - 0s 9ms/step - loss: 0.1572 - mse: 0.1572 - mae: 0.2755\n",
            "Epoch 426/500\n",
            "37/37 [==============================] - 0s 12ms/step - loss: 0.1752 - mse: 0.1752 - mae: 0.2971\n",
            "Epoch 427/500\n",
            "37/37 [==============================] - 0s 11ms/step - loss: 0.1570 - mse: 0.1570 - mae: 0.2708\n",
            "Epoch 428/500\n",
            "37/37 [==============================] - 0s 10ms/step - loss: 0.1695 - mse: 0.1695 - mae: 0.2889\n",
            "Epoch 429/500\n",
            "37/37 [==============================] - 0s 9ms/step - loss: 0.1487 - mse: 0.1487 - mae: 0.2542\n",
            "Epoch 430/500\n",
            "37/37 [==============================] - 0s 9ms/step - loss: 0.1581 - mse: 0.1581 - mae: 0.2690\n",
            "Epoch 431/500\n",
            "37/37 [==============================] - 0s 9ms/step - loss: 0.1443 - mse: 0.1443 - mae: 0.2575\n",
            "Epoch 432/500\n",
            "37/37 [==============================] - 0s 7ms/step - loss: 0.1299 - mse: 0.1299 - mae: 0.2449\n",
            "Epoch 433/500\n",
            "37/37 [==============================] - 0s 6ms/step - loss: 0.1277 - mse: 0.1277 - mae: 0.2388\n",
            "Epoch 434/500\n",
            "37/37 [==============================] - 0s 7ms/step - loss: 0.1415 - mse: 0.1415 - mae: 0.2657\n",
            "Epoch 435/500\n",
            "37/37 [==============================] - 0s 6ms/step - loss: 0.1274 - mse: 0.1274 - mae: 0.2448\n",
            "Epoch 436/500\n",
            "37/37 [==============================] - 0s 6ms/step - loss: 0.1443 - mse: 0.1443 - mae: 0.2609\n",
            "Epoch 437/500\n",
            "37/37 [==============================] - 0s 6ms/step - loss: 0.1484 - mse: 0.1484 - mae: 0.2598\n",
            "Epoch 438/500\n",
            "37/37 [==============================] - 0s 7ms/step - loss: 0.1436 - mse: 0.1436 - mae: 0.2566\n",
            "Epoch 439/500\n",
            "37/37 [==============================] - 0s 6ms/step - loss: 0.1556 - mse: 0.1556 - mae: 0.2746\n",
            "Epoch 440/500\n",
            "37/37 [==============================] - 0s 6ms/step - loss: 0.1302 - mse: 0.1302 - mae: 0.2475\n",
            "Epoch 441/500\n",
            "37/37 [==============================] - 0s 6ms/step - loss: 0.1314 - mse: 0.1314 - mae: 0.2436\n",
            "Epoch 442/500\n",
            "37/37 [==============================] - 0s 6ms/step - loss: 0.1414 - mse: 0.1414 - mae: 0.2586\n",
            "Epoch 443/500\n",
            "37/37 [==============================] - 0s 6ms/step - loss: 0.1345 - mse: 0.1345 - mae: 0.2504\n",
            "Epoch 444/500\n",
            "37/37 [==============================] - 0s 7ms/step - loss: 0.1942 - mse: 0.1942 - mae: 0.3312\n",
            "Epoch 445/500\n",
            "37/37 [==============================] - 0s 6ms/step - loss: 0.2204 - mse: 0.2204 - mae: 0.3516\n",
            "Epoch 446/500\n",
            "37/37 [==============================] - 0s 6ms/step - loss: 0.1725 - mse: 0.1725 - mae: 0.2874\n",
            "Epoch 447/500\n",
            "37/37 [==============================] - 0s 6ms/step - loss: 0.1502 - mse: 0.1502 - mae: 0.2589\n",
            "Epoch 448/500\n",
            "37/37 [==============================] - 0s 6ms/step - loss: 0.1515 - mse: 0.1515 - mae: 0.2647\n",
            "Epoch 449/500\n",
            "37/37 [==============================] - 0s 7ms/step - loss: 0.1582 - mse: 0.1582 - mae: 0.2706\n",
            "Epoch 450/500\n",
            "37/37 [==============================] - 0s 6ms/step - loss: 0.1504 - mse: 0.1504 - mae: 0.2664\n",
            "Epoch 451/500\n",
            "37/37 [==============================] - 0s 7ms/step - loss: 0.1267 - mse: 0.1267 - mae: 0.2369\n",
            "Epoch 452/500\n",
            "37/37 [==============================] - 0s 8ms/step - loss: 0.1373 - mse: 0.1373 - mae: 0.2502\n",
            "Epoch 453/500\n",
            "37/37 [==============================] - 0s 8ms/step - loss: 0.1664 - mse: 0.1664 - mae: 0.2958\n",
            "Epoch 454/500\n",
            "37/37 [==============================] - 0s 9ms/step - loss: 0.1590 - mse: 0.1590 - mae: 0.2896\n",
            "Epoch 455/500\n",
            "37/37 [==============================] - 0s 8ms/step - loss: 0.1633 - mse: 0.1633 - mae: 0.2832\n",
            "Epoch 456/500\n",
            "37/37 [==============================] - 0s 8ms/step - loss: 0.1408 - mse: 0.1408 - mae: 0.2590\n",
            "Epoch 457/500\n",
            "37/37 [==============================] - 0s 9ms/step - loss: 0.1382 - mse: 0.1382 - mae: 0.2526\n",
            "Epoch 458/500\n",
            "37/37 [==============================] - 0s 7ms/step - loss: 0.1177 - mse: 0.1177 - mae: 0.2315\n",
            "Epoch 459/500\n",
            "37/37 [==============================] - 0s 8ms/step - loss: 0.1372 - mse: 0.1372 - mae: 0.2566\n",
            "Epoch 460/500\n",
            "37/37 [==============================] - 0s 7ms/step - loss: 0.1443 - mse: 0.1443 - mae: 0.2683\n",
            "Epoch 461/500\n",
            "37/37 [==============================] - 0s 7ms/step - loss: 0.1250 - mse: 0.1250 - mae: 0.2380\n",
            "Epoch 462/500\n",
            "37/37 [==============================] - 0s 7ms/step - loss: 0.1271 - mse: 0.1271 - mae: 0.2400\n",
            "Epoch 463/500\n",
            "37/37 [==============================] - 0s 6ms/step - loss: 0.1441 - mse: 0.1441 - mae: 0.2625\n",
            "Epoch 464/500\n",
            "37/37 [==============================] - 0s 7ms/step - loss: 0.1339 - mse: 0.1339 - mae: 0.2406\n",
            "Epoch 465/500\n",
            "37/37 [==============================] - 0s 7ms/step - loss: 0.1341 - mse: 0.1341 - mae: 0.2503\n",
            "Epoch 466/500\n",
            "37/37 [==============================] - 0s 7ms/step - loss: 0.1180 - mse: 0.1180 - mae: 0.2244\n",
            "Epoch 467/500\n",
            "37/37 [==============================] - 0s 6ms/step - loss: 0.1329 - mse: 0.1329 - mae: 0.2500\n",
            "Epoch 468/500\n",
            "37/37 [==============================] - 0s 7ms/step - loss: 0.1184 - mse: 0.1184 - mae: 0.2287\n",
            "Epoch 469/500\n",
            "37/37 [==============================] - 0s 7ms/step - loss: 0.1250 - mse: 0.1250 - mae: 0.2435\n",
            "Epoch 470/500\n",
            "37/37 [==============================] - 0s 10ms/step - loss: 0.1330 - mse: 0.1330 - mae: 0.2563\n",
            "Epoch 471/500\n",
            "37/37 [==============================] - 0s 11ms/step - loss: 0.1621 - mse: 0.1621 - mae: 0.2887\n",
            "Epoch 472/500\n",
            "37/37 [==============================] - 0s 11ms/step - loss: 0.1612 - mse: 0.1612 - mae: 0.2756\n",
            "Epoch 473/500\n",
            "37/37 [==============================] - 0s 9ms/step - loss: 0.1420 - mse: 0.1420 - mae: 0.2448\n",
            "Epoch 474/500\n",
            "37/37 [==============================] - 0s 8ms/step - loss: 0.1354 - mse: 0.1354 - mae: 0.2375\n",
            "Epoch 475/500\n",
            "37/37 [==============================] - 0s 9ms/step - loss: 0.1541 - mse: 0.1541 - mae: 0.2722\n",
            "Epoch 476/500\n",
            "37/37 [==============================] - 0s 9ms/step - loss: 0.1324 - mse: 0.1324 - mae: 0.2489\n",
            "Epoch 477/500\n",
            "37/37 [==============================] - 0s 8ms/step - loss: 0.1234 - mse: 0.1234 - mae: 0.2305\n",
            "Epoch 478/500\n",
            "37/37 [==============================] - 0s 9ms/step - loss: 0.1300 - mse: 0.1300 - mae: 0.2412\n",
            "Epoch 479/500\n",
            "37/37 [==============================] - 0s 10ms/step - loss: 0.1402 - mse: 0.1402 - mae: 0.2603\n",
            "Epoch 480/500\n",
            "37/37 [==============================] - 0s 9ms/step - loss: 0.1255 - mse: 0.1255 - mae: 0.2396\n",
            "Epoch 481/500\n",
            "37/37 [==============================] - 0s 10ms/step - loss: 0.1207 - mse: 0.1207 - mae: 0.2274\n",
            "Epoch 482/500\n",
            "37/37 [==============================] - 0s 7ms/step - loss: 0.1265 - mse: 0.1265 - mae: 0.2371\n",
            "Epoch 483/500\n",
            "37/37 [==============================] - 0s 6ms/step - loss: 0.1192 - mse: 0.1192 - mae: 0.2254\n",
            "Epoch 484/500\n",
            "37/37 [==============================] - 0s 6ms/step - loss: 0.1276 - mse: 0.1276 - mae: 0.2442\n",
            "Epoch 485/500\n",
            "37/37 [==============================] - 0s 7ms/step - loss: 0.1878 - mse: 0.1878 - mae: 0.3275\n",
            "Epoch 486/500\n",
            "37/37 [==============================] - 0s 6ms/step - loss: 0.1706 - mse: 0.1706 - mae: 0.2952\n",
            "Epoch 487/500\n",
            "37/37 [==============================] - 0s 7ms/step - loss: 0.1558 - mse: 0.1558 - mae: 0.2875\n",
            "Epoch 488/500\n",
            "37/37 [==============================] - 0s 7ms/step - loss: 0.1669 - mse: 0.1669 - mae: 0.2894\n",
            "Epoch 489/500\n",
            "37/37 [==============================] - 0s 7ms/step - loss: 0.1704 - mse: 0.1704 - mae: 0.2936\n",
            "Epoch 490/500\n",
            "37/37 [==============================] - 0s 7ms/step - loss: 0.1440 - mse: 0.1440 - mae: 0.2512\n",
            "Epoch 491/500\n",
            "37/37 [==============================] - 0s 6ms/step - loss: 0.1520 - mse: 0.1520 - mae: 0.2683\n",
            "Epoch 492/500\n",
            "37/37 [==============================] - 0s 6ms/step - loss: 0.1411 - mse: 0.1411 - mae: 0.2499\n",
            "Epoch 493/500\n",
            "37/37 [==============================] - 0s 7ms/step - loss: 0.1260 - mse: 0.1260 - mae: 0.2352\n",
            "Epoch 494/500\n",
            "37/37 [==============================] - 0s 6ms/step - loss: 0.1317 - mse: 0.1317 - mae: 0.2460\n",
            "Epoch 495/500\n",
            "37/37 [==============================] - 0s 6ms/step - loss: 0.1279 - mse: 0.1279 - mae: 0.2338\n",
            "Epoch 496/500\n",
            "37/37 [==============================] - 0s 6ms/step - loss: 0.1148 - mse: 0.1148 - mae: 0.2219\n",
            "Epoch 497/500\n",
            "37/37 [==============================] - 0s 7ms/step - loss: 0.1137 - mse: 0.1137 - mae: 0.2253\n",
            "Epoch 498/500\n",
            "37/37 [==============================] - 0s 6ms/step - loss: 0.1362 - mse: 0.1362 - mae: 0.2605\n",
            "Epoch 499/500\n",
            "37/37 [==============================] - 0s 7ms/step - loss: 0.1250 - mse: 0.1250 - mae: 0.2432\n",
            "Epoch 500/500\n",
            "37/37 [==============================] - 0s 6ms/step - loss: 0.1184 - mse: 0.1184 - mae: 0.2325\n"
          ]
        }
      ],
      "source": [
        "model.compile(optimizer='adam', loss='mse', metrics=['mse', 'mae'])\n",
        "history = model.fit(X_train, y_train, batch_size=32, epochs=500)"
      ]
    },
    {
      "cell_type": "markdown",
      "metadata": {
        "id": "HOqT-1XKQ8wv"
      },
      "source": [
        "### Plot MSE MAE of ANN"
      ]
    },
    {
      "cell_type": "code",
      "execution_count": 89,
      "metadata": {
        "colab": {
          "base_uri": "https://localhost:8080/",
          "height": 471
        },
        "id": "syQuQQZlhw7f",
        "outputId": "47010e89-4a42-487e-9cb5-24efabe22fc3"
      },
      "outputs": [
        {
          "output_type": "display_data",
          "data": {
            "text/plain": [
              "<Figure size 1500x750 with 2 Axes>"
            ],
            "image/png": "[encoded data removed]"
          },
          "metadata": {}
        }
      ],
      "source": [
        "f = plt.figure(figsize=(15,7.5))\n",
        "plt.subplot(1,2,1)\n",
        "plt.plot(history.history['mae'],\n",
        "         label='mae',\n",
        "         c='orange', ls='-')\n",
        "plt.legend()\n",
        "plt.subplot(1,2,2)\n",
        "plt.plot(history.history['mse'],\n",
        "         label='mse',\n",
        "         c='blue', ls='-')\n",
        "plt.legend()\n",
        "plt.show()"
      ]
    },
    {
      "cell_type": "code",
      "execution_count": 90,
      "metadata": {
        "colab": {
          "base_uri": "https://localhost:8080/"
        },
        "id": "KCYoBoPw2mcu",
        "outputId": "804d2b4e-7475-40ef-eba9-b6829386fc99"
      },
      "outputs": [
        {
          "output_type": "stream",
          "name": "stdout",
          "text": [
            "37/37 [==============================] - 0s 3ms/step\n"
          ]
        },
        {
          "output_type": "execute_result",
          "data": {
            "text/plain": [
              "(1176, 1)"
            ]
          },
          "metadata": {},
          "execution_count": 90
        }
      ],
      "source": [
        "ann_pre = model.predict(X_train)\n",
        "ann_pre.shape"
      ]
    },
    {
      "cell_type": "code",
      "execution_count": 91,
      "metadata": {
        "colab": {
          "base_uri": "https://localhost:8080/",
          "height": 363
        },
        "id": "ebYWRiHk2em8",
        "outputId": "cf31925c-4042-4e55-d515-134ee2866426"
      },
      "outputs": [
        {
          "output_type": "execute_result",
          "data": {
            "text/plain": [
              "   Actual Price  Predicted Price  Difference\n",
              "0       8125000        7824782.0   -300218.0\n",
              "1      34479000       40414528.0   5935528.0\n",
              "2      37000000       35789176.0  -1210824.0\n",
              "3      57600000       48716788.0  -8883212.0\n",
              "4      14650000       13911029.0   -738971.0\n",
              "5      13300000       10768304.0  -2531696.0\n",
              "6      32161000       34023228.0   1862228.0\n",
              "7      29900000       37407000.0   7507000.0\n",
              "8      23650000       28042422.0   4392422.0\n",
              "9      21400000       15498493.0  -5901507.0"
            ],
            "text/html": [
              "\n",
              "\n",
              "  <div id=\"df-8a0ab9d4-575e-466f-8bb5-30614e2f0dac\">\n",
              "    <div class=\"colab-df-container\">\n",
              "      <div>\n",
              "<style scoped>\n",
              "    .dataframe tbody tr th:only-of-type {\n",
              "        vertical-align: middle;\n",
              "    }\n",
              "\n",
              "    .dataframe tbody tr th {\n",
              "        vertical-align: top;\n",
              "    }\n",
              "\n",
              "    .dataframe thead th {\n",
              "        text-align: right;\n",
              "    }\n",
              "</style>\n",
              "<table border=\"1\" class=\"dataframe\">\n",
              "  <thead>\n",
              "    <tr style=\"text-align: right;\">\n",
              "      <th></th>\n",
              "      <th>Actual Price</th>\n",
              "      <th>Predicted Price</th>\n",
              "      <th>Difference</th>\n",
              "    </tr>\n",
              "  </thead>\n",
              "  <tbody>\n",
              "    <tr>\n",
              "      <th>0</th>\n",
              "      <td>8125000</td>\n",
              "      <td>7824782.0</td>\n",
              "      <td>-300218.0</td>\n",
              "    </tr>\n",
              "    <tr>\n",
              "      <th>1</th>\n",
              "      <td>34479000</td>\n",
              "      <td>40414528.0</td>\n",
              "      <td>5935528.0</td>\n",
              "    </tr>\n",
              "    <tr>\n",
              "      <th>2</th>\n",
              "      <td>37000000</td>\n",
              "      <td>35789176.0</td>\n",
              "      <td>-1210824.0</td>\n",
              "    </tr>\n",
              "    <tr>\n",
              "      <th>3</th>\n",
              "      <td>57600000</td>\n",
              "      <td>48716788.0</td>\n",
              "      <td>-8883212.0</td>\n",
              "    </tr>\n",
              "    <tr>\n",
              "      <th>4</th>\n",
              "      <td>14650000</td>\n",
              "      <td>13911029.0</td>\n",
              "      <td>-738971.0</td>\n",
              "    </tr>\n",
              "    <tr>\n",
              "      <th>5</th>\n",
              "      <td>13300000</td>\n",
              "      <td>10768304.0</td>\n",
              "      <td>-2531696.0</td>\n",
              "    </tr>\n",
              "    <tr>\n",
              "      <th>6</th>\n",
              "      <td>32161000</td>\n",
              "      <td>34023228.0</td>\n",
              "      <td>1862228.0</td>\n",
              "    </tr>\n",
              "    <tr>\n",
              "      <th>7</th>\n",
              "      <td>29900000</td>\n",
              "      <td>37407000.0</td>\n",
              "      <td>7507000.0</td>\n",
              "    </tr>\n",
              "    <tr>\n",
              "      <th>8</th>\n",
              "      <td>23650000</td>\n",
              "      <td>28042422.0</td>\n",
              "      <td>4392422.0</td>\n",
              "    </tr>\n",
              "    <tr>\n",
              "      <th>9</th>\n",
              "      <td>21400000</td>\n",
              "      <td>15498493.0</td>\n",
              "      <td>-5901507.0</td>\n",
              "    </tr>\n",
              "  </tbody>\n",
              "</table>\n",
              "</div>\n",
              "      <button class=\"colab-df-convert\" onclick=\"convertToInteractive('df-8a0ab9d4-575e-466f-8bb5-30614e2f0dac')\"\n",
              "              title=\"Convert this dataframe to an interactive table.\"\n",
              "              style=\"display:none;\">\n",
              "\n",
              "  <svg xmlns=\"http://www.w3.org/2000/svg\" height=\"24px\"viewBox=\"0 0 24 24\"\n",
              "       width=\"24px\">\n",
              "    <path d=\"M0 0h24v24H0V0z\" fill=\"none\"/>\n",
              "    <path d=\"M18.56 5.44l.94 2.06.94-2.06 2.06-.94-2.06-.94-.94-2.06-.94 2.06-2.06.94zm-11 1L8.5 8.5l.94-2.06 2.06-.94-2.06-.94L8.5 2.5l-.94 2.06-2.06.94zm10 10l.94 2.06.94-2.06 2.06-.94-2.06-.94-.94-2.06-.94 2.06-2.06.94z\"/><path d=\"M17.41 7.96l-1.37-1.37c-.4-.4-.92-.59-1.43-.59-.52 0-1.04.2-1.43.59L10.3 9.45l-7.72 7.72c-.78.78-.78 2.05 0 2.83L4 21.41c.39.39.9.59 1.41.59.51 0 1.02-.2 1.41-.59l7.78-7.78 2.81-2.81c.8-.78.8-2.07 0-2.86zM5.41 20L4 18.59l7.72-7.72 1.47 1.35L5.41 20z\"/>\n",
              "  </svg>\n",
              "      </button>\n",
              "\n",
              "\n",
              "\n",
              "    <div id=\"df-6d2a781d-8e2f-42f1-a035-60f0fe70b942\">\n",
              "      <button class=\"colab-df-quickchart\" onclick=\"quickchart('df-6d2a781d-8e2f-42f1-a035-60f0fe70b942')\"\n",
              "              title=\"Suggest charts.\"\n",
              "              style=\"display:none;\">\n",
              "\n",
              "<svg xmlns=\"http://www.w3.org/2000/svg\" height=\"24px\"viewBox=\"0 0 24 24\"\n",
              "     width=\"24px\">\n",
              "    <g>\n",
              "        <path d=\"M19 3H5c-1.1 0-2 .9-2 2v14c0 1.1.9 2 2 2h14c1.1 0 2-.9 2-2V5c0-1.1-.9-2-2-2zM9 17H7v-7h2v7zm4 0h-2V7h2v10zm4 0h-2v-4h2v4z\"/>\n",
              "    </g>\n",
              "</svg>\n",
              "      </button>\n",
              "    </div>\n",
              "\n",
              "<style>\n",
              "  .colab-df-quickchart {\n",
              "    background-color: #E8F0FE;\n",
              "    border: none;\n",
              "    border-radius: 50%;\n",
              "    cursor: pointer;\n",
              "    display: none;\n",
              "    fill: #1967D2;\n",
              "    height: 32px;\n",
              "    padding: 0 0 0 0;\n",
              "    width: 32px;\n",
              "  }\n",
              "\n",
              "  .colab-df-quickchart:hover {\n",
              "    background-color: #E2EBFA;\n",
              "    box-shadow: 0px 1px 2px rgba(60, 64, 67, 0.3), 0px 1px 3px 1px rgba(60, 64, 67, 0.15);\n",
              "    fill: #174EA6;\n",
              "  }\n",
              "\n",
              "  [theme=dark] .colab-df-quickchart {\n",
              "    background-color: #3B4455;\n",
              "    fill: #D2E3FC;\n",
              "  }\n",
              "\n",
              "  [theme=dark] .colab-df-quickchart:hover {\n",
              "    background-color: #434B5C;\n",
              "    box-shadow: 0px 1px 3px 1px rgba(0, 0, 0, 0.15);\n",
              "    filter: drop-shadow(0px 1px 2px rgba(0, 0, 0, 0.3));\n",
              "    fill: #FFFFFF;\n",
              "  }\n",
              "</style>\n",
              "\n",
              "    <script>\n",
              "      async function quickchart(key) {\n",
              "        const containerElement = document.querySelector('#' + key);\n",
              "        const charts = await google.colab.kernel.invokeFunction(\n",
              "            'suggestCharts', [key], {});\n",
              "      }\n",
              "    </script>\n",
              "\n",
              "      <script>\n",
              "\n",
              "function displayQuickchartButton(domScope) {\n",
              "  let quickchartButtonEl =\n",
              "    domScope.querySelector('#df-6d2a781d-8e2f-42f1-a035-60f0fe70b942 button.colab-df-quickchart');\n",
              "  quickchartButtonEl.style.display =\n",
              "    google.colab.kernel.accessAllowed ? 'block' : 'none';\n",
              "}\n",
              "\n",
              "        displayQuickchartButton(document);\n",
              "      </script>\n",
              "      <style>\n",
              "    .colab-df-container {\n",
              "      display:flex;\n",
              "      flex-wrap:wrap;\n",
              "      gap: 12px;\n",
              "    }\n",
              "\n",
              "    .colab-df-convert {\n",
              "      background-color: #E8F0FE;\n",
              "      border: none;\n",
              "      border-radius: 50%;\n",
              "      cursor: pointer;\n",
              "      display: none;\n",
              "      fill: #1967D2;\n",
              "      height: 32px;\n",
              "      padding: 0 0 0 0;\n",
              "      width: 32px;\n",
              "    }\n",
              "\n",
              "    .colab-df-convert:hover {\n",
              "      background-color: #E2EBFA;\n",
              "      box-shadow: 0px 1px 2px rgba(60, 64, 67, 0.3), 0px 1px 3px 1px rgba(60, 64, 67, 0.15);\n",
              "      fill: #174EA6;\n",
              "    }\n",
              "\n",
              "    [theme=dark] .colab-df-convert {\n",
              "      background-color: #3B4455;\n",
              "      fill: #D2E3FC;\n",
              "    }\n",
              "\n",
              "    [theme=dark] .colab-df-convert:hover {\n",
              "      background-color: #434B5C;\n",
              "      box-shadow: 0px 1px 3px 1px rgba(0, 0, 0, 0.15);\n",
              "      filter: drop-shadow(0px 1px 2px rgba(0, 0, 0, 0.3));\n",
              "      fill: #FFFFFF;\n",
              "    }\n",
              "  </style>\n",
              "\n",
              "      <script>\n",
              "        const buttonEl =\n",
              "          document.querySelector('#df-8a0ab9d4-575e-466f-8bb5-30614e2f0dac button.colab-df-convert');\n",
              "        buttonEl.style.display =\n",
              "          google.colab.kernel.accessAllowed ? 'block' : 'none';\n",
              "\n",
              "        async function convertToInteractive(key) {\n",
              "          const element = document.querySelector('#df-8a0ab9d4-575e-466f-8bb5-30614e2f0dac');\n",
              "          const dataTable =\n",
              "            await google.colab.kernel.invokeFunction('convertToInteractive',\n",
              "                                                     [key], {});\n",
              "          if (!dataTable) return;\n",
              "\n",
              "          const docLinkHtml = 'Like what you see? Visit the ' +\n",
              "            '<a target=\"_blank\" href=https://colab.research.google.com/notebooks/data_table.ipynb>data table notebook</a>'\n",
              "            + ' to learn more about interactive tables.';\n",
              "          element.innerHTML = '';\n",
              "          dataTable['output_type'] = 'display_data';\n",
              "          await google.colab.output.renderOutput(dataTable, element);\n",
              "          const docLink = document.createElement('div');\n",
              "          docLink.innerHTML = docLinkHtml;\n",
              "          element.appendChild(docLink);\n",
              "        }\n",
              "      </script>\n",
              "    </div>\n",
              "  </div>\n"
            ]
          },
          "metadata": {},
          "execution_count": 91
        }
      ],
      "source": [
        "ann_df = pd.DataFrame({'Actual Price':y, 'Predicted Price':np.expm1(ann_pre.reshape(-1)), 'Difference':np.expm1(ann_pre.reshape(-1))-y})\n",
        "ann_df.head(10)"
      ]
    },
    {
      "cell_type": "code",
      "execution_count": 92,
      "metadata": {
        "colab": {
          "base_uri": "https://localhost:8080/",
          "height": 363
        },
        "id": "LWceJkGf2064",
        "outputId": "5dce68bb-d337-4562-8ce9-b2b6d3aec2c1"
      },
      "outputs": [
        {
          "output_type": "execute_result",
          "data": {
            "text/plain": [
              "   Actual Price  Linear Regression    Linear SVR  Polynomial SVR     XGBoost  \\\n",
              "0       8125000       7.542130e+06  8.713470e+06    1.525094e+07   8125048.5   \n",
              "1      34479000       3.334250e+07  3.425174e+07    3.344561e+07  34480732.0   \n",
              "2      37000000       3.718263e+07  3.346817e+07    4.088871e+07  39836256.0   \n",
              "3      57600000       5.436521e+07  5.253791e+07    3.376637e+07  51097232.0   \n",
              "4      14650000       1.645142e+07  1.778640e+07    2.265748e+07  14649377.0   \n",
              "5      13300000       1.372206e+07  1.463697e+07    3.324694e+07  11086926.0   \n",
              "6      32161000       3.093857e+07  2.991343e+07    3.353228e+07  32525250.0   \n",
              "7      29900000       3.654366e+07  3.699701e+07    3.347112e+07  30340642.0   \n",
              "8      23650000       2.955064e+07  2.859859e+07    3.352066e+07  26708552.0   \n",
              "9      21400000       2.098782e+07  2.094178e+07    2.324313e+07  21511084.0   \n",
              "\n",
              "          ANN  \n",
              "0   7824782.0  \n",
              "1  40414528.0  \n",
              "2  35789176.0  \n",
              "3  48716788.0  \n",
              "4  13911029.0  \n",
              "5  10768304.0  \n",
              "6  34023228.0  \n",
              "7  37407000.0  \n",
              "8  28042422.0  \n",
              "9  15498493.0  "
            ],
            "text/html": [
              "\n",
              "\n",
              "  <div id=\"df-b7d14740-c74e-4b2d-9e19-e9710f3a6e31\">\n",
              "    <div class=\"colab-df-container\">\n",
              "      <div>\n",
              "<style scoped>\n",
              "    .dataframe tbody tr th:only-of-type {\n",
              "        vertical-align: middle;\n",
              "    }\n",
              "\n",
              "    .dataframe tbody tr th {\n",
              "        vertical-align: top;\n",
              "    }\n",
              "\n",
              "    .dataframe thead th {\n",
              "        text-align: right;\n",
              "    }\n",
              "</style>\n",
              "<table border=\"1\" class=\"dataframe\">\n",
              "  <thead>\n",
              "    <tr style=\"text-align: right;\">\n",
              "      <th></th>\n",
              "      <th>Actual Price</th>\n",
              "      <th>Linear Regression</th>\n",
              "      <th>Linear SVR</th>\n",
              "      <th>Polynomial SVR</th>\n",
              "      <th>XGBoost</th>\n",
              "      <th>ANN</th>\n",
              "    </tr>\n",
              "  </thead>\n",
              "  <tbody>\n",
              "    <tr>\n",
              "      <th>0</th>\n",
              "      <td>8125000</td>\n",
              "      <td>7.542130e+06</td>\n",
              "      <td>8.713470e+06</td>\n",
              "      <td>1.525094e+07</td>\n",
              "      <td>8125048.5</td>\n",
              "      <td>7824782.0</td>\n",
              "    </tr>\n",
              "    <tr>\n",
              "      <th>1</th>\n",
              "      <td>34479000</td>\n",
              "      <td>3.334250e+07</td>\n",
              "      <td>3.425174e+07</td>\n",
              "      <td>3.344561e+07</td>\n",
              "      <td>34480732.0</td>\n",
              "      <td>40414528.0</td>\n",
              "    </tr>\n",
              "    <tr>\n",
              "      <th>2</th>\n",
              "      <td>37000000</td>\n",
              "      <td>3.718263e+07</td>\n",
              "      <td>3.346817e+07</td>\n",
              "      <td>4.088871e+07</td>\n",
              "      <td>39836256.0</td>\n",
              "      <td>35789176.0</td>\n",
              "    </tr>\n",
              "    <tr>\n",
              "      <th>3</th>\n",
              "      <td>57600000</td>\n",
              "      <td>5.436521e+07</td>\n",
              "      <td>5.253791e+07</td>\n",
              "      <td>3.376637e+07</td>\n",
              "      <td>51097232.0</td>\n",
              "      <td>48716788.0</td>\n",
              "    </tr>\n",
              "    <tr>\n",
              "      <th>4</th>\n",
              "      <td>14650000</td>\n",
              "      <td>1.645142e+07</td>\n",
              "      <td>1.778640e+07</td>\n",
              "      <td>2.265748e+07</td>\n",
              "      <td>14649377.0</td>\n",
              "      <td>13911029.0</td>\n",
              "    </tr>\n",
              "    <tr>\n",
              "      <th>5</th>\n",
              "      <td>13300000</td>\n",
              "      <td>1.372206e+07</td>\n",
              "      <td>1.463697e+07</td>\n",
              "      <td>3.324694e+07</td>\n",
              "      <td>11086926.0</td>\n",
              "      <td>10768304.0</td>\n",
              "    </tr>\n",
              "    <tr>\n",
              "      <th>6</th>\n",
              "      <td>32161000</td>\n",
              "      <td>3.093857e+07</td>\n",
              "      <td>2.991343e+07</td>\n",
              "      <td>3.353228e+07</td>\n",
              "      <td>32525250.0</td>\n",
              "      <td>34023228.0</td>\n",
              "    </tr>\n",
              "    <tr>\n",
              "      <th>7</th>\n",
              "      <td>29900000</td>\n",
              "      <td>3.654366e+07</td>\n",
              "      <td>3.699701e+07</td>\n",
              "      <td>3.347112e+07</td>\n",
              "      <td>30340642.0</td>\n",
              "      <td>37407000.0</td>\n",
              "    </tr>\n",
              "    <tr>\n",
              "      <th>8</th>\n",
              "      <td>23650000</td>\n",
              "      <td>2.955064e+07</td>\n",
              "      <td>2.859859e+07</td>\n",
              "      <td>3.352066e+07</td>\n",
              "      <td>26708552.0</td>\n",
              "      <td>28042422.0</td>\n",
              "    </tr>\n",
              "    <tr>\n",
              "      <th>9</th>\n",
              "      <td>21400000</td>\n",
              "      <td>2.098782e+07</td>\n",
              "      <td>2.094178e+07</td>\n",
              "      <td>2.324313e+07</td>\n",
              "      <td>21511084.0</td>\n",
              "      <td>15498493.0</td>\n",
              "    </tr>\n",
              "  </tbody>\n",
              "</table>\n",
              "</div>\n",
              "      <button class=\"colab-df-convert\" onclick=\"convertToInteractive('df-b7d14740-c74e-4b2d-9e19-e9710f3a6e31')\"\n",
              "              title=\"Convert this dataframe to an interactive table.\"\n",
              "              style=\"display:none;\">\n",
              "\n",
              "  <svg xmlns=\"http://www.w3.org/2000/svg\" height=\"24px\"viewBox=\"0 0 24 24\"\n",
              "       width=\"24px\">\n",
              "    <path d=\"M0 0h24v24H0V0z\" fill=\"none\"/>\n",
              "    <path d=\"M18.56 5.44l.94 2.06.94-2.06 2.06-.94-2.06-.94-.94-2.06-.94 2.06-2.06.94zm-11 1L8.5 8.5l.94-2.06 2.06-.94-2.06-.94L8.5 2.5l-.94 2.06-2.06.94zm10 10l.94 2.06.94-2.06 2.06-.94-2.06-.94-.94-2.06-.94 2.06-2.06.94z\"/><path d=\"M17.41 7.96l-1.37-1.37c-.4-.4-.92-.59-1.43-.59-.52 0-1.04.2-1.43.59L10.3 9.45l-7.72 7.72c-.78.78-.78 2.05 0 2.83L4 21.41c.39.39.9.59 1.41.59.51 0 1.02-.2 1.41-.59l7.78-7.78 2.81-2.81c.8-.78.8-2.07 0-2.86zM5.41 20L4 18.59l7.72-7.72 1.47 1.35L5.41 20z\"/>\n",
              "  </svg>\n",
              "      </button>\n",
              "\n",
              "\n",
              "\n",
              "    <div id=\"df-04f1d4e2-21c0-4271-a783-f9a3fb146885\">\n",
              "      <button class=\"colab-df-quickchart\" onclick=\"quickchart('df-04f1d4e2-21c0-4271-a783-f9a3fb146885')\"\n",
              "              title=\"Suggest charts.\"\n",
              "              style=\"display:none;\">\n",
              "\n",
              "<svg xmlns=\"http://www.w3.org/2000/svg\" height=\"24px\"viewBox=\"0 0 24 24\"\n",
              "     width=\"24px\">\n",
              "    <g>\n",
              "        <path d=\"M19 3H5c-1.1 0-2 .9-2 2v14c0 1.1.9 2 2 2h14c1.1 0 2-.9 2-2V5c0-1.1-.9-2-2-2zM9 17H7v-7h2v7zm4 0h-2V7h2v10zm4 0h-2v-4h2v4z\"/>\n",
              "    </g>\n",
              "</svg>\n",
              "      </button>\n",
              "    </div>\n",
              "\n",
              "<style>\n",
              "  .colab-df-quickchart {\n",
              "    background-color: #E8F0FE;\n",
              "    border: none;\n",
              "    border-radius: 50%;\n",
              "    cursor: pointer;\n",
              "    display: none;\n",
              "    fill: #1967D2;\n",
              "    height: 32px;\n",
              "    padding: 0 0 0 0;\n",
              "    width: 32px;\n",
              "  }\n",
              "\n",
              "  .colab-df-quickchart:hover {\n",
              "    background-color: #E2EBFA;\n",
              "    box-shadow: 0px 1px 2px rgba(60, 64, 67, 0.3), 0px 1px 3px 1px rgba(60, 64, 67, 0.15);\n",
              "    fill: #174EA6;\n",
              "  }\n",
              "\n",
              "  [theme=dark] .colab-df-quickchart {\n",
              "    background-color: #3B4455;\n",
              "    fill: #D2E3FC;\n",
              "  }\n",
              "\n",
              "  [theme=dark] .colab-df-quickchart:hover {\n",
              "    background-color: #434B5C;\n",
              "    box-shadow: 0px 1px 3px 1px rgba(0, 0, 0, 0.15);\n",
              "    filter: drop-shadow(0px 1px 2px rgba(0, 0, 0, 0.3));\n",
              "    fill: #FFFFFF;\n",
              "  }\n",
              "</style>\n",
              "\n",
              "    <script>\n",
              "      async function quickchart(key) {\n",
              "        const containerElement = document.querySelector('#' + key);\n",
              "        const charts = await google.colab.kernel.invokeFunction(\n",
              "            'suggestCharts', [key], {});\n",
              "      }\n",
              "    </script>\n",
              "\n",
              "      <script>\n",
              "\n",
              "function displayQuickchartButton(domScope) {\n",
              "  let quickchartButtonEl =\n",
              "    domScope.querySelector('#df-04f1d4e2-21c0-4271-a783-f9a3fb146885 button.colab-df-quickchart');\n",
              "  quickchartButtonEl.style.display =\n",
              "    google.colab.kernel.accessAllowed ? 'block' : 'none';\n",
              "}\n",
              "\n",
              "        displayQuickchartButton(document);\n",
              "      </script>\n",
              "      <style>\n",
              "    .colab-df-container {\n",
              "      display:flex;\n",
              "      flex-wrap:wrap;\n",
              "      gap: 12px;\n",
              "    }\n",
              "\n",
              "    .colab-df-convert {\n",
              "      background-color: #E8F0FE;\n",
              "      border: none;\n",
              "      border-radius: 50%;\n",
              "      cursor: pointer;\n",
              "      display: none;\n",
              "      fill: #1967D2;\n",
              "      height: 32px;\n",
              "      padding: 0 0 0 0;\n",
              "      width: 32px;\n",
              "    }\n",
              "\n",
              "    .colab-df-convert:hover {\n",
              "      background-color: #E2EBFA;\n",
              "      box-shadow: 0px 1px 2px rgba(60, 64, 67, 0.3), 0px 1px 3px 1px rgba(60, 64, 67, 0.15);\n",
              "      fill: #174EA6;\n",
              "    }\n",
              "\n",
              "    [theme=dark] .colab-df-convert {\n",
              "      background-color: #3B4455;\n",
              "      fill: #D2E3FC;\n",
              "    }\n",
              "\n",
              "    [theme=dark] .colab-df-convert:hover {\n",
              "      background-color: #434B5C;\n",
              "      box-shadow: 0px 1px 3px 1px rgba(0, 0, 0, 0.15);\n",
              "      filter: drop-shadow(0px 1px 2px rgba(0, 0, 0, 0.3));\n",
              "      fill: #FFFFFF;\n",
              "    }\n",
              "  </style>\n",
              "\n",
              "      <script>\n",
              "        const buttonEl =\n",
              "          document.querySelector('#df-b7d14740-c74e-4b2d-9e19-e9710f3a6e31 button.colab-df-convert');\n",
              "        buttonEl.style.display =\n",
              "          google.colab.kernel.accessAllowed ? 'block' : 'none';\n",
              "\n",
              "        async function convertToInteractive(key) {\n",
              "          const element = document.querySelector('#df-b7d14740-c74e-4b2d-9e19-e9710f3a6e31');\n",
              "          const dataTable =\n",
              "            await google.colab.kernel.invokeFunction('convertToInteractive',\n",
              "                                                     [key], {});\n",
              "          if (!dataTable) return;\n",
              "\n",
              "          const docLinkHtml = 'Like what you see? Visit the ' +\n",
              "            '<a target=\"_blank\" href=https://colab.research.google.com/notebooks/data_table.ipynb>data table notebook</a>'\n",
              "            + ' to learn more about interactive tables.';\n",
              "          element.innerHTML = '';\n",
              "          dataTable['output_type'] = 'display_data';\n",
              "          await google.colab.output.renderOutput(dataTable, element);\n",
              "          const docLink = document.createElement('div');\n",
              "          docLink.innerHTML = docLinkHtml;\n",
              "          element.appendChild(docLink);\n",
              "        }\n",
              "      </script>\n",
              "    </div>\n",
              "  </div>\n"
            ]
          },
          "metadata": {},
          "execution_count": 92
        }
      ],
      "source": [
        "df = pd.DataFrame({'Actual Price':y,\n",
        "                   'Linear Regression':np.expm1(lr_pre),\n",
        "                   'Linear SVR':np.expm1(svr_lr_pre),\n",
        "                   'Polynomial SVR':np.expm1(svr_pol_pre),\n",
        "                   'XGBoost':np.expm1(xgb_pre),\n",
        "                   'ANN':np.expm1(ann_pre.reshape(-1))})\n",
        "df.head(10)"
      ]
    }
  ],
  "metadata": {
    "colab": {
      "provenance": [],
      "toc_visible": true
    },
    "kernelspec": {
      "display_name": "Python 3",
      "name": "python3"
    },
    "language_info": {
      "name": "python"
    }
  },
  "nbformat": 4,
  "nbformat_minor": 0
}